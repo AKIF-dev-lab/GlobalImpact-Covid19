{
 "cells": [
  {
   "cell_type": "code",
   "execution_count": 131,
   "metadata": {},
   "outputs": [],
   "source": [
    "import pandas as pd\n",
    "import dash\n",
    "from dash import dcc, html, callback\n",
    "import plotly.express as px\n",
    "from dash.dependencies import Input, Output\n",
    "import country_converter as cc\n",
    "\n",
    "# dash.register_page(__name__, path='/gdp_economic', name=\"GDP and Economic Growth\", order=3)"
   ]
  },
  {
   "cell_type": "code",
   "execution_count": 132,
   "metadata": {},
   "outputs": [
    {
     "data": {
      "text/html": [
       "<div>\n",
       "<style scoped>\n",
       "    .dataframe tbody tr th:only-of-type {\n",
       "        vertical-align: middle;\n",
       "    }\n",
       "\n",
       "    .dataframe tbody tr th {\n",
       "        vertical-align: top;\n",
       "    }\n",
       "\n",
       "    .dataframe thead th {\n",
       "        text-align: right;\n",
       "    }\n",
       "</style>\n",
       "<table border=\"1\" class=\"dataframe\">\n",
       "  <thead>\n",
       "    <tr style=\"text-align: right;\">\n",
       "      <th></th>\n",
       "      <th>Series Name</th>\n",
       "      <th>Series Code</th>\n",
       "      <th>Country Name</th>\n",
       "      <th>Country Code</th>\n",
       "      <th>2010 [YR2010]</th>\n",
       "      <th>2011 [YR2011]</th>\n",
       "      <th>2012 [YR2012]</th>\n",
       "      <th>2013 [YR2013]</th>\n",
       "      <th>2014 [YR2014]</th>\n",
       "      <th>2015 [YR2015]</th>\n",
       "      <th>2016 [YR2016]</th>\n",
       "      <th>2017 [YR2017]</th>\n",
       "      <th>2018 [YR2018]</th>\n",
       "      <th>2019 [YR2019]</th>\n",
       "      <th>2020 [YR2020]</th>\n",
       "      <th>2021 [YR2021]</th>\n",
       "      <th>2022 [YR2022]</th>\n",
       "      <th>2023 [YR2023]</th>\n",
       "    </tr>\n",
       "  </thead>\n",
       "  <tbody>\n",
       "    <tr>\n",
       "      <th>0</th>\n",
       "      <td>GDP (current US$)</td>\n",
       "      <td>NY.GDP.MKTP.CD</td>\n",
       "      <td>Afghanistan</td>\n",
       "      <td>AFG</td>\n",
       "      <td>15856668555.8336</td>\n",
       "      <td>17805098206.3141</td>\n",
       "      <td>19907329777.5872</td>\n",
       "      <td>20146416757.5987</td>\n",
       "      <td>20497128555.6972</td>\n",
       "      <td>19134221644.7325</td>\n",
       "      <td>18116572395.0772</td>\n",
       "      <td>18753456497.8159</td>\n",
       "      <td>18053222687.4126</td>\n",
       "      <td>18799444490.1128</td>\n",
       "      <td>19955929052.1496</td>\n",
       "      <td>14266499429.8746</td>\n",
       "      <td>14502158192.0904</td>\n",
       "      <td>..</td>\n",
       "    </tr>\n",
       "    <tr>\n",
       "      <th>1</th>\n",
       "      <td>GDP (current US$)</td>\n",
       "      <td>NY.GDP.MKTP.CD</td>\n",
       "      <td>Albania</td>\n",
       "      <td>ALB</td>\n",
       "      <td>11926926615.8015</td>\n",
       "      <td>12890760315.146</td>\n",
       "      <td>12319834195.331</td>\n",
       "      <td>12776224496.9718</td>\n",
       "      <td>13228147516.1168</td>\n",
       "      <td>11386853113.0189</td>\n",
       "      <td>11861199830.8396</td>\n",
       "      <td>13019726211.7369</td>\n",
       "      <td>15156424015.1977</td>\n",
       "      <td>15401826127.2539</td>\n",
       "      <td>15162734205.2462</td>\n",
       "      <td>17930565118.8176</td>\n",
       "      <td>18916378860.5488</td>\n",
       "      <td>22977677860.7979</td>\n",
       "    </tr>\n",
       "    <tr>\n",
       "      <th>2</th>\n",
       "      <td>GDP (current US$)</td>\n",
       "      <td>NY.GDP.MKTP.CD</td>\n",
       "      <td>Algeria</td>\n",
       "      <td>DZA</td>\n",
       "      <td>177785053939.531</td>\n",
       "      <td>218331946925.304</td>\n",
       "      <td>227143746075.934</td>\n",
       "      <td>229701430292.157</td>\n",
       "      <td>238942664192.59</td>\n",
       "      <td>187493855609.345</td>\n",
       "      <td>180763839522.151</td>\n",
       "      <td>189880896903.073</td>\n",
       "      <td>194554483655.528</td>\n",
       "      <td>193459662090.677</td>\n",
       "      <td>164873415325.201</td>\n",
       "      <td>186265418570.697</td>\n",
       "      <td>225560256621.757</td>\n",
       "      <td>239899491127.742</td>\n",
       "    </tr>\n",
       "    <tr>\n",
       "      <th>3</th>\n",
       "      <td>GDP (current US$)</td>\n",
       "      <td>NY.GDP.MKTP.CD</td>\n",
       "      <td>American Samoa</td>\n",
       "      <td>ASM</td>\n",
       "      <td>573000000</td>\n",
       "      <td>570000000</td>\n",
       "      <td>640000000</td>\n",
       "      <td>638000000</td>\n",
       "      <td>643000000</td>\n",
       "      <td>673000000</td>\n",
       "      <td>671000000</td>\n",
       "      <td>612000000</td>\n",
       "      <td>639000000</td>\n",
       "      <td>647000000</td>\n",
       "      <td>721000000</td>\n",
       "      <td>750000000</td>\n",
       "      <td>871000000</td>\n",
       "      <td>..</td>\n",
       "    </tr>\n",
       "    <tr>\n",
       "      <th>4</th>\n",
       "      <td>GDP (current US$)</td>\n",
       "      <td>NY.GDP.MKTP.CD</td>\n",
       "      <td>Andorra</td>\n",
       "      <td>AND</td>\n",
       "      <td>3449925738.86069</td>\n",
       "      <td>3629133574.27783</td>\n",
       "      <td>3188652765.36184</td>\n",
       "      <td>3193512950.02419</td>\n",
       "      <td>3271685596.66321</td>\n",
       "      <td>2789881258.50362</td>\n",
       "      <td>2896610479.73077</td>\n",
       "      <td>3000162081.11976</td>\n",
       "      <td>3218419896.9641</td>\n",
       "      <td>3155149347.80639</td>\n",
       "      <td>2891001149.3611</td>\n",
       "      <td>3324683011.5903</td>\n",
       "      <td>3380602042.84283</td>\n",
       "      <td>3727673593.01922</td>\n",
       "    </tr>\n",
       "    <tr>\n",
       "      <th>...</th>\n",
       "      <td>...</td>\n",
       "      <td>...</td>\n",
       "      <td>...</td>\n",
       "      <td>...</td>\n",
       "      <td>...</td>\n",
       "      <td>...</td>\n",
       "      <td>...</td>\n",
       "      <td>...</td>\n",
       "      <td>...</td>\n",
       "      <td>...</td>\n",
       "      <td>...</td>\n",
       "      <td>...</td>\n",
       "      <td>...</td>\n",
       "      <td>...</td>\n",
       "      <td>...</td>\n",
       "      <td>...</td>\n",
       "      <td>...</td>\n",
       "      <td>...</td>\n",
       "    </tr>\n",
       "    <tr>\n",
       "      <th>261</th>\n",
       "      <td>GDP (current US$)</td>\n",
       "      <td>NY.GDP.MKTP.CD</td>\n",
       "      <td>Sub-Saharan Africa</td>\n",
       "      <td>SSF</td>\n",
       "      <td>1448107365068.66</td>\n",
       "      <td>1627672472377.66</td>\n",
       "      <td>1690475240154.75</td>\n",
       "      <td>1797507885741.07</td>\n",
       "      <td>1874275100667.03</td>\n",
       "      <td>1668662993704.66</td>\n",
       "      <td>1522011045162.78</td>\n",
       "      <td>1625855640496.81</td>\n",
       "      <td>1780908927291.34</td>\n",
       "      <td>1830460925279.6</td>\n",
       "      <td>1716220805506.51</td>\n",
       "      <td>1932765211586.67</td>\n",
       "      <td>2061102939319.23</td>\n",
       "      <td>2032749202553.06</td>\n",
       "    </tr>\n",
       "    <tr>\n",
       "      <th>262</th>\n",
       "      <td>GDP (current US$)</td>\n",
       "      <td>NY.GDP.MKTP.CD</td>\n",
       "      <td>Sub-Saharan Africa (excluding high income)</td>\n",
       "      <td>SSA</td>\n",
       "      <td>1447125748526.33</td>\n",
       "      <td>1626613553670.39</td>\n",
       "      <td>1689385832315.55</td>\n",
       "      <td>1796174725333.69</td>\n",
       "      <td>1872887522796.95</td>\n",
       "      <td>1667230590352.53</td>\n",
       "      <td>1520442531814.64</td>\n",
       "      <td>1624180269855.8</td>\n",
       "      <td>1779124613364.58</td>\n",
       "      <td>1828592235182.87</td>\n",
       "      <td>1714838253754.94</td>\n",
       "      <td>1931278037791.87</td>\n",
       "      <td>2059044970799.4</td>\n",
       "      <td>2030607752381.92</td>\n",
       "    </tr>\n",
       "    <tr>\n",
       "      <th>263</th>\n",
       "      <td>GDP (current US$)</td>\n",
       "      <td>NY.GDP.MKTP.CD</td>\n",
       "      <td>Sub-Saharan Africa (IDA &amp; IBRD countries)</td>\n",
       "      <td>TSS</td>\n",
       "      <td>1448107365068.66</td>\n",
       "      <td>1627672472377.66</td>\n",
       "      <td>1690475240154.75</td>\n",
       "      <td>1797507885741.07</td>\n",
       "      <td>1874275100667.03</td>\n",
       "      <td>1668662993704.66</td>\n",
       "      <td>1522011045162.78</td>\n",
       "      <td>1625855640496.81</td>\n",
       "      <td>1780908927291.34</td>\n",
       "      <td>1830460925279.6</td>\n",
       "      <td>1716220805506.51</td>\n",
       "      <td>1932765211586.67</td>\n",
       "      <td>2061102939319.23</td>\n",
       "      <td>2032749202553.06</td>\n",
       "    </tr>\n",
       "    <tr>\n",
       "      <th>264</th>\n",
       "      <td>GDP (current US$)</td>\n",
       "      <td>NY.GDP.MKTP.CD</td>\n",
       "      <td>Upper middle income</td>\n",
       "      <td>UMC</td>\n",
       "      <td>14630255984971</td>\n",
       "      <td>17496066354586.1</td>\n",
       "      <td>18674953139164.7</td>\n",
       "      <td>19833760666069.5</td>\n",
       "      <td>20590348415303.8</td>\n",
       "      <td>19827996310186</td>\n",
       "      <td>19905034053844</td>\n",
       "      <td>21837271216675.9</td>\n",
       "      <td>23304307154243.2</td>\n",
       "      <td>23700366929893.4</td>\n",
       "      <td>22969949394569.8</td>\n",
       "      <td>27373038582479.3</td>\n",
       "      <td>28567593041349.3</td>\n",
       "      <td>29403677430761.3</td>\n",
       "    </tr>\n",
       "    <tr>\n",
       "      <th>265</th>\n",
       "      <td>GDP (current US$)</td>\n",
       "      <td>NY.GDP.MKTP.CD</td>\n",
       "      <td>World</td>\n",
       "      <td>WLD</td>\n",
       "      <td>66514174634776</td>\n",
       "      <td>73957792909770.5</td>\n",
       "      <td>75603976718162.8</td>\n",
       "      <td>77751368312765.5</td>\n",
       "      <td>79894385759929.2</td>\n",
       "      <td>75359657218242.5</td>\n",
       "      <td>76588030455295.5</td>\n",
       "      <td>81550955754739.3</td>\n",
       "      <td>86686870786621.5</td>\n",
       "      <td>87945574337517.8</td>\n",
       "      <td>85577718250195.5</td>\n",
       "      <td>97527032881901.1</td>\n",
       "      <td>101225059591363</td>\n",
       "      <td>105435039507024</td>\n",
       "    </tr>\n",
       "  </tbody>\n",
       "</table>\n",
       "<p>266 rows × 18 columns</p>\n",
       "</div>"
      ],
      "text/plain": [
       "           Series Name     Series Code  \\\n",
       "0    GDP (current US$)  NY.GDP.MKTP.CD   \n",
       "1    GDP (current US$)  NY.GDP.MKTP.CD   \n",
       "2    GDP (current US$)  NY.GDP.MKTP.CD   \n",
       "3    GDP (current US$)  NY.GDP.MKTP.CD   \n",
       "4    GDP (current US$)  NY.GDP.MKTP.CD   \n",
       "..                 ...             ...   \n",
       "261  GDP (current US$)  NY.GDP.MKTP.CD   \n",
       "262  GDP (current US$)  NY.GDP.MKTP.CD   \n",
       "263  GDP (current US$)  NY.GDP.MKTP.CD   \n",
       "264  GDP (current US$)  NY.GDP.MKTP.CD   \n",
       "265  GDP (current US$)  NY.GDP.MKTP.CD   \n",
       "\n",
       "                                   Country Name Country Code  \\\n",
       "0                                   Afghanistan          AFG   \n",
       "1                                       Albania          ALB   \n",
       "2                                       Algeria          DZA   \n",
       "3                                American Samoa          ASM   \n",
       "4                                       Andorra          AND   \n",
       "..                                          ...          ...   \n",
       "261                          Sub-Saharan Africa          SSF   \n",
       "262  Sub-Saharan Africa (excluding high income)          SSA   \n",
       "263   Sub-Saharan Africa (IDA & IBRD countries)          TSS   \n",
       "264                         Upper middle income          UMC   \n",
       "265                                       World          WLD   \n",
       "\n",
       "        2010 [YR2010]     2011 [YR2011]     2012 [YR2012]     2013 [YR2013]  \\\n",
       "0    15856668555.8336  17805098206.3141  19907329777.5872  20146416757.5987   \n",
       "1    11926926615.8015   12890760315.146   12319834195.331  12776224496.9718   \n",
       "2    177785053939.531  218331946925.304  227143746075.934  229701430292.157   \n",
       "3           573000000         570000000         640000000         638000000   \n",
       "4    3449925738.86069  3629133574.27783  3188652765.36184  3193512950.02419   \n",
       "..                ...               ...               ...               ...   \n",
       "261  1448107365068.66  1627672472377.66  1690475240154.75  1797507885741.07   \n",
       "262  1447125748526.33  1626613553670.39  1689385832315.55  1796174725333.69   \n",
       "263  1448107365068.66  1627672472377.66  1690475240154.75  1797507885741.07   \n",
       "264    14630255984971  17496066354586.1  18674953139164.7  19833760666069.5   \n",
       "265    66514174634776  73957792909770.5  75603976718162.8  77751368312765.5   \n",
       "\n",
       "        2014 [YR2014]     2015 [YR2015]     2016 [YR2016]     2017 [YR2017]  \\\n",
       "0    20497128555.6972  19134221644.7325  18116572395.0772  18753456497.8159   \n",
       "1    13228147516.1168  11386853113.0189  11861199830.8396  13019726211.7369   \n",
       "2     238942664192.59  187493855609.345  180763839522.151  189880896903.073   \n",
       "3           643000000         673000000         671000000         612000000   \n",
       "4    3271685596.66321  2789881258.50362  2896610479.73077  3000162081.11976   \n",
       "..                ...               ...               ...               ...   \n",
       "261  1874275100667.03  1668662993704.66  1522011045162.78  1625855640496.81   \n",
       "262  1872887522796.95  1667230590352.53  1520442531814.64   1624180269855.8   \n",
       "263  1874275100667.03  1668662993704.66  1522011045162.78  1625855640496.81   \n",
       "264  20590348415303.8    19827996310186    19905034053844  21837271216675.9   \n",
       "265  79894385759929.2  75359657218242.5  76588030455295.5  81550955754739.3   \n",
       "\n",
       "        2018 [YR2018]     2019 [YR2019]     2020 [YR2020]     2021 [YR2021]  \\\n",
       "0    18053222687.4126  18799444490.1128  19955929052.1496  14266499429.8746   \n",
       "1    15156424015.1977  15401826127.2539  15162734205.2462  17930565118.8176   \n",
       "2    194554483655.528  193459662090.677  164873415325.201  186265418570.697   \n",
       "3           639000000         647000000         721000000         750000000   \n",
       "4     3218419896.9641  3155149347.80639   2891001149.3611   3324683011.5903   \n",
       "..                ...               ...               ...               ...   \n",
       "261  1780908927291.34   1830460925279.6  1716220805506.51  1932765211586.67   \n",
       "262  1779124613364.58  1828592235182.87  1714838253754.94  1931278037791.87   \n",
       "263  1780908927291.34   1830460925279.6  1716220805506.51  1932765211586.67   \n",
       "264  23304307154243.2  23700366929893.4  22969949394569.8  27373038582479.3   \n",
       "265  86686870786621.5  87945574337517.8  85577718250195.5  97527032881901.1   \n",
       "\n",
       "        2022 [YR2022]     2023 [YR2023]  \n",
       "0    14502158192.0904                ..  \n",
       "1    18916378860.5488  22977677860.7979  \n",
       "2    225560256621.757  239899491127.742  \n",
       "3           871000000                ..  \n",
       "4    3380602042.84283  3727673593.01922  \n",
       "..                ...               ...  \n",
       "261  2061102939319.23  2032749202553.06  \n",
       "262   2059044970799.4  2030607752381.92  \n",
       "263  2061102939319.23  2032749202553.06  \n",
       "264  28567593041349.3  29403677430761.3  \n",
       "265   101225059591363   105435039507024  \n",
       "\n",
       "[266 rows x 18 columns]"
      ]
     },
     "execution_count": 132,
     "metadata": {},
     "output_type": "execute_result"
    }
   ],
   "source": [
    "# data = pd.read_csv(\"/Users/prachikansal/Desktop/centrale med/mock project/GlobalImpact-Covid19/data/API_NY.GDP.MKTP.KD.ZG_DS2_en_csv_v2_31631.csv\", sep=',', skiprows=4, header=None)\n",
    "data = pd.read_csv(\"/Users/prachikansal/Desktop/centrale med/mock project/GlobalImpact-Covid19/data/gdp_data.csv\", sep=',')\n",
    "data = data.drop(data.index[-1:-6:-1]) # As the last 5 rows are blank and just contain null values, drop them\n",
    "data \n",
    "\n",
    "# link to the dataset: https://databank.worldbank.org/reports.aspx?source=2&series=NY.GDP.MKTP.CD&country=#"
   ]
  },
  {
   "cell_type": "code",
   "execution_count": 133,
   "metadata": {},
   "outputs": [
    {
     "data": {
      "text/plain": [
       "'\\nThe dataset contains GDP data for 268 countries, from the year 1960-2023. We only consider data from the past decade, so 2010-2023. \\n2010-2019 is grouped as the Pre-Covid era.\\n2020, 2021 are visualized individually to study the pattern of GDP accurately\\n2022-2023 is grouped as the Post-Covid era.\\n'"
      ]
     },
     "execution_count": 133,
     "metadata": {},
     "output_type": "execute_result"
    }
   ],
   "source": [
    "years = [\"2010\",\"2011\",\"2012\",\"2013\",\"2014\",\"2015\",\"2016\",\"2017\",\"2018\",\"2019\",\"2020\",\"2021\",\"2022\",\"2023\"]\n",
    "for year in years:\n",
    "    data.rename(columns={f'{year} [YR{year}]': f'{year}'}, inplace=True)\n",
    "\n",
    "pre_covid_years = [\"2010\",\"2011\",\"2012\",\"2013\",\"2014\",\"2015\",\"2016\",\"2017\",\"2018\",\"2019\"]\n",
    "post_covid_years = [\"2022\",\"2023\"]\n",
    "\n",
    "data['Pre_Covid'] = data[pre_covid_years].apply(pd.to_numeric, errors = 'coerce').mean(axis=1)\n",
    "data['Post_Covid'] = data[post_covid_years].apply(pd.to_numeric, errors = 'coerce').mean(axis=1)\n",
    "\n",
    "selected_columns = [\"Country Name\",\"Pre_Covid\",\"2020\",\"2021\",\"Post_Covid\"]\n",
    "filtered_data = data[selected_columns]\n",
    "\n",
    "'''\n",
    "The dataset contains GDP data for 268 countries, from the year 1960-2023. We only consider data from the past decade, so 2010-2023. \n",
    "2010-2019 is grouped as the Pre-Covid era.\n",
    "2020, 2021 are visualized individually to study the pattern of GDP accurately\n",
    "2022-2023 is grouped as the Post-Covid era.\n",
    "'''\n"
   ]
  },
  {
   "cell_type": "code",
   "execution_count": 134,
   "metadata": {},
   "outputs": [
    {
     "data": {
      "text/html": [
       "<div>\n",
       "<style scoped>\n",
       "    .dataframe tbody tr th:only-of-type {\n",
       "        vertical-align: middle;\n",
       "    }\n",
       "\n",
       "    .dataframe tbody tr th {\n",
       "        vertical-align: top;\n",
       "    }\n",
       "\n",
       "    .dataframe thead th {\n",
       "        text-align: right;\n",
       "    }\n",
       "</style>\n",
       "<table border=\"1\" class=\"dataframe\">\n",
       "  <thead>\n",
       "    <tr style=\"text-align: right;\">\n",
       "      <th></th>\n",
       "      <th>Country Name</th>\n",
       "      <th>Pre_Covid</th>\n",
       "      <th>2020</th>\n",
       "      <th>2021</th>\n",
       "      <th>Post_Covid</th>\n",
       "    </tr>\n",
       "  </thead>\n",
       "  <tbody>\n",
       "    <tr>\n",
       "      <th>0</th>\n",
       "      <td>Afghanistan</td>\n",
       "      <td>1.870696e+10</td>\n",
       "      <td>19955929052.1496</td>\n",
       "      <td>14266499429.8746</td>\n",
       "      <td>1.450216e+10</td>\n",
       "    </tr>\n",
       "    <tr>\n",
       "      <th>1</th>\n",
       "      <td>Albania</td>\n",
       "      <td>1.299679e+10</td>\n",
       "      <td>15162734205.2462</td>\n",
       "      <td>17930565118.8176</td>\n",
       "      <td>2.094703e+10</td>\n",
       "    </tr>\n",
       "    <tr>\n",
       "      <th>2</th>\n",
       "      <td>Algeria</td>\n",
       "      <td>2.038058e+11</td>\n",
       "      <td>164873415325.201</td>\n",
       "      <td>186265418570.697</td>\n",
       "      <td>2.327299e+11</td>\n",
       "    </tr>\n",
       "    <tr>\n",
       "      <th>3</th>\n",
       "      <td>American Samoa</td>\n",
       "      <td>6.306000e+08</td>\n",
       "      <td>721000000</td>\n",
       "      <td>750000000</td>\n",
       "      <td>8.710000e+08</td>\n",
       "    </tr>\n",
       "    <tr>\n",
       "      <th>4</th>\n",
       "      <td>Andorra</td>\n",
       "      <td>3.179313e+09</td>\n",
       "      <td>2891001149.3611</td>\n",
       "      <td>3324683011.5903</td>\n",
       "      <td>3.554138e+09</td>\n",
       "    </tr>\n",
       "    <tr>\n",
       "      <th>...</th>\n",
       "      <td>...</td>\n",
       "      <td>...</td>\n",
       "      <td>...</td>\n",
       "      <td>...</td>\n",
       "      <td>...</td>\n",
       "    </tr>\n",
       "    <tr>\n",
       "      <th>261</th>\n",
       "      <td>Sub-Saharan Africa</td>\n",
       "      <td>1.686594e+12</td>\n",
       "      <td>1716220805506.51</td>\n",
       "      <td>1932765211586.67</td>\n",
       "      <td>2.046926e+12</td>\n",
       "    </tr>\n",
       "    <tr>\n",
       "      <th>262</th>\n",
       "      <td>Sub-Saharan Africa (excluding high income)</td>\n",
       "      <td>1.685176e+12</td>\n",
       "      <td>1714838253754.94</td>\n",
       "      <td>1931278037791.87</td>\n",
       "      <td>2.044826e+12</td>\n",
       "    </tr>\n",
       "    <tr>\n",
       "      <th>263</th>\n",
       "      <td>Sub-Saharan Africa (IDA &amp; IBRD countries)</td>\n",
       "      <td>1.686594e+12</td>\n",
       "      <td>1716220805506.51</td>\n",
       "      <td>1932765211586.67</td>\n",
       "      <td>2.046926e+12</td>\n",
       "    </tr>\n",
       "    <tr>\n",
       "      <th>264</th>\n",
       "      <td>Upper middle income</td>\n",
       "      <td>1.998004e+13</td>\n",
       "      <td>22969949394569.8</td>\n",
       "      <td>27373038582479.3</td>\n",
       "      <td>2.898564e+13</td>\n",
       "    </tr>\n",
       "    <tr>\n",
       "      <th>265</th>\n",
       "      <td>World</td>\n",
       "      <td>7.818528e+13</td>\n",
       "      <td>85577718250195.5</td>\n",
       "      <td>97527032881901.1</td>\n",
       "      <td>1.033300e+14</td>\n",
       "    </tr>\n",
       "  </tbody>\n",
       "</table>\n",
       "<p>266 rows × 5 columns</p>\n",
       "</div>"
      ],
      "text/plain": [
       "                                   Country Name     Pre_Covid  \\\n",
       "0                                   Afghanistan  1.870696e+10   \n",
       "1                                       Albania  1.299679e+10   \n",
       "2                                       Algeria  2.038058e+11   \n",
       "3                                American Samoa  6.306000e+08   \n",
       "4                                       Andorra  3.179313e+09   \n",
       "..                                          ...           ...   \n",
       "261                          Sub-Saharan Africa  1.686594e+12   \n",
       "262  Sub-Saharan Africa (excluding high income)  1.685176e+12   \n",
       "263   Sub-Saharan Africa (IDA & IBRD countries)  1.686594e+12   \n",
       "264                         Upper middle income  1.998004e+13   \n",
       "265                                       World  7.818528e+13   \n",
       "\n",
       "                 2020              2021    Post_Covid  \n",
       "0    19955929052.1496  14266499429.8746  1.450216e+10  \n",
       "1    15162734205.2462  17930565118.8176  2.094703e+10  \n",
       "2    164873415325.201  186265418570.697  2.327299e+11  \n",
       "3           721000000         750000000  8.710000e+08  \n",
       "4     2891001149.3611   3324683011.5903  3.554138e+09  \n",
       "..                ...               ...           ...  \n",
       "261  1716220805506.51  1932765211586.67  2.046926e+12  \n",
       "262  1714838253754.94  1931278037791.87  2.044826e+12  \n",
       "263  1716220805506.51  1932765211586.67  2.046926e+12  \n",
       "264  22969949394569.8  27373038582479.3  2.898564e+13  \n",
       "265  85577718250195.5  97527032881901.1  1.033300e+14  \n",
       "\n",
       "[266 rows x 5 columns]"
      ]
     },
     "execution_count": 134,
     "metadata": {},
     "output_type": "execute_result"
    }
   ],
   "source": [
    "filtered_data"
   ]
  },
  {
   "cell_type": "code",
   "execution_count": 135,
   "metadata": {},
   "outputs": [],
   "source": [
    "@callback(Output(\"gdp_graph\", \"figure\"), [Input(\"country\", \"value\"), ])\n",
    "def update_chart(dist_column):\n",
    "    return create_gdp_line_chart(data)\n"
   ]
  },
  {
   "cell_type": "code",
   "execution_count": 136,
   "metadata": {},
   "outputs": [],
   "source": [
    "def create_gdp_line_chart(data):\n",
    "  fig = px.line(data, \n",
    "                x = 'Year',\n",
    "                y = 'GDP',\n",
    "                color='Country Name',\n",
    "                title='Impact of Covid-19 on GDP',\n",
    "                labels={'Year': 'Phase', 'GDP': 'GDP (in USD)'},\n",
    "                markers=True)\n",
    "  return fig"
   ]
  },
  {
   "cell_type": "code",
   "execution_count": 137,
   "metadata": {},
   "outputs": [
    {
     "data": {
      "application/vnd.plotly.v1+json": {
       "config": {
        "plotlyServerURL": "https://plot.ly"
       },
       "data": [
        {
         "hovertemplate": "Country Name=Afghanistan<br>Phase=%{x}<br>GDP (in USD)=%{y}<extra></extra>",
         "legendgroup": "Afghanistan",
         "line": {
          "color": "#636efa",
          "dash": "solid"
         },
         "marker": {
          "symbol": "circle"
         },
         "mode": "lines+markers",
         "name": "Afghanistan",
         "showlegend": true,
         "type": "scattergl",
         "x": [
          "Pre_Covid",
          "2020",
          "2021",
          "Post_Covid"
         ],
         "xaxis": "x",
         "y": [
          18706955956.818176,
          "19955929052.1496",
          "14266499429.8746",
          14502158192.0904
         ],
         "yaxis": "y"
        },
        {
         "hovertemplate": "Country Name=Albania<br>Phase=%{x}<br>GDP (in USD)=%{y}<extra></extra>",
         "legendgroup": "Albania",
         "line": {
          "color": "#EF553B",
          "dash": "solid"
         },
         "marker": {
          "symbol": "circle"
         },
         "mode": "lines+markers",
         "name": "Albania",
         "showlegend": true,
         "type": "scattergl",
         "x": [
          "Pre_Covid",
          "2020",
          "2021",
          "Post_Covid"
         ],
         "xaxis": "x",
         "y": [
          12996792243.741413,
          "15162734205.2462",
          "17930565118.8176",
          20947028360.67335
         ],
         "yaxis": "y"
        },
        {
         "hovertemplate": "Country Name=Algeria<br>Phase=%{x}<br>GDP (in USD)=%{y}<extra></extra>",
         "legendgroup": "Algeria",
         "line": {
          "color": "#00cc96",
          "dash": "solid"
         },
         "marker": {
          "symbol": "circle"
         },
         "mode": "lines+markers",
         "name": "Algeria",
         "showlegend": true,
         "type": "scattergl",
         "x": [
          "Pre_Covid",
          "2020",
          "2021",
          "Post_Covid"
         ],
         "xaxis": "x",
         "y": [
          203805757920.629,
          "164873415325.201",
          "186265418570.697",
          232729873874.7495
         ],
         "yaxis": "y"
        },
        {
         "hovertemplate": "Country Name=American Samoa<br>Phase=%{x}<br>GDP (in USD)=%{y}<extra></extra>",
         "legendgroup": "American Samoa",
         "line": {
          "color": "#ab63fa",
          "dash": "solid"
         },
         "marker": {
          "symbol": "circle"
         },
         "mode": "lines+markers",
         "name": "American Samoa",
         "showlegend": true,
         "type": "scattergl",
         "x": [
          "Pre_Covid",
          "2020",
          "2021",
          "Post_Covid"
         ],
         "xaxis": "x",
         "y": [
          630600000,
          "721000000",
          "750000000",
          871000000
         ],
         "yaxis": "y"
        },
        {
         "hovertemplate": "Country Name=Andorra<br>Phase=%{x}<br>GDP (in USD)=%{y}<extra></extra>",
         "legendgroup": "Andorra",
         "line": {
          "color": "#FFA15A",
          "dash": "solid"
         },
         "marker": {
          "symbol": "circle"
         },
         "mode": "lines+markers",
         "name": "Andorra",
         "showlegend": true,
         "type": "scattergl",
         "x": [
          "Pre_Covid",
          "2020",
          "2021",
          "Post_Covid"
         ],
         "xaxis": "x",
         "y": [
          3179313368.93124,
          "2891001149.3611",
          "3324683011.5903",
          3554137817.931025
         ],
         "yaxis": "y"
        },
        {
         "hovertemplate": "Country Name=Angola<br>Phase=%{x}<br>GDP (in USD)=%{y}<extra></extra>",
         "legendgroup": "Angola",
         "line": {
          "color": "#19d3f3",
          "dash": "solid"
         },
         "marker": {
          "symbol": "circle"
         },
         "mode": "lines+markers",
         "name": "Angola",
         "showlegend": true,
         "type": "scattergl",
         "x": [
          "Pre_Covid",
          "2020",
          "2021",
          "Post_Covid"
         ],
         "xaxis": "x",
         "y": [
          95924489284.82558,
          "48501561203.5686",
          "66505129987.7235",
          94561352247.88835
         ],
         "yaxis": "y"
        },
        {
         "hovertemplate": "Country Name=Antigua and Barbuda<br>Phase=%{x}<br>GDP (in USD)=%{y}<extra></extra>",
         "legendgroup": "Antigua and Barbuda",
         "line": {
          "color": "#FF6692",
          "dash": "solid"
         },
         "marker": {
          "symbol": "circle"
         },
         "mode": "lines+markers",
         "name": "Antigua and Barbuda",
         "showlegend": true,
         "type": "scattergl",
         "x": [
          "Pre_Covid",
          "2020",
          "2021",
          "Post_Covid"
         ],
         "xaxis": "x",
         "y": [
          1445643703.703705,
          "1410796296.2963",
          "1601366666.66667",
          1950409259.259255
         ],
         "yaxis": "y"
        },
        {
         "hovertemplate": "Country Name=Argentina<br>Phase=%{x}<br>GDP (in USD)=%{y}<extra></extra>",
         "legendgroup": "Argentina",
         "line": {
          "color": "#B6E880",
          "dash": "solid"
         },
         "marker": {
          "symbol": "circle"
         },
         "mode": "lines+markers",
         "name": "Argentina",
         "showlegend": true,
         "type": "scattergl",
         "x": [
          "Pre_Covid",
          "2020",
          "2021",
          "Post_Covid"
         ],
         "xaxis": "x",
         "y": [
          534659730912.0876,
          "385740508436.965",
          "487902572164.348",
          635862397551.9136
         ],
         "yaxis": "y"
        },
        {
         "hovertemplate": "Country Name=Armenia<br>Phase=%{x}<br>GDP (in USD)=%{y}<extra></extra>",
         "legendgroup": "Armenia",
         "line": {
          "color": "#FF97FF",
          "dash": "solid"
         },
         "marker": {
          "symbol": "circle"
         },
         "mode": "lines+markers",
         "name": "Armenia",
         "showlegend": true,
         "type": "scattergl",
         "x": [
          "Pre_Covid",
          "2020",
          "2021",
          "Post_Covid"
         ],
         "xaxis": "x",
         "y": [
          11145685964.389523,
          "12641698583.2152",
          "13878908628.9378",
          21862804639.65345
         ],
         "yaxis": "y"
        },
        {
         "hovertemplate": "Country Name=Aruba<br>Phase=%{x}<br>GDP (in USD)=%{y}<extra></extra>",
         "legendgroup": "Aruba",
         "line": {
          "color": "#FECB52",
          "dash": "solid"
         },
         "marker": {
          "symbol": "circle"
         },
         "mode": "lines+markers",
         "name": "Aruba",
         "showlegend": true,
         "type": "scattergl",
         "x": [
          "Pre_Covid",
          "2020",
          "2021",
          "Post_Covid"
         ],
         "xaxis": "x",
         "y": [
          2893631899.4413404,
          "2558906303.88098",
          "3103184101.51354",
          3544707788.05664
         ],
         "yaxis": "y"
        },
        {
         "hovertemplate": "Country Name=Australia<br>Phase=%{x}<br>GDP (in USD)=%{y}<extra></extra>",
         "legendgroup": "Australia",
         "line": {
          "color": "#636efa",
          "dash": "solid"
         },
         "marker": {
          "symbol": "circle"
         },
         "mode": "lines+markers",
         "name": "Australia",
         "showlegend": true,
         "type": "scattergl",
         "x": [
          "Pre_Covid",
          "2020",
          "2021",
          "Post_Covid"
         ],
         "xaxis": "x",
         "y": [
          1385177783494.248,
          "1330381544909.3",
          "1559033756285.13",
          1708391931095.205
         ],
         "yaxis": "y"
        },
        {
         "hovertemplate": "Country Name=Austria<br>Phase=%{x}<br>GDP (in USD)=%{y}<extra></extra>",
         "legendgroup": "Austria",
         "line": {
          "color": "#EF553B",
          "dash": "solid"
         },
         "marker": {
          "symbol": "circle"
         },
         "mode": "lines+markers",
         "name": "Austria",
         "showlegend": true,
         "type": "scattergl",
         "x": [
          "Pre_Covid",
          "2020",
          "2021",
          "Post_Covid"
         ],
         "xaxis": "x",
         "y": [
          420079491901.708,
          "435049316955.737",
          "479295362747.047",
          493488035433.3455
         ],
         "yaxis": "y"
        },
        {
         "hovertemplate": "Country Name=Azerbaijan<br>Phase=%{x}<br>GDP (in USD)=%{y}<extra></extra>",
         "legendgroup": "Azerbaijan",
         "line": {
          "color": "#00cc96",
          "dash": "solid"
         },
         "marker": {
          "symbol": "circle"
         },
         "mode": "lines+markers",
         "name": "Azerbaijan",
         "showlegend": true,
         "type": "scattergl",
         "x": [
          "Pre_Covid",
          "2020",
          "2021",
          "Post_Covid"
         ],
         "xaxis": "x",
         "y": [
          56503894623.53941,
          "42693000000",
          "54825411764.7059",
          75581823529.41174
         ],
         "yaxis": "y"
        },
        {
         "hovertemplate": "Country Name=Bahamas, The<br>Phase=%{x}<br>GDP (in USD)=%{y}<extra></extra>",
         "legendgroup": "Bahamas, The",
         "line": {
          "color": "#ab63fa",
          "dash": "solid"
         },
         "marker": {
          "symbol": "circle"
         },
         "mode": "lines+markers",
         "name": "Bahamas, The",
         "showlegend": true,
         "type": "scattergl",
         "x": [
          "Pre_Covid",
          "2020",
          "2021",
          "Post_Covid"
         ],
         "xaxis": "x",
         "y": [
          11354231000,
          "9958200000",
          "11368900000",
          13737450000
         ],
         "yaxis": "y"
        },
        {
         "hovertemplate": "Country Name=Bahrain<br>Phase=%{x}<br>GDP (in USD)=%{y}<extra></extra>",
         "legendgroup": "Bahrain",
         "line": {
          "color": "#FFA15A",
          "dash": "solid"
         },
         "marker": {
          "symbol": "circle"
         },
         "mode": "lines+markers",
         "name": "Bahrain",
         "showlegend": true,
         "type": "scattergl",
         "x": [
          "Pre_Covid",
          "2020",
          "2021",
          "Post_Covid"
         ],
         "xaxis": "x",
         "y": [
          32642130744.680855,
          "34621807712.766",
          "39288670212.766",
          43794148936.1702
         ],
         "yaxis": "y"
        },
        {
         "hovertemplate": "Country Name=Bangladesh<br>Phase=%{x}<br>GDP (in USD)=%{y}<extra></extra>",
         "legendgroup": "Bangladesh",
         "line": {
          "color": "#19d3f3",
          "dash": "solid"
         },
         "marker": {
          "symbol": "circle"
         },
         "mode": "lines+markers",
         "name": "Bangladesh",
         "showlegend": true,
         "type": "scattergl",
         "x": [
          "Pre_Covid",
          "2020",
          "2021",
          "Post_Covid"
         ],
         "xaxis": "x",
         "y": [
          212677731519.5652,
          "373979442653.343",
          "416271647002.435",
          448773509975.1475
         ],
         "yaxis": "y"
        },
        {
         "hovertemplate": "Country Name=Barbados<br>Phase=%{x}<br>GDP (in USD)=%{y}<extra></extra>",
         "legendgroup": "Barbados",
         "line": {
          "color": "#FF6692",
          "dash": "solid"
         },
         "marker": {
          "symbol": "circle"
         },
         "mode": "lines+markers",
         "name": "Barbados",
         "showlegend": true,
         "type": "scattergl",
         "x": [
          "Pre_Covid",
          "2020",
          "2021",
          "Post_Covid"
         ],
         "xaxis": "x",
         "y": [
          4830789825,
          "4779756550",
          "4945276000",
          6117118944.806725
         ],
         "yaxis": "y"
        },
        {
         "hovertemplate": "Country Name=Belarus<br>Phase=%{x}<br>GDP (in USD)=%{y}<extra></extra>",
         "legendgroup": "Belarus",
         "line": {
          "color": "#B6E880",
          "dash": "solid"
         },
         "marker": {
          "symbol": "circle"
         },
         "mode": "lines+markers",
         "name": "Belarus",
         "showlegend": true,
         "type": "scattergl",
         "x": [
          "Pre_Covid",
          "2020",
          "2021",
          "Post_Covid"
         ],
         "xaxis": "x",
         "y": [
          62236557468.79683,
          "61371755326.2351",
          "69673747131.87",
          72816281335.1048
         ],
         "yaxis": "y"
        },
        {
         "hovertemplate": "Country Name=Belgium<br>Phase=%{x}<br>GDP (in USD)=%{y}<extra></extra>",
         "legendgroup": "Belgium",
         "line": {
          "color": "#FF97FF",
          "dash": "solid"
         },
         "marker": {
          "symbol": "circle"
         },
         "mode": "lines+markers",
         "name": "Belgium",
         "showlegend": true,
         "type": "scattergl",
         "x": [
          "Pre_Covid",
          "2020",
          "2021",
          "Post_Covid"
         ],
         "xaxis": "x",
         "y": [
          507841325644.9409,
          "526021513474.243",
          "600904461226.347",
          607915279547.186
         ],
         "yaxis": "y"
        },
        {
         "hovertemplate": "Country Name=Belize<br>Phase=%{x}<br>GDP (in USD)=%{y}<extra></extra>",
         "legendgroup": "Belize",
         "line": {
          "color": "#FECB52",
          "dash": "solid"
         },
         "marker": {
          "symbol": "circle"
         },
         "mode": "lines+markers",
         "name": "Belize",
         "showlegend": true,
         "type": "scattergl",
         "x": [
          "Pre_Covid",
          "2020",
          "2021",
          "Post_Covid"
         ],
         "xaxis": "x",
         "y": [
          2098583600.495686,
          "2047727810.06777",
          "2424575179.3783",
          3056003787.84205
         ],
         "yaxis": "y"
        },
        {
         "hovertemplate": "Country Name=Benin<br>Phase=%{x}<br>GDP (in USD)=%{y}<extra></extra>",
         "legendgroup": "Benin",
         "line": {
          "color": "#636efa",
          "dash": "solid"
         },
         "marker": {
          "symbol": "circle"
         },
         "mode": "lines+markers",
         "name": "Benin",
         "showlegend": true,
         "type": "scattergl",
         "x": [
          "Pre_Covid",
          "2020",
          "2021",
          "Post_Covid"
         ],
         "xaxis": "x",
         "y": [
          12173639699.423504,
          "15686741883.934",
          "17687623530.3355",
          18549351365.14645
         ],
         "yaxis": "y"
        },
        {
         "hovertemplate": "Country Name=Bermuda<br>Phase=%{x}<br>GDP (in USD)=%{y}<extra></extra>",
         "legendgroup": "Bermuda",
         "line": {
          "color": "#EF553B",
          "dash": "solid"
         },
         "marker": {
          "symbol": "circle"
         },
         "mode": "lines+markers",
         "name": "Bermuda",
         "showlegend": true,
         "type": "scattergl",
         "x": [
          "Pre_Covid",
          "2020",
          "2021",
          "Post_Covid"
         ],
         "xaxis": "x",
         "y": [
          6755135900,
          "6887147000",
          "7286607000",
          7827980000
         ],
         "yaxis": "y"
        },
        {
         "hovertemplate": "Country Name=Bhutan<br>Phase=%{x}<br>GDP (in USD)=%{y}<extra></extra>",
         "legendgroup": "Bhutan",
         "line": {
          "color": "#00cc96",
          "dash": "solid"
         },
         "marker": {
          "symbol": "circle"
         },
         "mode": "lines+markers",
         "name": "Bhutan",
         "showlegend": true,
         "type": "scattergl",
         "x": [
          "Pre_Covid",
          "2020",
          "2021",
          "Post_Covid"
         ],
         "xaxis": "x",
         "y": [
          2191015834.637952,
          "2457604042.40959",
          "2768802803.18141",
          2898227713.22315
         ],
         "yaxis": "y"
        },
        {
         "hovertemplate": "Country Name=Bolivia<br>Phase=%{x}<br>GDP (in USD)=%{y}<extra></extra>",
         "legendgroup": "Bolivia",
         "line": {
          "color": "#ab63fa",
          "dash": "solid"
         },
         "marker": {
          "symbol": "circle"
         },
         "mode": "lines+markers",
         "name": "Bolivia",
         "showlegend": true,
         "type": "scattergl",
         "x": [
          "Pre_Covid",
          "2020",
          "2021",
          "Post_Covid"
         ],
         "xaxis": "x",
         "y": [
          31998585019.872444,
          "36629843806.0781",
          "40406111693.1983",
          44929057893.14905
         ],
         "yaxis": "y"
        },
        {
         "hovertemplate": "Country Name=Bosnia and Herzegovina<br>Phase=%{x}<br>GDP (in USD)=%{y}<extra></extra>",
         "legendgroup": "Bosnia and Herzegovina",
         "line": {
          "color": "#FFA15A",
          "dash": "solid"
         },
         "marker": {
          "symbol": "circle"
         },
         "mode": "lines+markers",
         "name": "Bosnia and Herzegovina",
         "showlegend": true,
         "type": "scattergl",
         "x": [
          "Pre_Covid",
          "2020",
          "2021",
          "Post_Covid"
         ],
         "xaxis": "x",
         "y": [
          18259943862.10074,
          "20226036564.4129",
          "23672712242.2149",
          25794776499.5315
         ],
         "yaxis": "y"
        },
        {
         "hovertemplate": "Country Name=Botswana<br>Phase=%{x}<br>GDP (in USD)=%{y}<extra></extra>",
         "legendgroup": "Botswana",
         "line": {
          "color": "#19d3f3",
          "dash": "solid"
         },
         "marker": {
          "symbol": "circle"
         },
         "mode": "lines+markers",
         "name": "Botswana",
         "showlegend": true,
         "type": "scattergl",
         "x": [
          "Pre_Covid",
          "2020",
          "2021",
          "Post_Covid"
         ],
         "xaxis": "x",
         "y": [
          14987360219.54101,
          "14960291105.9316",
          "18750946600.1423",
          19858861988.1745
         ],
         "yaxis": "y"
        },
        {
         "hovertemplate": "Country Name=Brazil<br>Phase=%{x}<br>GDP (in USD)=%{y}<extra></extra>",
         "legendgroup": "Brazil",
         "line": {
          "color": "#FF6692",
          "dash": "solid"
         },
         "marker": {
          "symbol": "circle"
         },
         "mode": "lines+markers",
         "name": "Brazil",
         "showlegend": true,
         "type": "scattergl",
         "x": [
          "Pre_Covid",
          "2020",
          "2021",
          "Post_Covid"
         ],
         "xaxis": "x",
         "y": [
          2167072780526.118,
          "1476107231194.11",
          "1670647399034.67",
          2062794799010.295
         ],
         "yaxis": "y"
        },
        {
         "hovertemplate": "Country Name=British Virgin Islands<br>Phase=%{x}<br>GDP (in USD)=%{y}<extra></extra>",
         "legendgroup": "British Virgin Islands",
         "line": {
          "color": "#B6E880",
          "dash": "solid"
         },
         "marker": {
          "symbol": "circle"
         },
         "mode": "lines+markers",
         "name": "British Virgin Islands",
         "showlegend": true,
         "type": "scattergl",
         "x": [
          "Pre_Covid",
          "2020",
          "2021",
          "Post_Covid"
         ],
         "xaxis": "x",
         "y": [
          null,
          "..",
          "..",
          null
         ],
         "yaxis": "y"
        },
        {
         "hovertemplate": "Country Name=Brunei Darussalam<br>Phase=%{x}<br>GDP (in USD)=%{y}<extra></extra>",
         "legendgroup": "Brunei Darussalam",
         "line": {
          "color": "#FF97FF",
          "dash": "solid"
         },
         "marker": {
          "symbol": "circle"
         },
         "mode": "lines+markers",
         "name": "Brunei Darussalam",
         "showlegend": true,
         "type": "scattergl",
         "x": [
          "Pre_Covid",
          "2020",
          "2021",
          "Post_Covid"
         ],
         "xaxis": "x",
         "y": [
          14996809128.40926,
          "12005799653.9835",
          "14006496617.4458",
          15904914710.11405
         ],
         "yaxis": "y"
        },
        {
         "hovertemplate": "Country Name=Bulgaria<br>Phase=%{x}<br>GDP (in USD)=%{y}<extra></extra>",
         "legendgroup": "Bulgaria",
         "line": {
          "color": "#FECB52",
          "dash": "solid"
         },
         "marker": {
          "symbol": "circle"
         },
         "mode": "lines+markers",
         "name": "Bulgaria",
         "showlegend": true,
         "type": "scattergl",
         "x": [
          "Pre_Covid",
          "2020",
          "2021",
          "Post_Covid"
         ],
         "xaxis": "x",
         "y": [
          57513315159.178024,
          "70368758395.141",
          "84041493015.6618",
          95965277293.86044
         ],
         "yaxis": "y"
        },
        {
         "hovertemplate": "Country Name=Burkina Faso<br>Phase=%{x}<br>GDP (in USD)=%{y}<extra></extra>",
         "legendgroup": "Burkina Faso",
         "line": {
          "color": "#636efa",
          "dash": "solid"
         },
         "marker": {
          "symbol": "circle"
         },
         "mode": "lines+markers",
         "name": "Burkina Faso",
         "showlegend": true,
         "type": "scattergl",
         "x": [
          "Pre_Covid",
          "2020",
          "2021",
          "Post_Covid"
         ],
         "xaxis": "x",
         "y": [
          13283360513.66785,
          "17725010530.7894",
          "19643166853.6641",
          19572418585.09685
         ],
         "yaxis": "y"
        },
        {
         "hovertemplate": "Country Name=Burundi<br>Phase=%{x}<br>GDP (in USD)=%{y}<extra></extra>",
         "legendgroup": "Burundi",
         "line": {
          "color": "#EF553B",
          "dash": "solid"
         },
         "marker": {
          "symbol": "circle"
         },
         "mode": "lines+markers",
         "name": "Burundi",
         "showlegend": true,
         "type": "scattergl",
         "x": [
          "Pre_Covid",
          "2020",
          "2021",
          "Post_Covid"
         ],
         "xaxis": "x",
         "y": [
          2547446666.28303,
          "2649680261.44299",
          "2775798697.46022",
          2990442248.292225
         ],
         "yaxis": "y"
        },
        {
         "hovertemplate": "Country Name=Cabo Verde<br>Phase=%{x}<br>GDP (in USD)=%{y}<extra></extra>",
         "legendgroup": "Cabo Verde",
         "line": {
          "color": "#00cc96",
          "dash": "solid"
         },
         "marker": {
          "symbol": "circle"
         },
         "mode": "lines+markers",
         "name": "Cabo Verde",
         "showlegend": true,
         "type": "scattergl",
         "x": [
          "Pre_Covid",
          "2020",
          "2021",
          "Post_Covid"
         ],
         "xaxis": "x",
         "y": [
          1990915748.376287,
          "1821565613.68613",
          "2051842609.64558",
          2445495048.2285404
         ],
         "yaxis": "y"
        },
        {
         "hovertemplate": "Country Name=Cambodia<br>Phase=%{x}<br>GDP (in USD)=%{y}<extra></extra>",
         "legendgroup": "Cambodia",
         "line": {
          "color": "#ab63fa",
          "dash": "solid"
         },
         "marker": {
          "symbol": "circle"
         },
         "mode": "lines+markers",
         "name": "Cambodia",
         "showlegend": true,
         "type": "scattergl",
         "x": [
          "Pre_Covid",
          "2020",
          "2021",
          "Post_Covid"
         ],
         "xaxis": "x",
         "y": [
          18196190823.108818,
          "25872797891.7664",
          "26961061151.7337",
          30638794659.086998
         ],
         "yaxis": "y"
        },
        {
         "hovertemplate": "Country Name=Cameroon<br>Phase=%{x}<br>GDP (in USD)=%{y}<extra></extra>",
         "legendgroup": "Cameroon",
         "line": {
          "color": "#FFA15A",
          "dash": "solid"
         },
         "marker": {
          "symbol": "circle"
         },
         "mode": "lines+markers",
         "name": "Cameroon",
         "showlegend": true,
         "type": "scattergl",
         "x": [
          "Pre_Covid",
          "2020",
          "2021",
          "Post_Covid"
         ],
         "xaxis": "x",
         "y": [
          34015506736.86869,
          "40773241177.0505",
          "44993521774.066",
          45794789200.45195
         ],
         "yaxis": "y"
        },
        {
         "hovertemplate": "Country Name=Canada<br>Phase=%{x}<br>GDP (in USD)=%{y}<extra></extra>",
         "legendgroup": "Canada",
         "line": {
          "color": "#19d3f3",
          "dash": "solid"
         },
         "marker": {
          "symbol": "circle"
         },
         "mode": "lines+markers",
         "name": "Canada",
         "showlegend": true,
         "type": "scattergl",
         "x": [
          "Pre_Covid",
          "2020",
          "2021",
          "Post_Covid"
         ],
         "xaxis": "x",
         "y": [
          1709420735828.15,
          "1655684730000.19",
          "2007472181464.15",
          2150784468606.73
         ],
         "yaxis": "y"
        },
        {
         "hovertemplate": "Country Name=Cayman Islands<br>Phase=%{x}<br>GDP (in USD)=%{y}<extra></extra>",
         "legendgroup": "Cayman Islands",
         "line": {
          "color": "#FF6692",
          "dash": "solid"
         },
         "marker": {
          "symbol": "circle"
         },
         "mode": "lines+markers",
         "name": "Cayman Islands",
         "showlegend": true,
         "type": "scattergl",
         "x": [
          "Pre_Covid",
          "2020",
          "2021",
          "Post_Covid"
         ],
         "xaxis": "x",
         "y": [
          4785841431.997035,
          "5655357984.24218",
          "6060026509.58539",
          6600844001.53721
         ],
         "yaxis": "y"
        },
        {
         "hovertemplate": "Country Name=Central African Republic<br>Phase=%{x}<br>GDP (in USD)=%{y}<extra></extra>",
         "legendgroup": "Central African Republic",
         "line": {
          "color": "#B6E880",
          "dash": "solid"
         },
         "marker": {
          "symbol": "circle"
         },
         "mode": "lines+markers",
         "name": "Central African Republic",
         "showlegend": true,
         "type": "scattergl",
         "x": [
          "Pre_Covid",
          "2020",
          "2021",
          "Post_Covid"
         ],
         "xaxis": "x",
         "y": [
          2071253258.642076,
          "2326720900.38047",
          "2516498412.46384",
          2469055350.132625
         ],
         "yaxis": "y"
        },
        {
         "hovertemplate": "Country Name=Chad<br>Phase=%{x}<br>GDP (in USD)=%{y}<extra></extra>",
         "legendgroup": "Chad",
         "line": {
          "color": "#FF97FF",
          "dash": "solid"
         },
         "marker": {
          "symbol": "circle"
         },
         "mode": "lines+markers",
         "name": "Chad",
         "showlegend": true,
         "type": "scattergl",
         "x": [
          "Pre_Covid",
          "2020",
          "2021",
          "Post_Covid"
         ],
         "xaxis": "x",
         "y": [
          11570476097.35169,
          "10715396042.3343",
          "11779981332.16",
          12773066474.45565
         ],
         "yaxis": "y"
        },
        {
         "hovertemplate": "Country Name=Channel Islands<br>Phase=%{x}<br>GDP (in USD)=%{y}<extra></extra>",
         "legendgroup": "Channel Islands",
         "line": {
          "color": "#FECB52",
          "dash": "solid"
         },
         "marker": {
          "symbol": "circle"
         },
         "mode": "lines+markers",
         "name": "Channel Islands",
         "showlegend": true,
         "type": "scattergl",
         "x": [
          "Pre_Covid",
          "2020",
          "2021",
          "Post_Covid"
         ],
         "xaxis": "x",
         "y": [
          9501298417.948895,
          "9301349237.2106",
          "11138490591.657",
          11228317318.7652
         ],
         "yaxis": "y"
        },
        {
         "hovertemplate": "Country Name=Chile<br>Phase=%{x}<br>GDP (in USD)=%{y}<extra></extra>",
         "legendgroup": "Chile",
         "line": {
          "color": "#636efa",
          "dash": "solid"
         },
         "marker": {
          "symbol": "circle"
         },
         "mode": "lines+markers",
         "name": "Chile",
         "showlegend": true,
         "type": "scattergl",
         "x": [
          "Pre_Covid",
          "2020",
          "2021",
          "Post_Covid"
         ],
         "xaxis": "x",
         "y": [
          261450666413.46558,
          "254042159309.311",
          "315515014838.539",
          318824935539.1245
         ],
         "yaxis": "y"
        },
        {
         "hovertemplate": "Country Name=China<br>Phase=%{x}<br>GDP (in USD)=%{y}<extra></extra>",
         "legendgroup": "China",
         "line": {
          "color": "#EF553B",
          "dash": "solid"
         },
         "marker": {
          "symbol": "circle"
         },
         "mode": "lines+markers",
         "name": "China",
         "showlegend": true,
         "type": "scattergl",
         "x": [
          "Pre_Covid",
          "2020",
          "2021",
          "Post_Covid"
         ],
         "xaxis": "x",
         "y": [
          10499727293504.83,
          "14687744162801",
          "17820459508852.2",
          17838282686552.7
         ],
         "yaxis": "y"
        },
        {
         "hovertemplate": "Country Name=Colombia<br>Phase=%{x}<br>GDP (in USD)=%{y}<extra></extra>",
         "legendgroup": "Colombia",
         "line": {
          "color": "#00cc96",
          "dash": "solid"
         },
         "marker": {
          "symbol": "circle"
         },
         "mode": "lines+markers",
         "name": "Colombia",
         "showlegend": true,
         "type": "scattergl",
         "x": [
          "Pre_Covid",
          "2020",
          "2021",
          "Post_Covid"
         ],
         "xaxis": "x",
         "y": [
          330079963834.5369,
          "270348342541.465",
          "318524633225.395",
          354435015656.69
         ],
         "yaxis": "y"
        },
        {
         "hovertemplate": "Country Name=Comoros<br>Phase=%{x}<br>GDP (in USD)=%{y}<extra></extra>",
         "legendgroup": "Comoros",
         "line": {
          "color": "#ab63fa",
          "dash": "solid"
         },
         "marker": {
          "symbol": "circle"
         },
         "mode": "lines+markers",
         "name": "Comoros",
         "showlegend": true,
         "type": "scattergl",
         "x": [
          "Pre_Covid",
          "2020",
          "2021",
          "Post_Covid"
         ],
         "xaxis": "x",
         "y": [
          1065284209.5026081,
          "1225039196.61091",
          "1296089479.91978",
          1297450189.966325
         ],
         "yaxis": "y"
        },
        {
         "hovertemplate": "Country Name=Congo, Dem. Rep.<br>Phase=%{x}<br>GDP (in USD)=%{y}<extra></extra>",
         "legendgroup": "Congo, Dem. Rep.",
         "line": {
          "color": "#FFA15A",
          "dash": "solid"
         },
         "marker": {
          "symbol": "circle"
         },
         "mode": "lines+markers",
         "name": "Congo, Dem. Rep.",
         "showlegend": true,
         "type": "scattergl",
         "x": [
          "Pre_Covid",
          "2020",
          "2021",
          "Post_Covid"
         ],
         "xaxis": "x",
         "y": [
          35771630423.8217,
          "48716961860.1325",
          "55328482783.5393",
          66092417311.29715
         ],
         "yaxis": "y"
        },
        {
         "hovertemplate": "Country Name=Congo, Rep.<br>Phase=%{x}<br>GDP (in USD)=%{y}<extra></extra>",
         "legendgroup": "Congo, Rep.",
         "line": {
          "color": "#19d3f3",
          "dash": "solid"
         },
         "marker": {
          "symbol": "circle"
         },
         "mode": "lines+markers",
         "name": "Congo, Rep.",
         "showlegend": true,
         "type": "scattergl",
         "x": [
          "Pre_Covid",
          "2020",
          "2021",
          "Post_Covid"
         ],
         "xaxis": "x",
         "y": [
          14632586553.81337,
          "11468688140.7225",
          "14825690210.0308",
          15569042987.6361
         ],
         "yaxis": "y"
        },
        {
         "hovertemplate": "Country Name=Costa Rica<br>Phase=%{x}<br>GDP (in USD)=%{y}<extra></extra>",
         "legendgroup": "Costa Rica",
         "line": {
          "color": "#FF6692",
          "dash": "solid"
         },
         "marker": {
          "symbol": "circle"
         },
         "mode": "lines+markers",
         "name": "Costa Rica",
         "showlegend": true,
         "type": "scattergl",
         "x": [
          "Pre_Covid",
          "2020",
          "2021",
          "Post_Covid"
         ],
         "xaxis": "x",
         "y": [
          53326178232.83135,
          "62395610760.3912",
          "64960725734.1965",
          77870783733.8055
         ],
         "yaxis": "y"
        },
        {
         "hovertemplate": "Country Name=Cote d'Ivoire<br>Phase=%{x}<br>GDP (in USD)=%{y}<extra></extra>",
         "legendgroup": "Cote d'Ivoire",
         "line": {
          "color": "#B6E880",
          "dash": "solid"
         },
         "marker": {
          "symbol": "circle"
         },
         "mode": "lines+markers",
         "name": "Cote d'Ivoire",
         "showlegend": true,
         "type": "scattergl",
         "x": [
          "Pre_Covid",
          "2020",
          "2021",
          "Post_Covid"
         ],
         "xaxis": "x",
         "y": [
          46517604544.39002,
          "63027852805.4204",
          "72794636653.7793",
          74480984504.14746
         ],
         "yaxis": "y"
        },
        {
         "hovertemplate": "Country Name=Croatia<br>Phase=%{x}<br>GDP (in USD)=%{y}<extra></extra>",
         "legendgroup": "Croatia",
         "line": {
          "color": "#FF97FF",
          "dash": "solid"
         },
         "marker": {
          "symbol": "circle"
         },
         "mode": "lines+markers",
         "name": "Croatia",
         "showlegend": true,
         "type": "scattergl",
         "x": [
          "Pre_Covid",
          "2020",
          "2021",
          "Post_Covid"
         ],
         "xaxis": "x",
         "y": [
          58190096872.20351,
          "58221300897.8838",
          "69602166351.4771",
          77342956688.93805
         ],
         "yaxis": "y"
        },
        {
         "hovertemplate": "Country Name=Cuba<br>Phase=%{x}<br>GDP (in USD)=%{y}<extra></extra>",
         "legendgroup": "Cuba",
         "line": {
          "color": "#FECB52",
          "dash": "solid"
         },
         "marker": {
          "symbol": "circle"
         },
         "mode": "lines+markers",
         "name": "Cuba",
         "showlegend": true,
         "type": "scattergl",
         "x": [
          "Pre_Covid",
          "2020",
          "2021",
          "Post_Covid"
         ],
         "xaxis": "x",
         "y": [
          83832955661.45267,
          "107351800000",
          "..",
          null
         ],
         "yaxis": "y"
        },
        {
         "hovertemplate": "Country Name=Curacao<br>Phase=%{x}<br>GDP (in USD)=%{y}<extra></extra>",
         "legendgroup": "Curacao",
         "line": {
          "color": "#636efa",
          "dash": "solid"
         },
         "marker": {
          "symbol": "circle"
         },
         "mode": "lines+markers",
         "name": "Curacao",
         "showlegend": true,
         "type": "scattergl",
         "x": [
          "Pre_Covid",
          "2020",
          "2021",
          "Post_Covid"
         ],
         "xaxis": "x",
         "y": [
          3025032849.1620097,
          "2534327597.76536",
          "2739608133.18436",
          3073840325.43285
         ],
         "yaxis": "y"
        },
        {
         "hovertemplate": "Country Name=Cyprus<br>Phase=%{x}<br>GDP (in USD)=%{y}<extra></extra>",
         "legendgroup": "Cyprus",
         "line": {
          "color": "#EF553B",
          "dash": "solid"
         },
         "marker": {
          "symbol": "circle"
         },
         "mode": "lines+markers",
         "name": "Cyprus",
         "showlegend": true,
         "type": "scattergl",
         "x": [
          "Pre_Covid",
          "2020",
          "2021",
          "Post_Covid"
         ],
         "xaxis": "x",
         "y": [
          24112117231.31262,
          "25227189744.9083",
          "29482912835.3642",
          30740077344.63485
         ],
         "yaxis": "y"
        },
        {
         "hovertemplate": "Country Name=Czechia<br>Phase=%{x}<br>GDP (in USD)=%{y}<extra></extra>",
         "legendgroup": "Czechia",
         "line": {
          "color": "#00cc96",
          "dash": "solid"
         },
         "marker": {
          "symbol": "circle"
         },
         "mode": "lines+markers",
         "name": "Czechia",
         "showlegend": true,
         "type": "scattergl",
         "x": [
          "Pre_Covid",
          "2020",
          "2021",
          "Post_Covid"
         ],
         "xaxis": "x",
         "y": [
          217301762511.4004,
          "245974558654.043",
          "281791218507.1",
          310711997353.7475
         ],
         "yaxis": "y"
        },
        {
         "hovertemplate": "Country Name=Denmark<br>Phase=%{x}<br>GDP (in USD)=%{y}<extra></extra>",
         "legendgroup": "Denmark",
         "line": {
          "color": "#ab63fa",
          "dash": "solid"
         },
         "marker": {
          "symbol": "circle"
         },
         "mode": "lines+markers",
         "name": "Denmark",
         "showlegend": true,
         "type": "scattergl",
         "x": [
          "Pre_Covid",
          "2020",
          "2021",
          "Post_Covid"
         ],
         "xaxis": "x",
         "y": [
          334097540242.9835,
          "354762748338.661",
          "405687998852.691",
          402182977243.34045
         ],
         "yaxis": "y"
        },
        {
         "hovertemplate": "Country Name=Djibouti<br>Phase=%{x}<br>GDP (in USD)=%{y}<extra></extra>",
         "legendgroup": "Djibouti",
         "line": {
          "color": "#FFA15A",
          "dash": "solid"
         },
         "marker": {
          "symbol": "circle"
         },
         "mode": "lines+markers",
         "name": "Djibouti",
         "showlegend": true,
         "type": "scattergl",
         "x": [
          "Pre_Covid",
          "2020",
          "2021",
          "Post_Covid"
         ],
         "xaxis": "x",
         "y": [
          2177313410.6830373,
          "3185150981.03207",
          "3385825228.86997",
          3886414496.3172646
         ],
         "yaxis": "y"
        },
        {
         "hovertemplate": "Country Name=Dominica<br>Phase=%{x}<br>GDP (in USD)=%{y}<extra></extra>",
         "legendgroup": "Dominica",
         "line": {
          "color": "#19d3f3",
          "dash": "solid"
         },
         "marker": {
          "symbol": "circle"
         },
         "mode": "lines+markers",
         "name": "Dominica",
         "showlegend": true,
         "type": "scattergl",
         "x": [
          "Pre_Covid",
          "2020",
          "2021",
          "Post_Covid"
         ],
         "xaxis": "x",
         "y": [
          530440000,
          "504214814.814815",
          "555266666.666667",
          630575925.925926
         ],
         "yaxis": "y"
        },
        {
         "hovertemplate": "Country Name=Dominican Republic<br>Phase=%{x}<br>GDP (in USD)=%{y}<extra></extra>",
         "legendgroup": "Dominican Republic",
         "line": {
          "color": "#FF6692",
          "dash": "solid"
         },
         "marker": {
          "symbol": "circle"
         },
         "mode": "lines+markers",
         "name": "Dominican Republic",
         "showlegend": true,
         "type": "scattergl",
         "x": [
          "Pre_Covid",
          "2020",
          "2021",
          "Post_Covid"
         ],
         "xaxis": "x",
         "y": [
          70379789524.25978,
          "78844656298.1776",
          "94243425938.3647",
          117490823745.0305
         ],
         "yaxis": "y"
        },
        {
         "hovertemplate": "Country Name=Ecuador<br>Phase=%{x}<br>GDP (in USD)=%{y}<extra></extra>",
         "legendgroup": "Ecuador",
         "line": {
          "color": "#B6E880",
          "dash": "solid"
         },
         "marker": {
          "symbol": "circle"
         },
         "mode": "lines+markers",
         "name": "Ecuador",
         "showlegend": true,
         "type": "scattergl",
         "x": [
          "Pre_Covid",
          "2020",
          "2021",
          "Post_Covid"
         ],
         "xaxis": "x",
         "y": [
          94858442100,
          "95865472000",
          "107435101000",
          117715452500
         ],
         "yaxis": "y"
        },
        {
         "hovertemplate": "Country Name=Egypt, Arab Rep.<br>Phase=%{x}<br>GDP (in USD)=%{y}<extra></extra>",
         "legendgroup": "Egypt, Arab Rep.",
         "line": {
          "color": "#FF97FF",
          "dash": "solid"
         },
         "marker": {
          "symbol": "circle"
         },
         "mode": "lines+markers",
         "name": "Egypt, Arab Rep.",
         "showlegend": true,
         "type": "scattergl",
         "x": [
          "Pre_Covid",
          "2020",
          "2021",
          "Post_Covid"
         ],
         "xaxis": "x",
         "y": [
          281955803749.4822,
          "383817841547.099",
          "424671765455.704",
          436336897763.874
         ],
         "yaxis": "y"
        },
        {
         "hovertemplate": "Country Name=El Salvador<br>Phase=%{x}<br>GDP (in USD)=%{y}<extra></extra>",
         "legendgroup": "El Salvador",
         "line": {
          "color": "#FECB52",
          "dash": "solid"
         },
         "marker": {
          "symbol": "circle"
         },
         "mode": "lines+markers",
         "name": "El Salvador",
         "showlegend": true,
         "type": "scattergl",
         "x": [
          "Pre_Covid",
          "2020",
          "2021",
          "Post_Covid"
         ],
         "xaxis": "x",
         "y": [
          23021313000,
          "24921190000",
          "29043140000",
          33002270000
         ],
         "yaxis": "y"
        },
        {
         "hovertemplate": "Country Name=Equatorial Guinea<br>Phase=%{x}<br>GDP (in USD)=%{y}<extra></extra>",
         "legendgroup": "Equatorial Guinea",
         "line": {
          "color": "#636efa",
          "dash": "solid"
         },
         "marker": {
          "symbol": "circle"
         },
         "mode": "lines+markers",
         "name": "Equatorial Guinea",
         "showlegend": true,
         "type": "scattergl",
         "x": [
          "Pre_Covid",
          "2020",
          "2021",
          "Post_Covid"
         ],
         "xaxis": "x",
         "y": [
          16486278390.61679,
          "9893816007.7398",
          "12215878032.7166",
          12801855709.19345
         ],
         "yaxis": "y"
        },
        {
         "hovertemplate": "Country Name=Eritrea<br>Phase=%{x}<br>GDP (in USD)=%{y}<extra></extra>",
         "legendgroup": "Eritrea",
         "line": {
          "color": "#EF553B",
          "dash": "solid"
         },
         "marker": {
          "symbol": "circle"
         },
         "mode": "lines+markers",
         "name": "Eritrea",
         "showlegend": true,
         "type": "scattergl",
         "x": [
          "Pre_Covid",
          "2020",
          "2021",
          "Post_Covid"
         ],
         "xaxis": "x",
         "y": [
          1827258536.5853648,
          "..",
          "..",
          null
         ],
         "yaxis": "y"
        },
        {
         "hovertemplate": "Country Name=Estonia<br>Phase=%{x}<br>GDP (in USD)=%{y}<extra></extra>",
         "legendgroup": "Estonia",
         "line": {
          "color": "#00cc96",
          "dash": "solid"
         },
         "marker": {
          "symbol": "circle"
         },
         "mode": "lines+markers",
         "name": "Estonia",
         "showlegend": true,
         "type": "scattergl",
         "x": [
          "Pre_Covid",
          "2020",
          "2021",
          "Post_Covid"
         ],
         "xaxis": "x",
         "y": [
          25330960878.124847,
          "31330419851.1487",
          "36864792511.6351",
          39333164854.7483
         ],
         "yaxis": "y"
        },
        {
         "hovertemplate": "Country Name=Eswatini<br>Phase=%{x}<br>GDP (in USD)=%{y}<extra></extra>",
         "legendgroup": "Eswatini",
         "line": {
          "color": "#ab63fa",
          "dash": "solid"
         },
         "marker": {
          "symbol": "circle"
         },
         "mode": "lines+markers",
         "name": "Eswatini",
         "showlegend": true,
         "type": "scattergl",
         "x": [
          "Pre_Covid",
          "2020",
          "2021",
          "Post_Covid"
         ],
         "xaxis": "x",
         "y": [
          4461043388.369925,
          "3982236693.8316",
          "4850842540.99267",
          4694389316.8757
         ],
         "yaxis": "y"
        },
        {
         "hovertemplate": "Country Name=Ethiopia<br>Phase=%{x}<br>GDP (in USD)=%{y}<extra></extra>",
         "legendgroup": "Ethiopia",
         "line": {
          "color": "#FFA15A",
          "dash": "solid"
         },
         "marker": {
          "symbol": "circle"
         },
         "mode": "lines+markers",
         "name": "Ethiopia",
         "showlegend": true,
         "type": "scattergl",
         "x": [
          "Pre_Covid",
          "2020",
          "2021",
          "Post_Covid"
         ],
         "xaxis": "x",
         "y": [
          60929654460.85387,
          "107657734392.446",
          "111261882958.426",
          145235315320.8415
         ],
         "yaxis": "y"
        },
        {
         "hovertemplate": "Country Name=Faroe Islands<br>Phase=%{x}<br>GDP (in USD)=%{y}<extra></extra>",
         "legendgroup": "Faroe Islands",
         "line": {
          "color": "#19d3f3",
          "dash": "solid"
         },
         "marker": {
          "symbol": "circle"
         },
         "mode": "lines+markers",
         "name": "Faroe Islands",
         "showlegend": true,
         "type": "scattergl",
         "x": [
          "Pre_Covid",
          "2020",
          "2021",
          "Post_Covid"
         ],
         "xaxis": "x",
         "y": [
          2769113692.215845,
          "3262045883.37293",
          "3655063937.93145",
          3555929833.05051
         ],
         "yaxis": "y"
        },
        {
         "hovertemplate": "Country Name=Fiji<br>Phase=%{x}<br>GDP (in USD)=%{y}<extra></extra>",
         "legendgroup": "Fiji",
         "line": {
          "color": "#FF6692",
          "dash": "solid"
         },
         "marker": {
          "symbol": "circle"
         },
         "mode": "lines+markers",
         "name": "Fiji",
         "showlegend": true,
         "type": "scattergl",
         "x": [
          "Pre_Covid",
          "2020",
          "2021",
          "Post_Covid"
         ],
         "xaxis": "x",
         "y": [
          4593067472.242627,
          "4432466219.87685",
          "4305031649.74189",
          5237388536.003075
         ],
         "yaxis": "y"
        },
        {
         "hovertemplate": "Country Name=Finland<br>Phase=%{x}<br>GDP (in USD)=%{y}<extra></extra>",
         "legendgroup": "Finland",
         "line": {
          "color": "#B6E880",
          "dash": "solid"
         },
         "marker": {
          "symbol": "circle"
         },
         "mode": "lines+markers",
         "name": "Finland",
         "showlegend": true,
         "type": "scattergl",
         "x": [
          "Pre_Covid",
          "2020",
          "2021",
          "Post_Covid"
         ],
         "xaxis": "x",
         "y": [
          260472059221.49237,
          "271886077382.102",
          "296470417085.267",
          291037316745.90247
         ],
         "yaxis": "y"
        },
        {
         "hovertemplate": "Country Name=France<br>Phase=%{x}<br>GDP (in USD)=%{y}<extra></extra>",
         "legendgroup": "France",
         "line": {
          "color": "#FF97FF",
          "dash": "solid"
         },
         "marker": {
          "symbol": "circle"
         },
         "mode": "lines+markers",
         "name": "France",
         "showlegend": true,
         "type": "scattergl",
         "x": [
          "Pre_Covid",
          "2020",
          "2021",
          "Post_Covid"
         ],
         "xaxis": "x",
         "y": [
          2688898969139.711,
          "2647418691598.45",
          "2959355819170.5",
          2904998163056.875
         ],
         "yaxis": "y"
        },
        {
         "hovertemplate": "Country Name=French Polynesia<br>Phase=%{x}<br>GDP (in USD)=%{y}<extra></extra>",
         "legendgroup": "French Polynesia",
         "line": {
          "color": "#FECB52",
          "dash": "solid"
         },
         "marker": {
          "symbol": "circle"
         },
         "mode": "lines+markers",
         "name": "French Polynesia",
         "showlegend": true,
         "type": "scattergl",
         "x": [
          "Pre_Covid",
          "2020",
          "2021",
          "Post_Covid"
         ],
         "xaxis": "x",
         "y": [
          5898089459.881903,
          "5792545870.80614",
          "6150640646.38319",
          5814661208.90544
         ],
         "yaxis": "y"
        },
        {
         "hovertemplate": "Country Name=Gabon<br>Phase=%{x}<br>GDP (in USD)=%{y}<extra></extra>",
         "legendgroup": "Gabon",
         "line": {
          "color": "#636efa",
          "dash": "solid"
         },
         "marker": {
          "symbol": "circle"
         },
         "mode": "lines+markers",
         "name": "Gabon",
         "showlegend": true,
         "type": "scattergl",
         "x": [
          "Pre_Covid",
          "2020",
          "2021",
          "Post_Covid"
         ],
         "xaxis": "x",
         "y": [
          16263129383.74024,
          "15314577167.8211",
          "20217946921.2065",
          20793936808.3015
         ],
         "yaxis": "y"
        },
        {
         "hovertemplate": "Country Name=Gambia, The<br>Phase=%{x}<br>GDP (in USD)=%{y}<extra></extra>",
         "legendgroup": "Gambia, The",
         "line": {
          "color": "#EF553B",
          "dash": "solid"
         },
         "marker": {
          "symbol": "circle"
         },
         "mode": "lines+markers",
         "name": "Gambia, The",
         "showlegend": true,
         "type": "scattergl",
         "x": [
          "Pre_Covid",
          "2020",
          "2021",
          "Post_Covid"
         ],
         "xaxis": "x",
         "y": [
          1482501041.4836247,
          "1812170891.19069",
          "2014158842.65394",
          2257501973.385215
         ],
         "yaxis": "y"
        },
        {
         "hovertemplate": "Country Name=Georgia<br>Phase=%{x}<br>GDP (in USD)=%{y}<extra></extra>",
         "legendgroup": "Georgia",
         "line": {
          "color": "#00cc96",
          "dash": "solid"
         },
         "marker": {
          "symbol": "circle"
         },
         "mode": "lines+markers",
         "name": "Georgia",
         "showlegend": true,
         "type": "scattergl",
         "x": [
          "Pre_Covid",
          "2020",
          "2021",
          "Post_Covid"
         ],
         "xaxis": "x",
         "y": [
          16296261814.609188,
          "16010869215.68",
          "18853115588.8106",
          27760049719.31385
         ],
         "yaxis": "y"
        },
        {
         "hovertemplate": "Country Name=Germany<br>Phase=%{x}<br>GDP (in USD)=%{y}<extra></extra>",
         "legendgroup": "Germany",
         "line": {
          "color": "#ab63fa",
          "dash": "solid"
         },
         "marker": {
          "symbol": "circle"
         },
         "mode": "lines+markers",
         "name": "Germany",
         "showlegend": true,
         "type": "scattergl",
         "x": [
          "Pre_Covid",
          "2020",
          "2021",
          "Post_Covid"
         ],
         "xaxis": "x",
         "y": [
          3668093298049.755,
          "3887727161914.41",
          "4278503934689.85",
          4269275253751.8203
         ],
         "yaxis": "y"
        },
        {
         "hovertemplate": "Country Name=Ghana<br>Phase=%{x}<br>GDP (in USD)=%{y}<extra></extra>",
         "legendgroup": "Ghana",
         "line": {
          "color": "#FFA15A",
          "dash": "solid"
         },
         "marker": {
          "symbol": "circle"
         },
         "mode": "lines+markers",
         "name": "Ghana",
         "showlegend": true,
         "type": "scattergl",
         "x": [
          "Pre_Covid",
          "2020",
          "2021",
          "Post_Covid"
         ],
         "xaxis": "x",
         "y": [
          53202772090.140755,
          "70043095503.6675",
          "79524421861.2743",
          75316879227.14526
         ],
         "yaxis": "y"
        },
        {
         "hovertemplate": "Country Name=Gibraltar<br>Phase=%{x}<br>GDP (in USD)=%{y}<extra></extra>",
         "legendgroup": "Gibraltar",
         "line": {
          "color": "#19d3f3",
          "dash": "solid"
         },
         "marker": {
          "symbol": "circle"
         },
         "mode": "lines+markers",
         "name": "Gibraltar",
         "showlegend": true,
         "type": "scattergl",
         "x": [
          "Pre_Covid",
          "2020",
          "2021",
          "Post_Covid"
         ],
         "xaxis": "x",
         "y": [
          null,
          "..",
          "..",
          null
         ],
         "yaxis": "y"
        },
        {
         "hovertemplate": "Country Name=Greece<br>Phase=%{x}<br>GDP (in USD)=%{y}<extra></extra>",
         "legendgroup": "Greece",
         "line": {
          "color": "#FF6692",
          "dash": "solid"
         },
         "marker": {
          "symbol": "circle"
         },
         "mode": "lines+markers",
         "name": "Greece",
         "showlegend": true,
         "type": "scattergl",
         "x": [
          "Pre_Covid",
          "2020",
          "2021",
          "Post_Covid"
         ],
         "xaxis": "x",
         "y": [
          230249432202.2518,
          "188480337285.605",
          "214667807441.202",
          227893818572.29352
         ],
         "yaxis": "y"
        },
        {
         "hovertemplate": "Country Name=Greenland<br>Phase=%{x}<br>GDP (in USD)=%{y}<extra></extra>",
         "legendgroup": "Greenland",
         "line": {
          "color": "#B6E880",
          "dash": "solid"
         },
         "marker": {
          "symbol": "circle"
         },
         "mode": "lines+markers",
         "name": "Greenland",
         "showlegend": true,
         "type": "scattergl",
         "x": [
          "Pre_Covid",
          "2020",
          "2021",
          "Post_Covid"
         ],
         "xaxis": "x",
         "y": [
          2743527811.2164316,
          "3082884653.2456",
          "3235809504.29871",
          null
         ],
         "yaxis": "y"
        },
        {
         "hovertemplate": "Country Name=Grenada<br>Phase=%{x}<br>GDP (in USD)=%{y}<extra></extra>",
         "legendgroup": "Grenada",
         "line": {
          "color": "#FF97FF",
          "dash": "solid"
         },
         "marker": {
          "symbol": "circle"
         },
         "mode": "lines+markers",
         "name": "Grenada",
         "showlegend": true,
         "type": "scattergl",
         "x": [
          "Pre_Covid",
          "2020",
          "2021",
          "Post_Covid"
         ],
         "xaxis": "x",
         "y": [
          966800000.0000002,
          "1043411111.11111",
          "1122800000",
          1272456006.683375
         ],
         "yaxis": "y"
        },
        {
         "hovertemplate": "Country Name=Guam<br>Phase=%{x}<br>GDP (in USD)=%{y}<extra></extra>",
         "legendgroup": "Guam",
         "line": {
          "color": "#FECB52",
          "dash": "solid"
         },
         "marker": {
          "symbol": "circle"
         },
         "mode": "lines+markers",
         "name": "Guam",
         "showlegend": true,
         "type": "scattergl",
         "x": [
          "Pre_Covid",
          "2020",
          "2021",
          "Post_Covid"
         ],
         "xaxis": "x",
         "y": [
          5632600000,
          "5916000000",
          "6234000000",
          6910000000
         ],
         "yaxis": "y"
        },
        {
         "hovertemplate": "Country Name=Guatemala<br>Phase=%{x}<br>GDP (in USD)=%{y}<extra></extra>",
         "legendgroup": "Guatemala",
         "line": {
          "color": "#636efa",
          "dash": "solid"
         },
         "marker": {
          "symbol": "circle"
         },
         "mode": "lines+markers",
         "name": "Guatemala",
         "showlegend": true,
         "type": "scattergl",
         "x": [
          "Pre_Covid",
          "2020",
          "2021",
          "Post_Covid"
         ],
         "xaxis": "x",
         "y": [
          59838901888.5898,
          "77715183063.2054",
          "86053083476.0294",
          98526902089.7557
         ],
         "yaxis": "y"
        },
        {
         "hovertemplate": "Country Name=Guinea<br>Phase=%{x}<br>GDP (in USD)=%{y}<extra></extra>",
         "legendgroup": "Guinea",
         "line": {
          "color": "#EF553B",
          "dash": "solid"
         },
         "marker": {
          "symbol": "circle"
         },
         "mode": "lines+markers",
         "name": "Guinea",
         "showlegend": true,
         "type": "scattergl",
         "x": [
          "Pre_Covid",
          "2020",
          "2021",
          "Post_Covid"
         ],
         "xaxis": "x",
         "y": [
          9144645592.76803,
          "14177835841.3923",
          "16091817842.1318",
          22305762539.2978
         ],
         "yaxis": "y"
        },
        {
         "hovertemplate": "Country Name=Guinea-Bissau<br>Phase=%{x}<br>GDP (in USD)=%{y}<extra></extra>",
         "legendgroup": "Guinea-Bissau",
         "line": {
          "color": "#00cc96",
          "dash": "solid"
         },
         "marker": {
          "symbol": "circle"
         },
         "mode": "lines+markers",
         "name": "Guinea-Bissau",
         "showlegend": true,
         "type": "scattergl",
         "x": [
          "Pre_Covid",
          "2020",
          "2021",
          "Post_Covid"
         ],
         "xaxis": "x",
         "y": [
          1229957979.3319612,
          "1520479984.56808",
          "1724555634.36594",
          1840313963.40203
         ],
         "yaxis": "y"
        },
        {
         "hovertemplate": "Country Name=Guyana<br>Phase=%{x}<br>GDP (in USD)=%{y}<extra></extra>",
         "legendgroup": "Guyana",
         "line": {
          "color": "#ab63fa",
          "dash": "solid"
         },
         "marker": {
          "symbol": "circle"
         },
         "mode": "lines+markers",
         "name": "Guyana",
         "showlegend": true,
         "type": "scattergl",
         "x": [
          "Pre_Covid",
          "2020",
          "2021",
          "Post_Covid"
         ],
         "xaxis": "x",
         "y": [
          4295495550.496032,
          "5471256594.72422",
          "8041362110.31175",
          15752345323.741
         ],
         "yaxis": "y"
        },
        {
         "hovertemplate": "Country Name=Haiti<br>Phase=%{x}<br>GDP (in USD)=%{y}<extra></extra>",
         "legendgroup": "Haiti",
         "line": {
          "color": "#FFA15A",
          "dash": "solid"
         },
         "marker": {
          "symbol": "circle"
         },
         "mode": "lines+markers",
         "name": "Haiti",
         "showlegend": true,
         "type": "scattergl",
         "x": [
          "Pre_Covid",
          "2020",
          "2021",
          "Post_Covid"
         ],
         "xaxis": "x",
         "y": [
          14405857588.637552,
          "14508222518.3018",
          "20877414952.6375",
          20052190839.149353
         ],
         "yaxis": "y"
        },
        {
         "hovertemplate": "Country Name=Honduras<br>Phase=%{x}<br>GDP (in USD)=%{y}<extra></extra>",
         "legendgroup": "Honduras",
         "line": {
          "color": "#19d3f3",
          "dash": "solid"
         },
         "marker": {
          "symbol": "circle"
         },
         "mode": "lines+markers",
         "name": "Honduras",
         "showlegend": true,
         "type": "scattergl",
         "x": [
          "Pre_Covid",
          "2020",
          "2021",
          "Post_Covid"
         ],
         "xaxis": "x",
         "y": [
          20511805899.224297,
          "23352232483.755",
          "28144331506.6149",
          32913275829.42105
         ],
         "yaxis": "y"
        },
        {
         "hovertemplate": "Country Name=Hong Kong SAR, China<br>Phase=%{x}<br>GDP (in USD)=%{y}<extra></extra>",
         "legendgroup": "Hong Kong SAR, China",
         "line": {
          "color": "#FF6692",
          "dash": "solid"
         },
         "marker": {
          "symbol": "circle"
         },
         "mode": "lines+markers",
         "name": "Hong Kong SAR, China",
         "showlegend": true,
         "type": "scattergl",
         "x": [
          "Pre_Covid",
          "2020",
          "2021",
          "Post_Covid"
         ],
         "xaxis": "x",
         "y": [
          300326287386.4625,
          "344943149590.058",
          "368954169748.818",
          370375417889.8445
         ],
         "yaxis": "y"
        },
        {
         "hovertemplate": "Country Name=Hungary<br>Phase=%{x}<br>GDP (in USD)=%{y}<extra></extra>",
         "legendgroup": "Hungary",
         "line": {
          "color": "#B6E880",
          "dash": "solid"
         },
         "marker": {
          "symbol": "circle"
         },
         "mode": "lines+markers",
         "name": "Hungary",
         "showlegend": true,
         "type": "scattergl",
         "x": [
          "Pre_Covid",
          "2020",
          "2021",
          "Post_Covid"
         ],
         "xaxis": "x",
         "y": [
          140113234187.96848,
          "157288955508.176",
          "182109999477.691",
          194697517541.6755
         ],
         "yaxis": "y"
        },
        {
         "hovertemplate": "Country Name=Iceland<br>Phase=%{x}<br>GDP (in USD)=%{y}<extra></extra>",
         "legendgroup": "Iceland",
         "line": {
          "color": "#FF97FF",
          "dash": "solid"
         },
         "marker": {
          "symbol": "circle"
         },
         "mode": "lines+markers",
         "name": "Iceland",
         "showlegend": true,
         "type": "scattergl",
         "x": [
          "Pre_Covid",
          "2020",
          "2021",
          "Post_Covid"
         ],
         "xaxis": "x",
         "y": [
          19169787362.928658,
          "21629953194.0659",
          "25797870984.2963",
          29860931492.440453
         ],
         "yaxis": "y"
        },
        {
         "hovertemplate": "Country Name=India<br>Phase=%{x}<br>GDP (in USD)=%{y}<extra></extra>",
         "legendgroup": "India",
         "line": {
          "color": "#FECB52",
          "dash": "solid"
         },
         "marker": {
          "symbol": "circle"
         },
         "mode": "lines+markers",
         "name": "India",
         "showlegend": true,
         "type": "scattergl",
         "x": [
          "Pre_Covid",
          "2020",
          "2021",
          "Post_Covid"
         ],
         "xaxis": "x",
         "y": [
          2181054833323.8398,
          "2674851578586.86",
          "3167270623260.52",
          3451694707831.74
         ],
         "yaxis": "y"
        },
        {
         "hovertemplate": "Country Name=Indonesia<br>Phase=%{x}<br>GDP (in USD)=%{y}<extra></extra>",
         "legendgroup": "Indonesia",
         "line": {
          "color": "#636efa",
          "dash": "solid"
         },
         "marker": {
          "symbol": "circle"
         },
         "mode": "lines+markers",
         "name": "Indonesia",
         "showlegend": true,
         "type": "scattergl",
         "x": [
          "Pre_Covid",
          "2020",
          "2021",
          "Post_Covid"
         ],
         "xaxis": "x",
         "y": [
          933899381299.1783,
          "1059054842698.48",
          "1186509691086.73",
          1345123709820.66
         ],
         "yaxis": "y"
        },
        {
         "hovertemplate": "Country Name=Iran, Islamic Rep.<br>Phase=%{x}<br>GDP (in USD)=%{y}<extra></extra>",
         "legendgroup": "Iran, Islamic Rep.",
         "line": {
          "color": "#EF553B",
          "dash": "solid"
         },
         "marker": {
          "symbol": "circle"
         },
         "mode": "lines+markers",
         "name": "Iran, Islamic Rep.",
         "showlegend": true,
         "type": "scattergl",
         "x": [
          "Pre_Covid",
          "2020",
          "2021",
          "Post_Covid"
         ],
         "xaxis": "x",
         "y": [
          467627374440.9289,
          "239735486745.385",
          "359096907772.273",
          407449541161.135
         ],
         "yaxis": "y"
        },
        {
         "hovertemplate": "Country Name=Iraq<br>Phase=%{x}<br>GDP (in USD)=%{y}<extra></extra>",
         "legendgroup": "Iraq",
         "line": {
          "color": "#00cc96",
          "dash": "solid"
         },
         "marker": {
          "symbol": "circle"
         },
         "mode": "lines+markers",
         "name": "Iraq",
         "showlegend": true,
         "type": "scattergl",
         "x": [
          "Pre_Covid",
          "2020",
          "2021",
          "Post_Covid"
         ],
         "xaxis": "x",
         "y": [
          198706108411.89093,
          "180898797936.279",
          "209691945713.103",
          268741561552.4905
         ],
         "yaxis": "y"
        },
        {
         "hovertemplate": "Country Name=Ireland<br>Phase=%{x}<br>GDP (in USD)=%{y}<extra></extra>",
         "legendgroup": "Ireland",
         "line": {
          "color": "#ab63fa",
          "dash": "solid"
         },
         "marker": {
          "symbol": "circle"
         },
         "mode": "lines+markers",
         "name": "Ireland",
         "showlegend": true,
         "type": "scattergl",
         "x": [
          "Pre_Covid",
          "2020",
          "2021",
          "Post_Covid"
         ],
         "xaxis": "x",
         "y": [
          289778894784.7801,
          "428608687830.239",
          "513391778882.86",
          539384731121.0055
         ],
         "yaxis": "y"
        },
        {
         "hovertemplate": "Country Name=Isle of Man<br>Phase=%{x}<br>GDP (in USD)=%{y}<extra></extra>",
         "legendgroup": "Isle of Man",
         "line": {
          "color": "#FFA15A",
          "dash": "solid"
         },
         "marker": {
          "symbol": "circle"
         },
         "mode": "lines+markers",
         "name": "Isle of Man",
         "showlegend": true,
         "type": "scattergl",
         "x": [
          "Pre_Covid",
          "2020",
          "2021",
          "Post_Covid"
         ],
         "xaxis": "x",
         "y": [
          6960347935.994473,
          "6684225641.02564",
          "7931193222.06405",
          null
         ],
         "yaxis": "y"
        },
        {
         "hovertemplate": "Country Name=Israel<br>Phase=%{x}<br>GDP (in USD)=%{y}<extra></extra>",
         "legendgroup": "Israel",
         "line": {
          "color": "#19d3f3",
          "dash": "solid"
         },
         "marker": {
          "symbol": "circle"
         },
         "mode": "lines+markers",
         "name": "Israel",
         "showlegend": true,
         "type": "scattergl",
         "x": [
          "Pre_Covid",
          "2020",
          "2021",
          "Post_Covid"
         ],
         "xaxis": "x",
         "y": [
          314242566612.7001,
          "413267669231.522",
          "488526545878.891",
          517451971677.438
         ],
         "yaxis": "y"
        },
        {
         "hovertemplate": "Country Name=Italy<br>Phase=%{x}<br>GDP (in USD)=%{y}<extra></extra>",
         "legendgroup": "Italy",
         "line": {
          "color": "#FF6692",
          "dash": "solid"
         },
         "marker": {
          "symbol": "circle"
         },
         "mode": "lines+markers",
         "name": "Italy",
         "showlegend": true,
         "type": "scattergl",
         "x": [
          "Pre_Covid",
          "2020",
          "2021",
          "Post_Covid"
         ],
         "xaxis": "x",
         "y": [
          2060072584008.5989,
          "1897461635591.91",
          "2154875493744.93",
          2160911654642.75
         ],
         "yaxis": "y"
        },
        {
         "hovertemplate": "Country Name=Jamaica<br>Phase=%{x}<br>GDP (in USD)=%{y}<extra></extra>",
         "legendgroup": "Jamaica",
         "line": {
          "color": "#B6E880",
          "dash": "solid"
         },
         "marker": {
          "symbol": "circle"
         },
         "mode": "lines+markers",
         "name": "Jamaica",
         "showlegend": true,
         "type": "scattergl",
         "x": [
          "Pre_Covid",
          "2020",
          "2021",
          "Post_Covid"
         ],
         "xaxis": "x",
         "y": [
          14527229895.326859,
          "13812421835.7369",
          "14657586159.4316",
          18260558027.00735
         ],
         "yaxis": "y"
        },
        {
         "hovertemplate": "Country Name=Japan<br>Phase=%{x}<br>GDP (in USD)=%{y}<extra></extra>",
         "legendgroup": "Japan",
         "line": {
          "color": "#FF97FF",
          "dash": "solid"
         },
         "marker": {
          "symbol": "circle"
         },
         "mode": "lines+markers",
         "name": "Japan",
         "showlegend": true,
         "type": "scattergl",
         "x": [
          "Pre_Covid",
          "2020",
          "2021",
          "Post_Covid"
         ],
         "xaxis": "x",
         "y": [
          5291222496498.017,
          "5055587093501.59",
          "5034620784584.98",
          4234677960252.575
         ],
         "yaxis": "y"
        },
        {
         "hovertemplate": "Country Name=Jordan<br>Phase=%{x}<br>GDP (in USD)=%{y}<extra></extra>",
         "legendgroup": "Jordan",
         "line": {
          "color": "#FECB52",
          "dash": "solid"
         },
         "marker": {
          "symbol": "circle"
         },
         "mode": "lines+markers",
         "name": "Jordan",
         "showlegend": true,
         "type": "scattergl",
         "x": [
          "Pre_Covid",
          "2020",
          "2021",
          "Post_Covid"
         ],
         "xaxis": "x",
         "y": [
          36755628126.76058,
          "43700383098.5916",
          "46296100140.8451",
          49733512089.830246
         ],
         "yaxis": "y"
        },
        {
         "hovertemplate": "Country Name=Kazakhstan<br>Phase=%{x}<br>GDP (in USD)=%{y}<extra></extra>",
         "legendgroup": "Kazakhstan",
         "line": {
          "color": "#636efa",
          "dash": "solid"
         },
         "marker": {
          "symbol": "circle"
         },
         "mode": "lines+markers",
         "name": "Kazakhstan",
         "showlegend": true,
         "type": "scattergl",
         "x": [
          "Pre_Covid",
          "2020",
          "2021",
          "Post_Covid"
         ],
         "xaxis": "x",
         "y": [
          185620227489.04932,
          "171082365861.423",
          "197112255360.612",
          243458725005.533
         ],
         "yaxis": "y"
        },
        {
         "hovertemplate": "Country Name=Kenya<br>Phase=%{x}<br>GDP (in USD)=%{y}<extra></extra>",
         "legendgroup": "Kenya",
         "line": {
          "color": "#EF553B",
          "dash": "solid"
         },
         "marker": {
          "symbol": "circle"
         },
         "mode": "lines+markers",
         "name": "Kenya",
         "showlegend": true,
         "type": "scattergl",
         "x": [
          "Pre_Covid",
          "2020",
          "2021",
          "Post_Covid"
         ],
         "xaxis": "x",
         "y": [
          69818254793.87173,
          "100657505750.545",
          "109703658904.994",
          110430200975.9755
         ],
         "yaxis": "y"
        },
        {
         "hovertemplate": "Country Name=Kiribati<br>Phase=%{x}<br>GDP (in USD)=%{y}<extra></extra>",
         "legendgroup": "Kiribati",
         "line": {
          "color": "#00cc96",
          "dash": "solid"
         },
         "marker": {
          "symbol": "circle"
         },
         "mode": "lines+markers",
         "name": "Kiribati",
         "showlegend": true,
         "type": "scattergl",
         "x": [
          "Pre_Covid",
          "2020",
          "2021",
          "Post_Covid"
         ],
         "xaxis": "x",
         "y": [
          204207470.8226928,
          "222973879.711097",
          "289207526.306617",
          274777543.35373104
         ],
         "yaxis": "y"
        },
        {
         "hovertemplate": "Country Name=Korea, Dem. People's Rep.<br>Phase=%{x}<br>GDP (in USD)=%{y}<extra></extra>",
         "legendgroup": "Korea, Dem. People's Rep.",
         "line": {
          "color": "#ab63fa",
          "dash": "solid"
         },
         "marker": {
          "symbol": "circle"
         },
         "mode": "lines+markers",
         "name": "Korea, Dem. People's Rep.",
         "showlegend": true,
         "type": "scattergl",
         "x": [
          "Pre_Covid",
          "2020",
          "2021",
          "Post_Covid"
         ],
         "xaxis": "x",
         "y": [
          null,
          "..",
          "..",
          null
         ],
         "yaxis": "y"
        },
        {
         "hovertemplate": "Country Name=Korea, Rep.<br>Phase=%{x}<br>GDP (in USD)=%{y}<extra></extra>",
         "legendgroup": "Korea, Rep.",
         "line": {
          "color": "#FFA15A",
          "dash": "solid"
         },
         "marker": {
          "symbol": "circle"
         },
         "mode": "lines+markers",
         "name": "Korea, Rep.",
         "showlegend": true,
         "type": "scattergl",
         "x": [
          "Pre_Covid",
          "2020",
          "2021",
          "Post_Covid"
         ],
         "xaxis": "x",
         "y": [
          1449571916942.168,
          "1644312831906.17",
          "1818432106880.04",
          1693354683001.04
         ],
         "yaxis": "y"
        },
        {
         "hovertemplate": "Country Name=Kosovo<br>Phase=%{x}<br>GDP (in USD)=%{y}<extra></extra>",
         "legendgroup": "Kosovo",
         "line": {
          "color": "#19d3f3",
          "dash": "solid"
         },
         "marker": {
          "symbol": "circle"
         },
         "mode": "lines+markers",
         "name": "Kosovo",
         "showlegend": true,
         "type": "scattergl",
         "x": [
          "Pre_Covid",
          "2020",
          "2021",
          "Post_Covid"
         ],
         "xaxis": "x",
         "y": [
          6759655946.358833,
          "7717145217.81247",
          "9413403724.01899",
          9896627272.52875
         ],
         "yaxis": "y"
        },
        {
         "hovertemplate": "Country Name=Kuwait<br>Phase=%{x}<br>GDP (in USD)=%{y}<extra></extra>",
         "legendgroup": "Kuwait",
         "line": {
          "color": "#FF6692",
          "dash": "solid"
         },
         "marker": {
          "symbol": "circle"
         },
         "mode": "lines+markers",
         "name": "Kuwait",
         "showlegend": true,
         "type": "scattergl",
         "x": [
          "Pre_Covid",
          "2020",
          "2021",
          "Post_Covid"
         ],
         "xaxis": "x",
         "y": [
          140190036625.2838,
          "107512998447.021",
          "141777271268.694",
          172290852175.93298
         ],
         "yaxis": "y"
        },
        {
         "hovertemplate": "Country Name=Kyrgyz Republic<br>Phase=%{x}<br>GDP (in USD)=%{y}<extra></extra>",
         "legendgroup": "Kyrgyz Republic",
         "line": {
          "color": "#B6E880",
          "dash": "solid"
         },
         "marker": {
          "symbol": "circle"
         },
         "mode": "lines+markers",
         "name": "Kyrgyz Republic",
         "showlegend": true,
         "type": "scattergl",
         "x": [
          "Pre_Covid",
          "2020",
          "2021",
          "Post_Covid"
         ],
         "xaxis": "x",
         "y": [
          7123699971.491835,
          "8270468614.24051",
          "9249133946.26531",
          13061279463.3923
         ],
         "yaxis": "y"
        },
        {
         "hovertemplate": "Country Name=Lao PDR<br>Phase=%{x}<br>GDP (in USD)=%{y}<extra></extra>",
         "legendgroup": "Lao PDR",
         "line": {
          "color": "#FF97FF",
          "dash": "solid"
         },
         "marker": {
          "symbol": "circle"
         },
         "mode": "lines+markers",
         "name": "Lao PDR",
         "showlegend": true,
         "type": "scattergl",
         "x": [
          "Pre_Covid",
          "2020",
          "2021",
          "Post_Covid"
         ],
         "xaxis": "x",
         "y": [
          13562946041.63254,
          "18981805250.2424",
          "18827148530.9347",
          15655970467.5042
         ],
         "yaxis": "y"
        },
        {
         "hovertemplate": "Country Name=Latvia<br>Phase=%{x}<br>GDP (in USD)=%{y}<extra></extra>",
         "legendgroup": "Latvia",
         "line": {
          "color": "#FECB52",
          "dash": "solid"
         },
         "marker": {
          "symbol": "circle"
         },
         "mode": "lines+markers",
         "name": "Latvia",
         "showlegend": true,
         "type": "scattergl",
         "x": [
          "Pre_Covid",
          "2020",
          "2021",
          "Post_Covid"
         ],
         "xaxis": "x",
         "y": [
          29567719131.056366,
          "34390910338.9604",
          "39443126174.4335",
          42024800212.3644
         ],
         "yaxis": "y"
        },
        {
         "hovertemplate": "Country Name=Lebanon<br>Phase=%{x}<br>GDP (in USD)=%{y}<extra></extra>",
         "legendgroup": "Lebanon",
         "line": {
          "color": "#636efa",
          "dash": "solid"
         },
         "marker": {
          "symbol": "circle"
         },
         "mode": "lines+markers",
         "name": "Lebanon",
         "showlegend": true,
         "type": "scattergl",
         "x": [
          "Pre_Covid",
          "2020",
          "2021",
          "Post_Covid"
         ],
         "xaxis": "x",
         "y": [
          47797495493.02791,
          "31712128253.7961",
          "23131941556.7843",
          20992421948.8081
         ],
         "yaxis": "y"
        },
        {
         "hovertemplate": "Country Name=Lesotho<br>Phase=%{x}<br>GDP (in USD)=%{y}<extra></extra>",
         "legendgroup": "Lesotho",
         "line": {
          "color": "#EF553B",
          "dash": "solid"
         },
         "marker": {
          "symbol": "circle"
         },
         "mode": "lines+markers",
         "name": "Lesotho",
         "showlegend": true,
         "type": "scattergl",
         "x": [
          "Pre_Covid",
          "2020",
          "2021",
          "Post_Covid"
         ],
         "xaxis": "x",
         "y": [
          2382784650.398108,
          "2053338465.24462",
          "2406780518.52811",
          2167697136.93001
         ],
         "yaxis": "y"
        },
        {
         "hovertemplate": "Country Name=Liberia<br>Phase=%{x}<br>GDP (in USD)=%{y}<extra></extra>",
         "legendgroup": "Liberia",
         "line": {
          "color": "#00cc96",
          "dash": "solid"
         },
         "marker": {
          "symbol": "circle"
         },
         "mode": "lines+markers",
         "name": "Liberia",
         "showlegend": true,
         "type": "scattergl",
         "x": [
          "Pre_Covid",
          "2020",
          "2021",
          "Post_Covid"
         ],
         "xaxis": "x",
         "y": [
          3034901410,
          "3176126340",
          "3513049520",
          4166523500
         ],
         "yaxis": "y"
        },
        {
         "hovertemplate": "Country Name=Libya<br>Phase=%{x}<br>GDP (in USD)=%{y}<extra></extra>",
         "legendgroup": "Libya",
         "line": {
          "color": "#ab63fa",
          "dash": "solid"
         },
         "marker": {
          "symbol": "circle"
         },
         "mode": "lines+markers",
         "name": "Libya",
         "showlegend": true,
         "type": "scattergl",
         "x": [
          "Pre_Covid",
          "2020",
          "2021",
          "Post_Covid"
         ],
         "xaxis": "x",
         "y": [
          66336950834.64412,
          "65688454971.5663",
          "47786789103.8172",
          53215224771.897354
         ],
         "yaxis": "y"
        },
        {
         "hovertemplate": "Country Name=Liechtenstein<br>Phase=%{x}<br>GDP (in USD)=%{y}<extra></extra>",
         "legendgroup": "Liechtenstein",
         "line": {
          "color": "#FFA15A",
          "dash": "solid"
         },
         "marker": {
          "symbol": "circle"
         },
         "mode": "lines+markers",
         "name": "Liechtenstein",
         "showlegend": true,
         "type": "scattergl",
         "x": [
          "Pre_Covid",
          "2020",
          "2021",
          "Post_Covid"
         ],
         "xaxis": "x",
         "y": [
          6143659474.251892,
          "6405870210.32293",
          "7710380085.92257",
          7364654515.13984
         ],
         "yaxis": "y"
        },
        {
         "hovertemplate": "Country Name=Lithuania<br>Phase=%{x}<br>GDP (in USD)=%{y}<extra></extra>",
         "legendgroup": "Lithuania",
         "line": {
          "color": "#19d3f3",
          "dash": "solid"
         },
         "marker": {
          "symbol": "circle"
         },
         "mode": "lines+markers",
         "name": "Lithuania",
         "showlegend": true,
         "type": "scattergl",
         "x": [
          "Pre_Covid",
          "2020",
          "2021",
          "Post_Covid"
         ],
         "xaxis": "x",
         "y": [
          45944980209.747894,
          "56964942999.3651",
          "66798933785.7702",
          74425175205.49025
         ],
         "yaxis": "y"
        },
        {
         "hovertemplate": "Country Name=Luxembourg<br>Phase=%{x}<br>GDP (in USD)=%{y}<extra></extra>",
         "legendgroup": "Luxembourg",
         "line": {
          "color": "#FF6692",
          "dash": "solid"
         },
         "marker": {
          "symbol": "circle"
         },
         "mode": "lines+markers",
         "name": "Luxembourg",
         "showlegend": true,
         "type": "scattergl",
         "x": [
          "Pre_Covid",
          "2020",
          "2021",
          "Post_Covid"
         ],
         "xaxis": "x",
         "y": [
          64058625428.47583,
          "73699366700.2134",
          "85584105993.8746",
          83698406994.67834
         ],
         "yaxis": "y"
        },
        {
         "hovertemplate": "Country Name=Macao SAR, China<br>Phase=%{x}<br>GDP (in USD)=%{y}<extra></extra>",
         "legendgroup": "Macao SAR, China",
         "line": {
          "color": "#B6E880",
          "dash": "solid"
         },
         "marker": {
          "symbol": "circle"
         },
         "mode": "lines+markers",
         "name": "Macao SAR, China",
         "showlegend": true,
         "type": "scattergl",
         "x": [
          "Pre_Covid",
          "2020",
          "2021",
          "Post_Covid"
         ],
         "xaxis": "x",
         "y": [
          46549266110.05869,
          "25343525935.8358",
          "30969334705.0515",
          35763281452.959045
         ],
         "yaxis": "y"
        },
        {
         "hovertemplate": "Country Name=Madagascar<br>Phase=%{x}<br>GDP (in USD)=%{y}<extra></extra>",
         "legendgroup": "Madagascar",
         "line": {
          "color": "#FF97FF",
          "dash": "solid"
         },
         "marker": {
          "symbol": "circle"
         },
         "mode": "lines+markers",
         "name": "Madagascar",
         "showlegend": true,
         "type": "scattergl",
         "x": [
          "Pre_Covid",
          "2020",
          "2021",
          "Post_Covid"
         ],
         "xaxis": "x",
         "y": [
          12227266498.659899,
          "13051441203.9474",
          "14554754116.5427",
          15667106707.486149
         ],
         "yaxis": "y"
        },
        {
         "hovertemplate": "Country Name=Malawi<br>Phase=%{x}<br>GDP (in USD)=%{y}<extra></extra>",
         "legendgroup": "Malawi",
         "line": {
          "color": "#FECB52",
          "dash": "solid"
         },
         "marker": {
          "symbol": "circle"
         },
         "mode": "lines+markers",
         "name": "Malawi",
         "showlegend": true,
         "type": "scattergl",
         "x": [
          "Pre_Covid",
          "2020",
          "2021",
          "Post_Covid"
         ],
         "xaxis": "x",
         "y": [
          9441343503.444141,
          "12041250083.8828",
          "12580922008.2096",
          13606899694.0527
         ],
         "yaxis": "y"
        },
        {
         "hovertemplate": "Country Name=Malaysia<br>Phase=%{x}<br>GDP (in USD)=%{y}<extra></extra>",
         "legendgroup": "Malaysia",
         "line": {
          "color": "#636efa",
          "dash": "solid"
         },
         "marker": {
          "symbol": "circle"
         },
         "mode": "lines+markers",
         "name": "Malaysia",
         "showlegend": true,
         "type": "scattergl",
         "x": [
          "Pre_Covid",
          "2020",
          "2021",
          "Post_Covid"
         ],
         "xaxis": "x",
         "y": [
          317444164712.3876,
          "337456163961.211",
          "373832428055.449",
          403338140130.56006
         ],
         "yaxis": "y"
        },
        {
         "hovertemplate": "Country Name=Maldives<br>Phase=%{x}<br>GDP (in USD)=%{y}<extra></extra>",
         "legendgroup": "Maldives",
         "line": {
          "color": "#EF553B",
          "dash": "solid"
         },
         "marker": {
          "symbol": "circle"
         },
         "mode": "lines+markers",
         "name": "Maldives",
         "showlegend": true,
         "type": "scattergl",
         "x": [
          "Pre_Covid",
          "2020",
          "2021",
          "Post_Covid"
         ],
         "xaxis": "x",
         "y": [
          3972736573.0233183,
          "3712604583.36665",
          "5254366312.27648",
          6385319373.156879
         ],
         "yaxis": "y"
        },
        {
         "hovertemplate": "Country Name=Mali<br>Phase=%{x}<br>GDP (in USD)=%{y}<extra></extra>",
         "legendgroup": "Mali",
         "line": {
          "color": "#00cc96",
          "dash": "solid"
         },
         "marker": {
          "symbol": "circle"
         },
         "mode": "lines+markers",
         "name": "Mali",
         "showlegend": true,
         "type": "scattergl",
         "x": [
          "Pre_Covid",
          "2020",
          "2021",
          "Post_Covid"
         ],
         "xaxis": "x",
         "y": [
          14058158811.79599,
          "17465392764.3706",
          "19309463508.0377",
          19842610250.00425
         ],
         "yaxis": "y"
        },
        {
         "hovertemplate": "Country Name=Malta<br>Phase=%{x}<br>GDP (in USD)=%{y}<extra></extra>",
         "legendgroup": "Malta",
         "line": {
          "color": "#ab63fa",
          "dash": "solid"
         },
         "marker": {
          "symbol": "circle"
         },
         "mode": "lines+markers",
         "name": "Malta",
         "showlegend": true,
         "type": "scattergl",
         "x": [
          "Pre_Covid",
          "2020",
          "2021",
          "Post_Covid"
         ],
         "xaxis": "x",
         "y": [
          11796620726.65388,
          "15249999048.0297",
          "18123718946.6006",
          19657034362.599953
         ],
         "yaxis": "y"
        },
        {
         "hovertemplate": "Country Name=Marshall Islands<br>Phase=%{x}<br>GDP (in USD)=%{y}<extra></extra>",
         "legendgroup": "Marshall Islands",
         "line": {
          "color": "#FFA15A",
          "dash": "solid"
         },
         "marker": {
          "symbol": "circle"
         },
         "mode": "lines+markers",
         "name": "Marshall Islands",
         "showlegend": true,
         "type": "scattergl",
         "x": [
          "Pre_Covid",
          "2020",
          "2021",
          "Post_Covid"
         ],
         "xaxis": "x",
         "y": [
          193272561.6455078,
          "240751144.40918",
          "257784881.591797",
          271387237.548828
         ],
         "yaxis": "y"
        },
        {
         "hovertemplate": "Country Name=Mauritania<br>Phase=%{x}<br>GDP (in USD)=%{y}<extra></extra>",
         "legendgroup": "Mauritania",
         "line": {
          "color": "#19d3f3",
          "dash": "solid"
         },
         "marker": {
          "symbol": "circle"
         },
         "mode": "lines+markers",
         "name": "Mauritania",
         "showlegend": true,
         "type": "scattergl",
         "x": [
          "Pre_Covid",
          "2020",
          "2021",
          "Post_Covid"
         ],
         "xaxis": "x",
         "y": [
          6767138708.878279,
          "8260752385.23089",
          "9222536364.01272",
          10098308288.65728
         ],
         "yaxis": "y"
        },
        {
         "hovertemplate": "Country Name=Mauritius<br>Phase=%{x}<br>GDP (in USD)=%{y}<extra></extra>",
         "legendgroup": "Mauritius",
         "line": {
          "color": "#FF6692",
          "dash": "solid"
         },
         "marker": {
          "symbol": "circle"
         },
         "mode": "lines+markers",
         "name": "Mauritius",
         "showlegend": true,
         "type": "scattergl",
         "x": [
          "Pre_Covid",
          "2020",
          "2021",
          "Post_Covid"
         ],
         "xaxis": "x",
         "y": [
          12604488016.18432,
          "11408106446.3144",
          "11484348766.0434",
          13662553283.7141
         ],
         "yaxis": "y"
        },
        {
         "hovertemplate": "Country Name=Mexico<br>Phase=%{x}<br>GDP (in USD)=%{y}<extra></extra>",
         "legendgroup": "Mexico",
         "line": {
          "color": "#B6E880",
          "dash": "solid"
         },
         "marker": {
          "symbol": "circle"
         },
         "mode": "lines+markers",
         "name": "Mexico",
         "showlegend": true,
         "type": "scattergl",
         "x": [
          "Pre_Covid",
          "2020",
          "2021",
          "Post_Covid"
         ],
         "xaxis": "x",
         "y": [
          1235925313464.036,
          "1120832412468.85",
          "1313069763986.6",
          1626105355041.685
         ],
         "yaxis": "y"
        },
        {
         "hovertemplate": "Country Name=Micronesia, Fed. Sts.<br>Phase=%{x}<br>GDP (in USD)=%{y}<extra></extra>",
         "legendgroup": "Micronesia, Fed. Sts.",
         "line": {
          "color": "#FF97FF",
          "dash": "solid"
         },
         "marker": {
          "symbol": "circle"
         },
         "mode": "lines+markers",
         "name": "Micronesia, Fed. Sts.",
         "showlegend": true,
         "type": "scattergl",
         "x": [
          "Pre_Covid",
          "2020",
          "2021",
          "Post_Covid"
         ],
         "xaxis": "x",
         "y": [
          335846990,
          "372000000",
          "390000000",
          445000000
         ],
         "yaxis": "y"
        },
        {
         "hovertemplate": "Country Name=Moldova<br>Phase=%{x}<br>GDP (in USD)=%{y}<extra></extra>",
         "legendgroup": "Moldova",
         "line": {
          "color": "#FECB52",
          "dash": "solid"
         },
         "marker": {
          "symbol": "circle"
         },
         "mode": "lines+markers",
         "name": "Moldova",
         "showlegend": true,
         "type": "scattergl",
         "x": [
          "Pre_Covid",
          "2020",
          "2021",
          "Post_Covid"
         ],
         "xaxis": "x",
         "y": [
          9127941980.247828,
          "11530746234.4492",
          "13691869264.0794",
          15524963603.7733
         ],
         "yaxis": "y"
        },
        {
         "hovertemplate": "Country Name=Monaco<br>Phase=%{x}<br>GDP (in USD)=%{y}<extra></extra>",
         "legendgroup": "Monaco",
         "line": {
          "color": "#636efa",
          "dash": "solid"
         },
         "marker": {
          "symbol": "circle"
         },
         "mode": "lines+markers",
         "name": "Monaco",
         "showlegend": true,
         "type": "scattergl",
         "x": [
          "Pre_Covid",
          "2020",
          "2021",
          "Post_Covid"
         ],
         "xaxis": "x",
         "y": [
          6454890074.952887,
          "6739645416.47916",
          "8626081320.50612",
          8784002931.68665
         ],
         "yaxis": "y"
        },
        {
         "hovertemplate": "Country Name=Mongolia<br>Phase=%{x}<br>GDP (in USD)=%{y}<extra></extra>",
         "legendgroup": "Mongolia",
         "line": {
          "color": "#EF553B",
          "dash": "solid"
         },
         "marker": {
          "symbol": "circle"
         },
         "mode": "lines+markers",
         "name": "Mongolia",
         "showlegend": true,
         "type": "scattergl",
         "x": [
          "Pre_Covid",
          "2020",
          "2021",
          "Post_Covid"
         ],
         "xaxis": "x",
         "y": [
          11636723199.944324,
          "13312981429.0891",
          "15286441737.6686",
          18509326041.687748
         ],
         "yaxis": "y"
        },
        {
         "hovertemplate": "Country Name=Montenegro<br>Phase=%{x}<br>GDP (in USD)=%{y}<extra></extra>",
         "legendgroup": "Montenegro",
         "line": {
          "color": "#00cc96",
          "dash": "solid"
         },
         "marker": {
          "symbol": "circle"
         },
         "mode": "lines+markers",
         "name": "Montenegro",
         "showlegend": true,
         "type": "scattergl",
         "x": [
          "Pre_Covid",
          "2020",
          "2021",
          "Post_Covid"
         ],
         "xaxis": "x",
         "y": [
          4617182075.431932,
          "4769996866.00758",
          "5861427505.12493",
          6817171772.649679
         ],
         "yaxis": "y"
        },
        {
         "hovertemplate": "Country Name=Morocco<br>Phase=%{x}<br>GDP (in USD)=%{y}<extra></extra>",
         "legendgroup": "Morocco",
         "line": {
          "color": "#ab63fa",
          "dash": "solid"
         },
         "marker": {
          "symbol": "circle"
         },
         "mode": "lines+markers",
         "name": "Morocco",
         "showlegend": true,
         "type": "scattergl",
         "x": [
          "Pre_Covid",
          "2020",
          "2021",
          "Post_Covid"
         ],
         "xaxis": "x",
         "y": [
          114954224003.93169,
          "121353645057.144",
          "141817797083.468",
          136010966019.627
         ],
         "yaxis": "y"
        },
        {
         "hovertemplate": "Country Name=Mozambique<br>Phase=%{x}<br>GDP (in USD)=%{y}<extra></extra>",
         "legendgroup": "Mozambique",
         "line": {
          "color": "#FFA15A",
          "dash": "solid"
         },
         "marker": {
          "symbol": "circle"
         },
         "mode": "lines+markers",
         "name": "Mozambique",
         "showlegend": true,
         "type": "scattergl",
         "x": [
          "Pre_Covid",
          "2020",
          "2021",
          "Post_Covid"
         ],
         "xaxis": "x",
         "y": [
          14996840415.950598,
          "14235420174.1813",
          "16168055475.085",
          19515716670.74815
         ],
         "yaxis": "y"
        },
        {
         "hovertemplate": "Country Name=Myanmar<br>Phase=%{x}<br>GDP (in USD)=%{y}<extra></extra>",
         "legendgroup": "Myanmar",
         "line": {
          "color": "#19d3f3",
          "dash": "solid"
         },
         "marker": {
          "symbol": "circle"
         },
         "mode": "lines+markers",
         "name": "Myanmar",
         "showlegend": true,
         "type": "scattergl",
         "x": [
          "Pre_Covid",
          "2020",
          "2021",
          "Post_Covid"
         ],
         "xaxis": "x",
         "y": [
          62714135823.522545,
          "79006113643.1906",
          "66345291160.1683",
          63534040780.37005
         ],
         "yaxis": "y"
        },
        {
         "hovertemplate": "Country Name=Namibia<br>Phase=%{x}<br>GDP (in USD)=%{y}<extra></extra>",
         "legendgroup": "Namibia",
         "line": {
          "color": "#FF6692",
          "dash": "solid"
         },
         "marker": {
          "symbol": "circle"
         },
         "mode": "lines+markers",
         "name": "Namibia",
         "showlegend": true,
         "type": "scattergl",
         "x": [
          "Pre_Covid",
          "2020",
          "2021",
          "Post_Covid"
         ],
         "xaxis": "x",
         "y": [
          12265184360.59956,
          "10583748541.5258",
          "12402486183.6396",
          12459147924.2114
         ],
         "yaxis": "y"
        },
        {
         "hovertemplate": "Country Name=Nauru<br>Phase=%{x}<br>GDP (in USD)=%{y}<extra></extra>",
         "legendgroup": "Nauru",
         "line": {
          "color": "#B6E880",
          "dash": "solid"
         },
         "marker": {
          "symbol": "circle"
         },
         "mode": "lines+markers",
         "name": "Nauru",
         "showlegend": true,
         "type": "scattergl",
         "x": [
          "Pre_Covid",
          "2020",
          "2021",
          "Post_Covid"
         ],
         "xaxis": "x",
         "y": [
          95514141.10168278,
          "124685688.161094",
          "175390280.69162",
          153976203.83202899
         ],
         "yaxis": "y"
        },
        {
         "hovertemplate": "Country Name=Nepal<br>Phase=%{x}<br>GDP (in USD)=%{y}<extra></extra>",
         "legendgroup": "Nepal",
         "line": {
          "color": "#FF97FF",
          "dash": "solid"
         },
         "marker": {
          "symbol": "circle"
         },
         "mode": "lines+markers",
         "name": "Nepal",
         "showlegend": true,
         "type": "scattergl",
         "x": [
          "Pre_Covid",
          "2020",
          "2021",
          "Post_Covid"
         ],
         "xaxis": "x",
         "y": [
          24932765322.59011,
          "33433659301.2466",
          "36924841394.2605",
          41045506483.75775
         ],
         "yaxis": "y"
        },
        {
         "hovertemplate": "Country Name=Netherlands<br>Phase=%{x}<br>GDP (in USD)=%{y}<extra></extra>",
         "legendgroup": "Netherlands",
         "line": {
          "color": "#FECB52",
          "dash": "solid"
         },
         "marker": {
          "symbol": "circle"
         },
         "mode": "lines+markers",
         "name": "Netherlands",
         "showlegend": true,
         "type": "scattergl",
         "x": [
          "Pre_Covid",
          "2020",
          "2021",
          "Post_Covid"
         ],
         "xaxis": "x",
         "y": [
          856865624482.6868,
          "909793466661.481",
          "1029678338329.44",
          1063761734459.685
         ],
         "yaxis": "y"
        },
        {
         "hovertemplate": "Country Name=New Caledonia<br>Phase=%{x}<br>GDP (in USD)=%{y}<extra></extra>",
         "legendgroup": "New Caledonia",
         "line": {
          "color": "#636efa",
          "dash": "solid"
         },
         "marker": {
          "symbol": "circle"
         },
         "mode": "lines+markers",
         "name": "New Caledonia",
         "showlegend": true,
         "type": "scattergl",
         "x": [
          "Pre_Covid",
          "2020",
          "2021",
          "Post_Covid"
         ],
         "xaxis": "x",
         "y": [
          9617024684.655697,
          "9454629467.91408",
          "10071349663.8484",
          9623318718.31459
         ],
         "yaxis": "y"
        },
        {
         "hovertemplate": "Country Name=New Zealand<br>Phase=%{x}<br>GDP (in USD)=%{y}<extra></extra>",
         "legendgroup": "New Zealand",
         "line": {
          "color": "#EF553B",
          "dash": "solid"
         },
         "marker": {
          "symbol": "circle"
         },
         "mode": "lines+markers",
         "name": "New Zealand",
         "showlegend": true,
         "type": "scattergl",
         "x": [
          "Pre_Covid",
          "2020",
          "2021",
          "Post_Covid"
         ],
         "xaxis": "x",
         "y": [
          188153377947.3267,
          "212697530897.56",
          "253644079784.977",
          250099613036.7495
         ],
         "yaxis": "y"
        },
        {
         "hovertemplate": "Country Name=Nicaragua<br>Phase=%{x}<br>GDP (in USD)=%{y}<extra></extra>",
         "legendgroup": "Nicaragua",
         "line": {
          "color": "#00cc96",
          "dash": "solid"
         },
         "marker": {
          "symbol": "circle"
         },
         "mode": "lines+markers",
         "name": "Nicaragua",
         "showlegend": true,
         "type": "scattergl",
         "x": [
          "Pre_Covid",
          "2020",
          "2021",
          "Post_Covid"
         ],
         "xaxis": "x",
         "y": [
          11748129115.16886,
          "12681548303.6856",
          "14144067555.6566",
          16739574749.363651
         ],
         "yaxis": "y"
        },
        {
         "hovertemplate": "Country Name=Niger<br>Phase=%{x}<br>GDP (in USD)=%{y}<extra></extra>",
         "legendgroup": "Niger",
         "line": {
          "color": "#ab63fa",
          "dash": "solid"
         },
         "marker": {
          "symbol": "circle"
         },
         "mode": "lines+markers",
         "name": "Niger",
         "showlegend": true,
         "type": "scattergl",
         "x": [
          "Pre_Covid",
          "2020",
          "2021",
          "Post_Covid"
         ],
         "xaxis": "x",
         "y": [
          10413359412.710615,
          "13744653103.058",
          "14915002436.069",
          16126511566.430801
         ],
         "yaxis": "y"
        },
        {
         "hovertemplate": "Country Name=Nigeria<br>Phase=%{x}<br>GDP (in USD)=%{y}<extra></extra>",
         "legendgroup": "Nigeria",
         "line": {
          "color": "#FFA15A",
          "dash": "solid"
         },
         "marker": {
          "symbol": "circle"
         },
         "mode": "lines+markers",
         "name": "Nigeria",
         "showlegend": true,
         "type": "scattergl",
         "x": [
          "Pre_Covid",
          "2020",
          "2021",
          "Post_Covid"
         ],
         "xaxis": "x",
         "y": [
          450940733738.46533,
          "432198898467.795",
          "440838992188.478",
          417719774311.0055
         ],
         "yaxis": "y"
        },
        {
         "hovertemplate": "Country Name=North Macedonia<br>Phase=%{x}<br>GDP (in USD)=%{y}<extra></extra>",
         "legendgroup": "North Macedonia",
         "line": {
          "color": "#19d3f3",
          "dash": "solid"
         },
         "marker": {
          "symbol": "circle"
         },
         "mode": "lines+markers",
         "name": "North Macedonia",
         "showlegend": true,
         "type": "scattergl",
         "x": [
          "Pre_Covid",
          "2020",
          "2021",
          "Post_Covid"
         ],
         "xaxis": "x",
         "y": [
          10916048665.674969,
          "12361036913.8409",
          "14000283827.0154",
          14236353361.6796
         ],
         "yaxis": "y"
        },
        {
         "hovertemplate": "Country Name=Northern Mariana Islands<br>Phase=%{x}<br>GDP (in USD)=%{y}<extra></extra>",
         "legendgroup": "Northern Mariana Islands",
         "line": {
          "color": "#FF6692",
          "dash": "solid"
         },
         "marker": {
          "symbol": "circle"
         },
         "mode": "lines+markers",
         "name": "Northern Mariana Islands",
         "showlegend": true,
         "type": "scattergl",
         "x": [
          "Pre_Covid",
          "2020",
          "2021",
          "Post_Covid"
         ],
         "xaxis": "x",
         "y": [
          1006000000,
          "858000000",
          "..",
          null
         ],
         "yaxis": "y"
        },
        {
         "hovertemplate": "Country Name=Norway<br>Phase=%{x}<br>GDP (in USD)=%{y}<extra></extra>",
         "legendgroup": "Norway",
         "line": {
          "color": "#B6E880",
          "dash": "solid"
         },
         "marker": {
          "symbol": "circle"
         },
         "mode": "lines+markers",
         "name": "Norway",
         "showlegend": true,
         "type": "scattergl",
         "x": [
          "Pre_Covid",
          "2020",
          "2021",
          "Post_Covid"
         ],
         "xaxis": "x",
         "y": [
          448233374506.1522,
          "367633418886.627",
          "503367986030.268",
          539620140959.6245
         ],
         "yaxis": "y"
        },
        {
         "hovertemplate": "Country Name=Oman<br>Phase=%{x}<br>GDP (in USD)=%{y}<extra></extra>",
         "legendgroup": "Oman",
         "line": {
          "color": "#FF97FF",
          "dash": "solid"
         },
         "marker": {
          "symbol": "circle"
         },
         "mode": "lines+markers",
         "name": "Oman",
         "showlegend": true,
         "type": "scattergl",
         "x": [
          "Pre_Covid",
          "2020",
          "2021",
          "Post_Covid"
         ],
         "xaxis": "x",
         "y": [
          82679791937.58127,
          "75909397659.2978",
          "88191977373.212",
          111429908972.6915
         ],
         "yaxis": "y"
        },
        {
         "hovertemplate": "Country Name=Pakistan<br>Phase=%{x}<br>GDP (in USD)=%{y}<extra></extra>",
         "legendgroup": "Pakistan",
         "line": {
          "color": "#FECB52",
          "dash": "solid"
         },
         "marker": {
          "symbol": "circle"
         },
         "mode": "lines+markers",
         "name": "Pakistan",
         "showlegend": true,
         "type": "scattergl",
         "x": [
          "Pre_Covid",
          "2020",
          "2021",
          "Post_Covid"
         ],
         "xaxis": "x",
         "y": [
          283728764054.5897,
          "300425609817.981",
          "348516647445.148",
          356578207100.092
         ],
         "yaxis": "y"
        },
        {
         "hovertemplate": "Country Name=Palau<br>Phase=%{x}<br>GDP (in USD)=%{y}<extra></extra>",
         "legendgroup": "Palau",
         "line": {
          "color": "#636efa",
          "dash": "solid"
         },
         "marker": {
          "symbol": "circle"
         },
         "mode": "lines+markers",
         "name": "Palau",
         "showlegend": true,
         "type": "scattergl",
         "x": [
          "Pre_Covid",
          "2020",
          "2021",
          "Post_Covid"
         ],
         "xaxis": "x",
         "y": [
          252776255.7983399,
          "261179138.183594",
          "229858184.814453",
          252677221.71690398
         ],
         "yaxis": "y"
        },
        {
         "hovertemplate": "Country Name=Panama<br>Phase=%{x}<br>GDP (in USD)=%{y}<extra></extra>",
         "legendgroup": "Panama",
         "line": {
          "color": "#EF553B",
          "dash": "solid"
         },
         "marker": {
          "symbol": "circle"
         },
         "mode": "lines+markers",
         "name": "Panama",
         "showlegend": true,
         "type": "scattergl",
         "x": [
          "Pre_Covid",
          "2020",
          "2021",
          "Post_Covid"
         ],
         "xaxis": "x",
         "y": [
          51129566860,
          "57086836900",
          "67406738100",
          79952455890.3111
         ],
         "yaxis": "y"
        },
        {
         "hovertemplate": "Country Name=Papua New Guinea<br>Phase=%{x}<br>GDP (in USD)=%{y}<extra></extra>",
         "legendgroup": "Papua New Guinea",
         "line": {
          "color": "#00cc96",
          "dash": "solid"
         },
         "marker": {
          "symbol": "circle"
         },
         "mode": "lines+markers",
         "name": "Papua New Guinea",
         "showlegend": true,
         "type": "scattergl",
         "x": [
          "Pre_Covid",
          "2020",
          "2021",
          "Post_Covid"
         ],
         "xaxis": "x",
         "y": [
          21208911617.81876,
          "23848445103.9227",
          "26113333240.2333",
          31268057643.21275
         ],
         "yaxis": "y"
        },
        {
         "hovertemplate": "Country Name=Paraguay<br>Phase=%{x}<br>GDP (in USD)=%{y}<extra></extra>",
         "legendgroup": "Paraguay",
         "line": {
          "color": "#ab63fa",
          "dash": "solid"
         },
         "marker": {
          "symbol": "circle"
         },
         "mode": "lines+markers",
         "name": "Paraguay",
         "showlegend": true,
         "type": "scattergl",
         "x": [
          "Pre_Covid",
          "2020",
          "2021",
          "Post_Covid"
         ],
         "xaxis": "x",
         "y": [
          36261716195.14879,
          "35432178068.1814",
          "39950899938.7482",
          42454587201.0164
         ],
         "yaxis": "y"
        },
        {
         "hovertemplate": "Country Name=Peru<br>Phase=%{x}<br>GDP (in USD)=%{y}<extra></extra>",
         "legendgroup": "Peru",
         "line": {
          "color": "#FFA15A",
          "dash": "solid"
         },
         "marker": {
          "symbol": "circle"
         },
         "mode": "lines+markers",
         "name": "Peru",
         "showlegend": true,
         "type": "scattergl",
         "x": [
          "Pre_Covid",
          "2020",
          "2021",
          "Post_Covid"
         ],
         "xaxis": "x",
         "y": [
          195755326487.00238,
          "201409694755.934",
          "226354278280.885",
          257046003145.732
         ],
         "yaxis": "y"
        },
        {
         "hovertemplate": "Country Name=Philippines<br>Phase=%{x}<br>GDP (in USD)=%{y}<extra></extra>",
         "legendgroup": "Philippines",
         "line": {
          "color": "#19d3f3",
          "dash": "solid"
         },
         "marker": {
          "symbol": "circle"
         },
         "mode": "lines+markers",
         "name": "Philippines",
         "showlegend": true,
         "type": "scattergl",
         "x": [
          "Pre_Covid",
          "2020",
          "2021",
          "Post_Covid"
         ],
         "xaxis": "x",
         "y": [
          296311145823.21094,
          "361751145451.597",
          "394087359848.11",
          420749871167.2865
         ],
         "yaxis": "y"
        },
        {
         "hovertemplate": "Country Name=Poland<br>Phase=%{x}<br>GDP (in USD)=%{y}<extra></extra>",
         "legendgroup": "Poland",
         "line": {
          "color": "#FF6692",
          "dash": "solid"
         },
         "marker": {
          "symbol": "circle"
         },
         "mode": "lines+markers",
         "name": "Poland",
         "showlegend": true,
         "type": "scattergl",
         "x": [
          "Pre_Covid",
          "2020",
          "2021",
          "Post_Covid"
         ],
         "xaxis": "x",
         "y": [
          520675915962.9813,
          "599442732365.372",
          "681346077608.607",
          750496215073.0035
         ],
         "yaxis": "y"
        },
        {
         "hovertemplate": "Country Name=Portugal<br>Phase=%{x}<br>GDP (in USD)=%{y}<extra></extra>",
         "legendgroup": "Portugal",
         "line": {
          "color": "#B6E880",
          "dash": "solid"
         },
         "marker": {
          "symbol": "circle"
         },
         "mode": "lines+markers",
         "name": "Portugal",
         "showlegend": true,
         "type": "scattergl",
         "x": [
          "Pre_Covid",
          "2020",
          "2021",
          "Post_Covid"
         ],
         "xaxis": "x",
         "y": [
          226526918905.12567,
          "229031860520.777",
          "255534839405.899",
          271138336754.4375
         ],
         "yaxis": "y"
        },
        {
         "hovertemplate": "Country Name=Puerto Rico<br>Phase=%{x}<br>GDP (in USD)=%{y}<extra></extra>",
         "legendgroup": "Puerto Rico",
         "line": {
          "color": "#FF97FF",
          "dash": "solid"
         },
         "marker": {
          "symbol": "circle"
         },
         "mode": "lines+markers",
         "name": "Puerto Rico",
         "showlegend": true,
         "type": "scattergl",
         "x": [
          "Pre_Covid",
          "2020",
          "2021",
          "Post_Covid"
         ],
         "xaxis": "x",
         "y": [
          102243580000,
          "103130900000",
          "106426600000",
          115734750000
         ],
         "yaxis": "y"
        },
        {
         "hovertemplate": "Country Name=Qatar<br>Phase=%{x}<br>GDP (in USD)=%{y}<extra></extra>",
         "legendgroup": "Qatar",
         "line": {
          "color": "#FECB52",
          "dash": "solid"
         },
         "marker": {
          "symbol": "circle"
         },
         "mode": "lines+markers",
         "name": "Qatar",
         "showlegend": true,
         "type": "scattergl",
         "x": [
          "Pre_Covid",
          "2020",
          "2021",
          "Post_Covid"
         ],
         "xaxis": "x",
         "y": [
          171896080005.4946,
          "144411363351.648",
          "179732009560.44",
          235770403734.9
         ],
         "yaxis": "y"
        },
        {
         "hovertemplate": "Country Name=Romania<br>Phase=%{x}<br>GDP (in USD)=%{y}<extra></extra>",
         "legendgroup": "Romania",
         "line": {
          "color": "#636efa",
          "dash": "solid"
         },
         "marker": {
          "symbol": "circle"
         },
         "mode": "lines+markers",
         "name": "Romania",
         "showlegend": true,
         "type": "scattergl",
         "x": [
          "Pre_Covid",
          "2020",
          "2021",
          "Post_Covid"
         ],
         "xaxis": "x",
         "y": [
          199893137557.363,
          "251362514349.697",
          "285810244501.933",
          324947047763.848
         ],
         "yaxis": "y"
        },
        {
         "hovertemplate": "Country Name=Russian Federation<br>Phase=%{x}<br>GDP (in USD)=%{y}<extra></extra>",
         "legendgroup": "Russian Federation",
         "line": {
          "color": "#EF553B",
          "dash": "solid"
         },
         "marker": {
          "symbol": "circle"
         },
         "mode": "lines+markers",
         "name": "Russian Federation",
         "showlegend": true,
         "type": "scattergl",
         "x": [
          "Pre_Covid",
          "2020",
          "2021",
          "Post_Covid"
         ],
         "xaxis": "x",
         "y": [
          1769575636007.912,
          "1493075894362.14",
          "1843392293734.38",
          2143725358340.38
         ],
         "yaxis": "y"
        },
        {
         "hovertemplate": "Country Name=Rwanda<br>Phase=%{x}<br>GDP (in USD)=%{y}<extra></extra>",
         "legendgroup": "Rwanda",
         "line": {
          "color": "#00cc96",
          "dash": "solid"
         },
         "marker": {
          "symbol": "circle"
         },
         "mode": "lines+markers",
         "name": "Rwanda",
         "showlegend": true,
         "type": "scattergl",
         "x": [
          "Pre_Covid",
          "2020",
          "2021",
          "Post_Covid"
         ],
         "xaxis": "x",
         "y": [
          8320243178.288144,
          "10174387614.2558",
          "11069280277.007",
          13706964725.5941
         ],
         "yaxis": "y"
        },
        {
         "hovertemplate": "Country Name=Samoa<br>Phase=%{x}<br>GDP (in USD)=%{y}<extra></extra>",
         "legendgroup": "Samoa",
         "line": {
          "color": "#ab63fa",
          "dash": "solid"
         },
         "marker": {
          "symbol": "circle"
         },
         "mode": "lines+markers",
         "name": "Samoa",
         "showlegend": true,
         "type": "scattergl",
         "x": [
          "Pre_Covid",
          "2020",
          "2021",
          "Post_Covid"
         ],
         "xaxis": "x",
         "y": [
          813623805.1647211,
          "868898358.266437",
          "843923638.733018",
          883522770.9564195
         ],
         "yaxis": "y"
        },
        {
         "hovertemplate": "Country Name=San Marino<br>Phase=%{x}<br>GDP (in USD)=%{y}<extra></extra>",
         "legendgroup": "San Marino",
         "line": {
          "color": "#FFA15A",
          "dash": "solid"
         },
         "marker": {
          "symbol": "circle"
         },
         "mode": "lines+markers",
         "name": "San Marino",
         "showlegend": true,
         "type": "scattergl",
         "x": [
          "Pre_Covid",
          "2020",
          "2021",
          "Post_Covid"
         ],
         "xaxis": "x",
         "y": [
          1634016992.179035,
          "1541247883.99351",
          "1855382833.1165",
          null
         ],
         "yaxis": "y"
        },
        {
         "hovertemplate": "Country Name=Sao Tome and Principe<br>Phase=%{x}<br>GDP (in USD)=%{y}<extra></extra>",
         "legendgroup": "Sao Tome and Principe",
         "line": {
          "color": "#19d3f3",
          "dash": "solid"
         },
         "marker": {
          "symbol": "circle"
         },
         "mode": "lines+markers",
         "name": "Sao Tome and Principe",
         "showlegend": true,
         "type": "scattergl",
         "x": [
          "Pre_Covid",
          "2020",
          "2021",
          "Post_Covid"
         ],
         "xaxis": "x",
         "y": [
          287697158.55497736,
          "471229484.607144",
          "524402450.755612",
          572963862.705897
         ],
         "yaxis": "y"
        },
        {
         "hovertemplate": "Country Name=Saudi Arabia<br>Phase=%{x}<br>GDP (in USD)=%{y}<extra></extra>",
         "legendgroup": "Saudi Arabia",
         "line": {
          "color": "#FF6692",
          "dash": "solid"
         },
         "marker": {
          "symbol": "circle"
         },
         "mode": "lines+markers",
         "name": "Saudi Arabia",
         "showlegend": true,
         "type": "scattergl",
         "x": [
          "Pre_Covid",
          "2020",
          "2021",
          "Post_Covid"
         ],
         "xaxis": "x",
         "y": [
          720278960000.0001,
          "734271200000",
          "874156000000",
          1088077200000
         ],
         "yaxis": "y"
        },
        {
         "hovertemplate": "Country Name=Senegal<br>Phase=%{x}<br>GDP (in USD)=%{y}<extra></extra>",
         "legendgroup": "Senegal",
         "line": {
          "color": "#B6E880",
          "dash": "solid"
         },
         "marker": {
          "symbol": "circle"
         },
         "mode": "lines+markers",
         "name": "Senegal",
         "showlegend": true,
         "type": "scattergl",
         "x": [
          "Pre_Covid",
          "2020",
          "2021",
          "Post_Covid"
         ],
         "xaxis": "x",
         "y": [
          19464473064.629448,
          "24530513037.7518",
          "27520784129.7508",
          29316732744.399597
         ],
         "yaxis": "y"
        },
        {
         "hovertemplate": "Country Name=Serbia<br>Phase=%{x}<br>GDP (in USD)=%{y}<extra></extra>",
         "legendgroup": "Serbia",
         "line": {
          "color": "#FF97FF",
          "dash": "solid"
         },
         "marker": {
          "symbol": "circle"
         },
         "mode": "lines+markers",
         "name": "Serbia",
         "showlegend": true,
         "type": "scattergl",
         "x": [
          "Pre_Covid",
          "2020",
          "2021",
          "Post_Covid"
         ],
         "xaxis": "x",
         "y": [
          45652589260.1176,
          "53356484591.4378",
          "63101042897.707",
          69375268073.7234
         ],
         "yaxis": "y"
        },
        {
         "hovertemplate": "Country Name=Seychelles<br>Phase=%{x}<br>GDP (in USD)=%{y}<extra></extra>",
         "legendgroup": "Seychelles",
         "line": {
          "color": "#FECB52",
          "dash": "solid"
         },
         "marker": {
          "symbol": "circle"
         },
         "mode": "lines+markers",
         "name": "Seychelles",
         "showlegend": true,
         "type": "scattergl",
         "x": [
          "Pre_Covid",
          "2020",
          "2021",
          "Post_Covid"
         ],
         "xaxis": "x",
         "y": [
          1417997273.1044393,
          "1382551751.56908",
          "1487173794.80528",
          2099709345.485115
         ],
         "yaxis": "y"
        },
        {
         "hovertemplate": "Country Name=Sierra Leone<br>Phase=%{x}<br>GDP (in USD)=%{y}<extra></extra>",
         "legendgroup": "Sierra Leone",
         "line": {
          "color": "#636efa",
          "dash": "solid"
         },
         "marker": {
          "symbol": "circle"
         },
         "mode": "lines+markers",
         "name": "Sierra Leone",
         "showlegend": true,
         "type": "scattergl",
         "x": [
          "Pre_Covid",
          "2020",
          "2021",
          "Post_Covid"
         ],
         "xaxis": "x",
         "y": [
          3923109689.3367057,
          "4062906265.7332",
          "4249234704.01866",
          3952198048.197575
         ],
         "yaxis": "y"
        },
        {
         "hovertemplate": "Country Name=Singapore<br>Phase=%{x}<br>GDP (in USD)=%{y}<extra></extra>",
         "legendgroup": "Singapore",
         "line": {
          "color": "#EF553B",
          "dash": "solid"
         },
         "marker": {
          "symbol": "circle"
         },
         "mode": "lines+markers",
         "name": "Singapore",
         "showlegend": true,
         "type": "scattergl",
         "x": [
          "Pre_Covid",
          "2020",
          "2021",
          "Post_Covid"
         ],
         "xaxis": "x",
         "y": [
          316080130967.8305,
          "349488382610.662",
          "434111559282.849",
          499951020533.91956
         ],
         "yaxis": "y"
        },
        {
         "hovertemplate": "Country Name=Sint Maarten (Dutch part)<br>Phase=%{x}<br>GDP (in USD)=%{y}<extra></extra>",
         "legendgroup": "Sint Maarten (Dutch part)",
         "line": {
          "color": "#00cc96",
          "dash": "solid"
         },
         "marker": {
          "symbol": "circle"
         },
         "mode": "lines+markers",
         "name": "Sint Maarten (Dutch part)",
         "showlegend": true,
         "type": "scattergl",
         "x": [
          "Pre_Covid",
          "2020",
          "2021",
          "Post_Covid"
         ],
         "xaxis": "x",
         "y": [
          1241318975.7914333,
          "1236428100.55866",
          "1353071061.45251",
          1580127199.106145
         ],
         "yaxis": "y"
        },
        {
         "hovertemplate": "Country Name=Slovak Republic<br>Phase=%{x}<br>GDP (in USD)=%{y}<extra></extra>",
         "legendgroup": "Slovak Republic",
         "line": {
          "color": "#ab63fa",
          "dash": "solid"
         },
         "marker": {
          "symbol": "circle"
         },
         "mode": "lines+markers",
         "name": "Slovak Republic",
         "showlegend": true,
         "type": "scattergl",
         "x": [
          "Pre_Covid",
          "2020",
          "2021",
          "Post_Covid"
         ],
         "xaxis": "x",
         "y": [
          97243467313.8475,
          "106737868873.941",
          "118563266602.359",
          124189182928.312
         ],
         "yaxis": "y"
        },
        {
         "hovertemplate": "Country Name=Slovenia<br>Phase=%{x}<br>GDP (in USD)=%{y}<extra></extra>",
         "legendgroup": "Slovenia",
         "line": {
          "color": "#FFA15A",
          "dash": "solid"
         },
         "marker": {
          "symbol": "circle"
         },
         "mode": "lines+markers",
         "name": "Slovenia",
         "showlegend": true,
         "type": "scattergl",
         "x": [
          "Pre_Covid",
          "2020",
          "2021",
          "Post_Covid"
         ],
         "xaxis": "x",
         "y": [
          48981061249.74205,
          "53734526854.2289",
          "61832201543.8285",
          64140128438.4337
         ],
         "yaxis": "y"
        },
        {
         "hovertemplate": "Country Name=Solomon Islands<br>Phase=%{x}<br>GDP (in USD)=%{y}<extra></extra>",
         "legendgroup": "Solomon Islands",
         "line": {
          "color": "#19d3f3",
          "dash": "solid"
         },
         "marker": {
          "symbol": "circle"
         },
         "mode": "lines+markers",
         "name": "Solomon Islands",
         "showlegend": true,
         "type": "scattergl",
         "x": [
          "Pre_Covid",
          "2020",
          "2021",
          "Post_Covid"
         ],
         "xaxis": "x",
         "y": [
          1316055019.2255864,
          "1536145814.17007",
          "1522794913.0914",
          1598823693.61074
         ],
         "yaxis": "y"
        },
        {
         "hovertemplate": "Country Name=Somalia<br>Phase=%{x}<br>GDP (in USD)=%{y}<extra></extra>",
         "legendgroup": "Somalia",
         "line": {
          "color": "#FF6692",
          "dash": "solid"
         },
         "marker": {
          "symbol": "circle"
         },
         "mode": "lines+markers",
         "name": "Somalia",
         "showlegend": true,
         "type": "scattergl",
         "x": [
          "Pre_Covid",
          "2020",
          "2021",
          "Post_Covid"
         ],
         "xaxis": "x",
         "y": [
          6233567295.723009,
          "9204140383.17612",
          "9838711529.45848",
          11049670656.0957
         ],
         "yaxis": "y"
        },
        {
         "hovertemplate": "Country Name=South Africa<br>Phase=%{x}<br>GDP (in USD)=%{y}<extra></extra>",
         "legendgroup": "South Africa",
         "line": {
          "color": "#B6E880",
          "dash": "solid"
         },
         "marker": {
          "symbol": "circle"
         },
         "mode": "lines+markers",
         "name": "South Africa",
         "showlegend": true,
         "type": "scattergl",
         "x": [
          "Pre_Covid",
          "2020",
          "2021",
          "Post_Covid"
         ],
         "xaxis": "x",
         "y": [
          393838361699.33234,
          "338291396026.698",
          "420117812466.041",
          391526225542.3055
         ],
         "yaxis": "y"
        },
        {
         "hovertemplate": "Country Name=South Sudan<br>Phase=%{x}<br>GDP (in USD)=%{y}<extra></extra>",
         "legendgroup": "South Sudan",
         "line": {
          "color": "#FF97FF",
          "dash": "solid"
         },
         "marker": {
          "symbol": "circle"
         },
         "mode": "lines+markers",
         "name": "South Sudan",
         "showlegend": true,
         "type": "scattergl",
         "x": [
          "Pre_Covid",
          "2020",
          "2021",
          "Post_Covid"
         ],
         "xaxis": "x",
         "y": [
          14304556022.971085,
          "..",
          "..",
          null
         ],
         "yaxis": "y"
        },
        {
         "hovertemplate": "Country Name=Spain<br>Phase=%{x}<br>GDP (in USD)=%{y}<extra></extra>",
         "legendgroup": "Spain",
         "line": {
          "color": "#FECB52",
          "dash": "solid"
         },
         "marker": {
          "symbol": "circle"
         },
         "mode": "lines+markers",
         "name": "Spain",
         "showlegend": true,
         "type": "scattergl",
         "x": [
          "Pre_Covid",
          "2020",
          "2021",
          "Post_Covid"
         ],
         "xaxis": "x",
         "y": [
          1351394954685.61,
          "1278128867875.49",
          "1445651653604.63",
          1499247589389.18
         ],
         "yaxis": "y"
        },
        {
         "hovertemplate": "Country Name=Sri Lanka<br>Phase=%{x}<br>GDP (in USD)=%{y}<extra></extra>",
         "legendgroup": "Sri Lanka",
         "line": {
          "color": "#636efa",
          "dash": "solid"
         },
         "marker": {
          "symbol": "circle"
         },
         "mode": "lines+markers",
         "name": "Sri Lanka",
         "showlegend": true,
         "type": "scattergl",
         "x": [
          "Pre_Covid",
          "2020",
          "2021",
          "Post_Covid"
         ],
         "xaxis": "x",
         "y": [
          80740410083.51064,
          "84304298770.5329",
          "88609332762.4729",
          79250867759.59436
         ],
         "yaxis": "y"
        },
        {
         "hovertemplate": "Country Name=St. Kitts and Nevis<br>Phase=%{x}<br>GDP (in USD)=%{y}<extra></extra>",
         "legendgroup": "St. Kitts and Nevis",
         "line": {
          "color": "#EF553B",
          "dash": "solid"
         },
         "marker": {
          "symbol": "circle"
         },
         "mode": "lines+markers",
         "name": "St. Kitts and Nevis",
         "showlegend": true,
         "type": "scattergl",
         "x": [
          "Pre_Covid",
          "2020",
          "2021",
          "Post_Covid"
         ],
         "xaxis": "x",
         "y": [
          947262222.2222229,
          "883922222.222222",
          "858622222.222222",
          1029231370.3703699
         ],
         "yaxis": "y"
        },
        {
         "hovertemplate": "Country Name=St. Lucia<br>Phase=%{x}<br>GDP (in USD)=%{y}<extra></extra>",
         "legendgroup": "St. Lucia",
         "line": {
          "color": "#00cc96",
          "dash": "solid"
         },
         "marker": {
          "symbol": "circle"
         },
         "mode": "lines+markers",
         "name": "St. Lucia",
         "showlegend": true,
         "type": "scattergl",
         "x": [
          "Pre_Covid",
          "2020",
          "2021",
          "Post_Covid"
         ],
         "xaxis": "x",
         "y": [
          1788609636.3839252,
          "1497825994.23221",
          "1834796401.63261",
          2431814863.3488503
         ],
         "yaxis": "y"
        },
        {
         "hovertemplate": "Country Name=St. Martin (French part)<br>Phase=%{x}<br>GDP (in USD)=%{y}<extra></extra>",
         "legendgroup": "St. Martin (French part)",
         "line": {
          "color": "#ab63fa",
          "dash": "solid"
         },
         "marker": {
          "symbol": "circle"
         },
         "mode": "lines+markers",
         "name": "St. Martin (French part)",
         "showlegend": true,
         "type": "scattergl",
         "x": [
          "Pre_Covid",
          "2020",
          "2021",
          "Post_Covid"
         ],
         "xaxis": "x",
         "y": [
          733667914.7190717,
          "..",
          "649206262.847519",
          null
         ],
         "yaxis": "y"
        },
        {
         "hovertemplate": "Country Name=St. Vincent and the Grenadines<br>Phase=%{x}<br>GDP (in USD)=%{y}<extra></extra>",
         "legendgroup": "St. Vincent and the Grenadines",
         "line": {
          "color": "#FFA15A",
          "dash": "solid"
         },
         "marker": {
          "symbol": "circle"
         },
         "mode": "lines+markers",
         "name": "St. Vincent and the Grenadines",
         "showlegend": true,
         "type": "scattergl",
         "x": [
          "Pre_Covid",
          "2020",
          "2021",
          "Post_Covid"
         ],
         "xaxis": "x",
         "y": [
          793995440.7407408,
          "869111111.111111",
          "872225925.925926",
          1016227777.777776
         ],
         "yaxis": "y"
        },
        {
         "hovertemplate": "Country Name=Sudan<br>Phase=%{x}<br>GDP (in USD)=%{y}<extra></extra>",
         "legendgroup": "Sudan",
         "line": {
          "color": "#19d3f3",
          "dash": "solid"
         },
         "marker": {
          "symbol": "circle"
         },
         "mode": "lines+markers",
         "name": "Sudan",
         "showlegend": true,
         "type": "scattergl",
         "x": [
          "Pre_Covid",
          "2020",
          "2021",
          "Post_Covid"
         ],
         "xaxis": "x",
         "y": [
          44446784411.33851,
          "27034593750",
          "34229513774.9936",
          80496949475.91415
         ],
         "yaxis": "y"
        },
        {
         "hovertemplate": "Country Name=Suriname<br>Phase=%{x}<br>GDP (in USD)=%{y}<extra></extra>",
         "legendgroup": "Suriname",
         "line": {
          "color": "#FF6692",
          "dash": "solid"
         },
         "marker": {
          "symbol": "circle"
         },
         "mode": "lines+markers",
         "name": "Suriname",
         "showlegend": true,
         "type": "scattergl",
         "x": [
          "Pre_Covid",
          "2020",
          "2021",
          "Post_Covid"
         ],
         "xaxis": "x",
         "y": [
          4420458942.30542,
          "2911807496.20227",
          "3081401725.88833",
          3701712644.6848
         ],
         "yaxis": "y"
        },
        {
         "hovertemplate": "Country Name=Sweden<br>Phase=%{x}<br>GDP (in USD)=%{y}<extra></extra>",
         "legendgroup": "Sweden",
         "line": {
          "color": "#B6E880",
          "dash": "solid"
         },
         "marker": {
          "symbol": "circle"
         },
         "mode": "lines+markers",
         "name": "Sweden",
         "showlegend": true,
         "type": "scattergl",
         "x": [
          "Pre_Covid",
          "2020",
          "2021",
          "Post_Covid"
         ],
         "xaxis": "x",
         "y": [
          544230834139.67755,
          "547054174235.876",
          "639714956069.468",
          591838647991.255
         ],
         "yaxis": "y"
        },
        {
         "hovertemplate": "Country Name=Switzerland<br>Phase=%{x}<br>GDP (in USD)=%{y}<extra></extra>",
         "legendgroup": "Switzerland",
         "line": {
          "color": "#FF97FF",
          "dash": "solid"
         },
         "marker": {
          "symbol": "circle"
         },
         "mode": "lines+markers",
         "name": "Switzerland",
         "showlegend": true,
         "type": "scattergl",
         "x": [
          "Pre_Covid",
          "2020",
          "2021",
          "Post_Covid"
         ],
         "xaxis": "x",
         "y": [
          695808443341.9498,
          "741999406005.627",
          "813408787222.499",
          851683476218.4294
         ],
         "yaxis": "y"
        },
        {
         "hovertemplate": "Country Name=Syrian Arab Republic<br>Phase=%{x}<br>GDP (in USD)=%{y}<extra></extra>",
         "legendgroup": "Syrian Arab Republic",
         "line": {
          "color": "#FECB52",
          "dash": "solid"
         },
         "marker": {
          "symbol": "circle"
         },
         "mode": "lines+markers",
         "name": "Syrian Arab Republic",
         "showlegend": true,
         "type": "scattergl",
         "x": [
          "Pre_Covid",
          "2020",
          "2021",
          "Post_Covid"
         ],
         "xaxis": "x",
         "y": [
          30449928208.01405,
          "11155888304.0023",
          "8980060818.72145",
          null
         ],
         "yaxis": "y"
        },
        {
         "hovertemplate": "Country Name=Tajikistan<br>Phase=%{x}<br>GDP (in USD)=%{y}<extra></extra>",
         "legendgroup": "Tajikistan",
         "line": {
          "color": "#636efa",
          "dash": "solid"
         },
         "marker": {
          "symbol": "circle"
         },
         "mode": "lines+markers",
         "name": "Tajikistan",
         "showlegend": true,
         "type": "scattergl",
         "x": [
          "Pre_Covid",
          "2020",
          "2021",
          "Post_Covid"
         ],
         "xaxis": "x",
         "y": [
          7622509506.843306,
          "8133963550.65742",
          "8937805347.13963",
          11387063604.623798
         ],
         "yaxis": "y"
        },
        {
         "hovertemplate": "Country Name=Tanzania<br>Phase=%{x}<br>GDP (in USD)=%{y}<extra></extra>",
         "legendgroup": "Tanzania",
         "line": {
          "color": "#EF553B",
          "dash": "solid"
         },
         "marker": {
          "symbol": "circle"
         },
         "mode": "lines+markers",
         "name": "Tanzania",
         "showlegend": true,
         "type": "scattergl",
         "x": [
          "Pre_Covid",
          "2020",
          "2021",
          "Post_Covid"
         ],
         "xaxis": "x",
         "y": [
          47044966962.41513,
          "66068737786.0639",
          "70655628147.8986",
          77464130419.2673
         ],
         "yaxis": "y"
        },
        {
         "hovertemplate": "Country Name=Thailand<br>Phase=%{x}<br>GDP (in USD)=%{y}<extra></extra>",
         "legendgroup": "Thailand",
         "line": {
          "color": "#00cc96",
          "dash": "solid"
         },
         "marker": {
          "symbol": "circle"
         },
         "mode": "lines+markers",
         "name": "Thailand",
         "showlegend": true,
         "type": "scattergl",
         "x": [
          "Pre_Covid",
          "2020",
          "2021",
          "Post_Covid"
         ],
         "xaxis": "x",
         "y": [
          425890482773.2296,
          "500461898480.246",
          "506256494297.34",
          505295102403.1645
         ],
         "yaxis": "y"
        },
        {
         "hovertemplate": "Country Name=Timor-Leste<br>Phase=%{x}<br>GDP (in USD)=%{y}<extra></extra>",
         "legendgroup": "Timor-Leste",
         "line": {
          "color": "#ab63fa",
          "dash": "solid"
         },
         "marker": {
          "symbol": "circle"
         },
         "mode": "lines+markers",
         "name": "Timor-Leste",
         "showlegend": true,
         "type": "scattergl",
         "x": [
          "Pre_Covid",
          "2020",
          "2021",
          "Post_Covid"
         ],
         "xaxis": "x",
         "y": [
          1436746990,
          "2162619200",
          "3621958000",
          2723947954.230805
         ],
         "yaxis": "y"
        },
        {
         "hovertemplate": "Country Name=Togo<br>Phase=%{x}<br>GDP (in USD)=%{y}<extra></extra>",
         "legendgroup": "Togo",
         "line": {
          "color": "#FFA15A",
          "dash": "solid"
         },
         "marker": {
          "symbol": "circle"
         },
         "mode": "lines+markers",
         "name": "Togo",
         "showlegend": true,
         "type": "scattergl",
         "x": [
          "Pre_Covid",
          "2020",
          "2021",
          "Post_Covid"
         ],
         "xaxis": "x",
         "y": [
          6023348259.246569,
          "7400284167.78479",
          "8342243645.94438",
          8670368992.009779
         ],
         "yaxis": "y"
        },
        {
         "hovertemplate": "Country Name=Tonga<br>Phase=%{x}<br>GDP (in USD)=%{y}<extra></extra>",
         "legendgroup": "Tonga",
         "line": {
          "color": "#19d3f3",
          "dash": "solid"
         },
         "marker": {
          "symbol": "circle"
         },
         "mode": "lines+markers",
         "name": "Tonga",
         "showlegend": true,
         "type": "scattergl",
         "x": [
          "Pre_Covid",
          "2020",
          "2021",
          "Post_Covid"
         ],
         "xaxis": "x",
         "y": [
          446148545.32927525,
          "484796854.918756",
          "469228219.665791",
          500274898.085221
         ],
         "yaxis": "y"
        },
        {
         "hovertemplate": "Country Name=Trinidad and Tobago<br>Phase=%{x}<br>GDP (in USD)=%{y}<extra></extra>",
         "legendgroup": "Trinidad and Tobago",
         "line": {
          "color": "#FF6692",
          "dash": "solid"
         },
         "marker": {
          "symbol": "circle"
         },
         "mode": "lines+markers",
         "name": "Trinidad and Tobago",
         "showlegend": true,
         "type": "scattergl",
         "x": [
          "Pre_Covid",
          "2020",
          "2021",
          "Post_Covid"
         ],
         "xaxis": "x",
         "y": [
          25646038510.83827,
          "20807571314.3043",
          "24496505940.6673",
          29096759961.21655
         ],
         "yaxis": "y"
        },
        {
         "hovertemplate": "Country Name=Tunisia<br>Phase=%{x}<br>GDP (in USD)=%{y}<extra></extra>",
         "legendgroup": "Tunisia",
         "line": {
          "color": "#B6E880",
          "dash": "solid"
         },
         "marker": {
          "symbol": "circle"
         },
         "mode": "lines+markers",
         "name": "Tunisia",
         "showlegend": true,
         "type": "scattergl",
         "x": [
          "Pre_Covid",
          "2020",
          "2021",
          "Post_Covid"
         ],
         "xaxis": "x",
         "y": [
          45749329642.88545,
          "42491816475.7118",
          "46812290143.344",
          46554678219.7763
         ],
         "yaxis": "y"
        },
        {
         "hovertemplate": "Country Name=Turkiye<br>Phase=%{x}<br>GDP (in USD)=%{y}<extra></extra>",
         "legendgroup": "Turkiye",
         "line": {
          "color": "#FF97FF",
          "dash": "solid"
         },
         "marker": {
          "symbol": "circle"
         },
         "mode": "lines+markers",
         "name": "Turkiye",
         "showlegend": true,
         "type": "scattergl",
         "x": [
          "Pre_Covid",
          "2020",
          "2021",
          "Post_Covid"
         ],
         "xaxis": "x",
         "y": [
          852600550222.9307,
          "720338498174.744",
          "819865253669.661",
          1007570404606.099
         ],
         "yaxis": "y"
        },
        {
         "hovertemplate": "Country Name=Turkmenistan<br>Phase=%{x}<br>GDP (in USD)=%{y}<extra></extra>",
         "legendgroup": "Turkmenistan",
         "line": {
          "color": "#FECB52",
          "dash": "solid"
         },
         "marker": {
          "symbol": "circle"
         },
         "mode": "lines+markers",
         "name": "Turkmenistan",
         "showlegend": true,
         "type": "scattergl",
         "x": [
          "Pre_Covid",
          "2020",
          "2021",
          "Post_Covid"
         ],
         "xaxis": "x",
         "y": [
          36559617042.606514,
          "45818000000",
          "50007428571.4286",
          58215095993.461105
         ],
         "yaxis": "y"
        },
        {
         "hovertemplate": "Country Name=Turks and Caicos Islands<br>Phase=%{x}<br>GDP (in USD)=%{y}<extra></extra>",
         "legendgroup": "Turks and Caicos Islands",
         "line": {
          "color": "#636efa",
          "dash": "solid"
         },
         "marker": {
          "symbol": "circle"
         },
         "mode": "lines+markers",
         "name": "Turks and Caicos Islands",
         "showlegend": true,
         "type": "scattergl",
         "x": [
          "Pre_Covid",
          "2020",
          "2021",
          "Post_Covid"
         ],
         "xaxis": "x",
         "y": [
          904754427.945561,
          "774653669.315186",
          "1045782453.5755",
          1315424386.949275
         ],
         "yaxis": "y"
        },
        {
         "hovertemplate": "Country Name=Tuvalu<br>Phase=%{x}<br>GDP (in USD)=%{y}<extra></extra>",
         "legendgroup": "Tuvalu",
         "line": {
          "color": "#EF553B",
          "dash": "solid"
         },
         "marker": {
          "symbol": "circle"
         },
         "mode": "lines+markers",
         "name": "Tuvalu",
         "showlegend": true,
         "type": "scattergl",
         "x": [
          "Pre_Covid",
          "2020",
          "2021",
          "Post_Covid"
         ],
         "xaxis": "x",
         "y": [
          41388087.28269106,
          "51746594.3148543",
          "60196405.7138393",
          60673146.83629145
         ],
         "yaxis": "y"
        },
        {
         "hovertemplate": "Country Name=Uganda<br>Phase=%{x}<br>GDP (in USD)=%{y}<extra></extra>",
         "legendgroup": "Uganda",
         "line": {
          "color": "#00cc96",
          "dash": "solid"
         },
         "marker": {
          "symbol": "circle"
         },
         "mode": "lines+markers",
         "name": "Uganda",
         "showlegend": true,
         "type": "scattergl",
         "x": [
          "Pre_Covid",
          "2020",
          "2021",
          "Post_Covid"
         ],
         "xaxis": "x",
         "y": [
          30399009333.999165,
          "37600368239.8824",
          "40529788744.0595",
          47419107715.0186
         ],
         "yaxis": "y"
        },
        {
         "hovertemplate": "Country Name=Ukraine<br>Phase=%{x}<br>GDP (in USD)=%{y}<extra></extra>",
         "legendgroup": "Ukraine",
         "line": {
          "color": "#ab63fa",
          "dash": "solid"
         },
         "marker": {
          "symbol": "circle"
         },
         "mode": "lines+markers",
         "name": "Ukraine",
         "showlegend": true,
         "type": "scattergl",
         "x": [
          "Pre_Covid",
          "2020",
          "2021",
          "Post_Covid"
         ],
         "xaxis": "x",
         "y": [
          139838892085.6347,
          "156617722013.342",
          "199765859570.935",
          170373271053.9995
         ],
         "yaxis": "y"
        },
        {
         "hovertemplate": "Country Name=United Arab Emirates<br>Phase=%{x}<br>GDP (in USD)=%{y}<extra></extra>",
         "legendgroup": "United Arab Emirates",
         "line": {
          "color": "#FFA15A",
          "dash": "solid"
         },
         "marker": {
          "symbol": "circle"
         },
         "mode": "lines+markers",
         "name": "United Arab Emirates",
         "showlegend": true,
         "type": "scattergl",
         "x": [
          "Pre_Covid",
          "2020",
          "2021",
          "Post_Covid"
         ],
         "xaxis": "x",
         "y": [
          383504256786.92993,
          "349473015330.157",
          "415178792756.978",
          505618709802.58704
         ],
         "yaxis": "y"
        },
        {
         "hovertemplate": "Country Name=United Kingdom<br>Phase=%{x}<br>GDP (in USD)=%{y}<extra></extra>",
         "legendgroup": "United Kingdom",
         "line": {
          "color": "#19d3f3",
          "dash": "solid"
         },
         "marker": {
          "symbol": "circle"
         },
         "mode": "lines+markers",
         "name": "United Kingdom",
         "showlegend": true,
         "type": "scattergl",
         "x": [
          "Pre_Covid",
          "2020",
          "2021",
          "Post_Covid"
         ],
         "xaxis": "x",
         "y": [
          2772585318072.438,
          "2697806592293.86",
          "3141506156618.7",
          3214436072056.5303
         ],
         "yaxis": "y"
        },
        {
         "hovertemplate": "Country Name=United States<br>Phase=%{x}<br>GDP (in USD)=%{y}<extra></extra>",
         "legendgroup": "United States",
         "line": {
          "color": "#FF6692",
          "dash": "solid"
         },
         "marker": {
          "symbol": "circle"
         },
         "mode": "lines+markers",
         "name": "United States",
         "showlegend": true,
         "type": "scattergl",
         "x": [
          "Pre_Covid",
          "2020",
          "2021",
          "Post_Covid"
         ],
         "xaxis": "x",
         "y": [
          18028143900000,
          "21322950000000",
          "23594031000000",
          26552521500000
         ],
         "yaxis": "y"
        },
        {
         "hovertemplate": "Country Name=Uruguay<br>Phase=%{x}<br>GDP (in USD)=%{y}<extra></extra>",
         "legendgroup": "Uruguay",
         "line": {
          "color": "#B6E880",
          "dash": "solid"
         },
         "marker": {
          "symbol": "circle"
         },
         "mode": "lines+markers",
         "name": "Uruguay",
         "showlegend": true,
         "type": "scattergl",
         "x": [
          "Pre_Covid",
          "2020",
          "2021",
          "Post_Covid"
         ],
         "xaxis": "x",
         "y": [
          57709280352.09977,
          "53668636567.8667",
          "60760798595.5436",
          73702757438.77231
         ],
         "yaxis": "y"
        },
        {
         "hovertemplate": "Country Name=Uzbekistan<br>Phase=%{x}<br>GDP (in USD)=%{y}<extra></extra>",
         "legendgroup": "Uzbekistan",
         "line": {
          "color": "#FF97FF",
          "dash": "solid"
         },
         "marker": {
          "symbol": "circle"
         },
         "mode": "lines+markers",
         "name": "Uzbekistan",
         "showlegend": true,
         "type": "scattergl",
         "x": [
          "Pre_Covid",
          "2020",
          "2021",
          "Post_Covid"
         ],
         "xaxis": "x",
         "y": [
          67905684669.56443,
          "60224701296.7885",
          "69600614987.3509",
          86014986279.57385
         ],
         "yaxis": "y"
        },
        {
         "hovertemplate": "Country Name=Vanuatu<br>Phase=%{x}<br>GDP (in USD)=%{y}<extra></extra>",
         "legendgroup": "Vanuatu",
         "line": {
          "color": "#FECB52",
          "dash": "solid"
         },
         "marker": {
          "symbol": "circle"
         },
         "mode": "lines+markers",
         "name": "Vanuatu",
         "showlegend": true,
         "type": "scattergl",
         "x": [
          "Pre_Covid",
          "2020",
          "2021",
          "Post_Covid"
         ],
         "xaxis": "x",
         "y": [
          796241221.132206,
          "909421043.508407",
          "950394006.532514",
          1074266328.36129
         ],
         "yaxis": "y"
        },
        {
         "hovertemplate": "Country Name=Venezuela, RB<br>Phase=%{x}<br>GDP (in USD)=%{y}<extra></extra>",
         "legendgroup": "Venezuela, RB",
         "line": {
          "color": "#636efa",
          "dash": "solid"
         },
         "marker": {
          "symbol": "circle"
         },
         "mode": "lines+markers",
         "name": "Venezuela, RB",
         "showlegend": true,
         "type": "scattergl",
         "x": [
          "Pre_Covid",
          "2020",
          "2021",
          "Post_Covid"
         ],
         "xaxis": "x",
         "y": [
          388865096342.59064,
          "..",
          "..",
          null
         ],
         "yaxis": "y"
        },
        {
         "hovertemplate": "Country Name=Viet Nam<br>Phase=%{x}<br>GDP (in USD)=%{y}<extra></extra>",
         "legendgroup": "Viet Nam",
         "line": {
          "color": "#EF553B",
          "dash": "solid"
         },
         "marker": {
          "symbol": "circle"
         },
         "mode": "lines+markers",
         "name": "Viet Nam",
         "showlegend": true,
         "type": "scattergl",
         "x": [
          "Pre_Covid",
          "2020",
          "2021",
          "Post_Covid"
         ],
         "xaxis": "x",
         "y": [
          238472684925.59637,
          "346615738537.796",
          "366474752771.009",
          420020498966.459
         ],
         "yaxis": "y"
        },
        {
         "hovertemplate": "Country Name=Virgin Islands (U.S.)<br>Phase=%{x}<br>GDP (in USD)=%{y}<extra></extra>",
         "legendgroup": "Virgin Islands (U.S.)",
         "line": {
          "color": "#00cc96",
          "dash": "solid"
         },
         "marker": {
          "symbol": "circle"
         },
         "mode": "lines+markers",
         "name": "Virgin Islands (U.S.)",
         "showlegend": true,
         "type": "scattergl",
         "x": [
          "Pre_Covid",
          "2020",
          "2021",
          "Post_Covid"
         ],
         "xaxis": "x",
         "y": [
          3923800000,
          "4189000000",
          "4444000000",
          null
         ],
         "yaxis": "y"
        },
        {
         "hovertemplate": "Country Name=West Bank and Gaza<br>Phase=%{x}<br>GDP (in USD)=%{y}<extra></extra>",
         "legendgroup": "West Bank and Gaza",
         "line": {
          "color": "#ab63fa",
          "dash": "solid"
         },
         "marker": {
          "symbol": "circle"
         },
         "mode": "lines+markers",
         "name": "West Bank and Gaza",
         "showlegend": true,
         "type": "scattergl",
         "x": [
          "Pre_Covid",
          "2020",
          "2021",
          "Post_Covid"
         ],
         "xaxis": "x",
         "y": [
          13949710000,
          "15531700000",
          "18109000000",
          18280900000
         ],
         "yaxis": "y"
        },
        {
         "hovertemplate": "Country Name=Yemen, Rep.<br>Phase=%{x}<br>GDP (in USD)=%{y}<extra></extra>",
         "legendgroup": "Yemen, Rep.",
         "line": {
          "color": "#FFA15A",
          "dash": "solid"
         },
         "marker": {
          "symbol": "circle"
         },
         "mode": "lines+markers",
         "name": "Yemen, Rep.",
         "showlegend": true,
         "type": "scattergl",
         "x": [
          "Pre_Covid",
          "2020",
          "2021",
          "Post_Covid"
         ],
         "xaxis": "x",
         "y": [
          33876558092.70337,
          "..",
          "..",
          null
         ],
         "yaxis": "y"
        },
        {
         "hovertemplate": "Country Name=Zambia<br>Phase=%{x}<br>GDP (in USD)=%{y}<extra></extra>",
         "legendgroup": "Zambia",
         "line": {
          "color": "#19d3f3",
          "dash": "solid"
         },
         "marker": {
          "symbol": "circle"
         },
         "mode": "lines+markers",
         "name": "Zambia",
         "showlegend": true,
         "type": "scattergl",
         "x": [
          "Pre_Covid",
          "2020",
          "2021",
          "Post_Covid"
         ],
         "xaxis": "x",
         "y": [
          24210980385.30756,
          "18137764931.2808",
          "22096416932.0089",
          28663206547.207153
         ],
         "yaxis": "y"
        },
        {
         "hovertemplate": "Country Name=Zimbabwe<br>Phase=%{x}<br>GDP (in USD)=%{y}<extra></extra>",
         "legendgroup": "Zimbabwe",
         "line": {
          "color": "#FF6692",
          "dash": "solid"
         },
         "marker": {
          "symbol": "circle"
         },
         "mode": "lines+markers",
         "name": "Zimbabwe",
         "showlegend": true,
         "type": "scattergl",
         "x": [
          "Pre_Covid",
          "2020",
          "2021",
          "Post_Covid"
         ],
         "xaxis": "x",
         "y": [
          19592995948.02153,
          "21509698406.1116",
          "28371238665.5116",
          26952450325.97075
         ],
         "yaxis": "y"
        },
        {
         "hovertemplate": "Country Name=Africa Eastern and Southern<br>Phase=%{x}<br>GDP (in USD)=%{y}<extra></extra>",
         "legendgroup": "Africa Eastern and Southern",
         "line": {
          "color": "#B6E880",
          "dash": "solid"
         },
         "marker": {
          "symbol": "circle"
         },
         "mode": "lines+markers",
         "name": "Africa Eastern and Southern",
         "showlegend": true,
         "type": "scattergl",
         "x": [
          "Pre_Covid",
          "2020",
          "2021",
          "Post_Covid"
         ],
         "xaxis": "x",
         "y": [
          937903908868.759,
          "929074086484.093",
          "1086772164579.87",
          1210062589499.42
         ],
         "yaxis": "y"
        },
        {
         "hovertemplate": "Country Name=Africa Western and Central<br>Phase=%{x}<br>GDP (in USD)=%{y}<extra></extra>",
         "legendgroup": "Africa Western and Central",
         "line": {
          "color": "#FF97FF",
          "dash": "solid"
         },
         "marker": {
          "symbol": "circle"
         },
         "mode": "lines+markers",
         "name": "Africa Western and Central",
         "showlegend": true,
         "type": "scattergl",
         "x": [
          "Pre_Covid",
          "2020",
          "2021",
          "Post_Covid"
         ],
         "xaxis": "x",
         "y": [
          748689850725.6775,
          "787146719022.421",
          "845993047006.805",
          836863481436.7256
         ],
         "yaxis": "y"
        },
        {
         "hovertemplate": "Country Name=Arab World<br>Phase=%{x}<br>GDP (in USD)=%{y}<extra></extra>",
         "legendgroup": "Arab World",
         "line": {
          "color": "#FECB52",
          "dash": "solid"
         },
         "marker": {
          "symbol": "circle"
         },
         "mode": "lines+markers",
         "name": "Arab World",
         "showlegend": true,
         "type": "scattergl",
         "x": [
          "Pre_Covid",
          "2020",
          "2021",
          "Post_Covid"
         ],
         "xaxis": "x",
         "y": [
          2665019944308.517,
          "2576553324185.61",
          "2969116805615.58",
          3552599647016.06
         ],
         "yaxis": "y"
        },
        {
         "hovertemplate": "Country Name=Caribbean small states<br>Phase=%{x}<br>GDP (in USD)=%{y}<extra></extra>",
         "legendgroup": "Caribbean small states",
         "line": {
          "color": "#636efa",
          "dash": "solid"
         },
         "marker": {
          "symbol": "circle"
         },
         "mode": "lines+markers",
         "name": "Caribbean small states",
         "showlegend": true,
         "type": "scattergl",
         "x": [
          "Pre_Covid",
          "2020",
          "2021",
          "Post_Covid"
         ],
         "xaxis": "x",
         "y": [
          33472309921.34774,
          "31378030000.782",
          "36706592898.6925",
          50695345904.4401
         ],
         "yaxis": "y"
        },
        {
         "hovertemplate": "Country Name=Central Europe and the Baltics<br>Phase=%{x}<br>GDP (in USD)=%{y}<extra></extra>",
         "legendgroup": "Central Europe and the Baltics",
         "line": {
          "color": "#EF553B",
          "dash": "solid"
         },
         "marker": {
          "symbol": "circle"
         },
         "mode": "lines+markers",
         "name": "Central Europe and the Baltics",
         "showlegend": true,
         "type": "scattergl",
         "x": [
          "Pre_Covid",
          "2020",
          "2021",
          "Post_Covid"
         ],
         "xaxis": "x",
         "y": [
          1440755651033.6118,
          "1665817489087.96",
          "1908203520080.5",
          2098273463354.42
         ],
         "yaxis": "y"
        },
        {
         "hovertemplate": "Country Name=Early-demographic dividend<br>Phase=%{x}<br>GDP (in USD)=%{y}<extra></extra>",
         "legendgroup": "Early-demographic dividend",
         "line": {
          "color": "#00cc96",
          "dash": "solid"
         },
         "marker": {
          "symbol": "circle"
         },
         "mode": "lines+markers",
         "name": "Early-demographic dividend",
         "showlegend": true,
         "type": "scattergl",
         "x": [
          "Pre_Covid",
          "2020",
          "2021",
          "Post_Covid"
         ],
         "xaxis": "x",
         "y": [
          10541670826269.342,
          "10981013167791.7",
          "12771307369960.5",
          14489486306811.2
         ],
         "yaxis": "y"
        },
        {
         "hovertemplate": "Country Name=East Asia & Pacific<br>Phase=%{x}<br>GDP (in USD)=%{y}<extra></extra>",
         "legendgroup": "East Asia & Pacific",
         "line": {
          "color": "#ab63fa",
          "dash": "solid"
         },
         "marker": {
          "symbol": "circle"
         },
         "mode": "lines+markers",
         "name": "East Asia & Pacific",
         "showlegend": true,
         "type": "scattergl",
         "x": [
          "Pre_Covid",
          "2020",
          "2021",
          "Post_Covid"
         ],
         "xaxis": "x",
         "y": [
          22417089129526.94,
          "27156482410418.4",
          "31148240510250.8",
          30719704691419.5
         ],
         "yaxis": "y"
        },
        {
         "hovertemplate": "Country Name=East Asia & Pacific (excluding high income)<br>Phase=%{x}<br>GDP (in USD)=%{y}<extra></extra>",
         "legendgroup": "East Asia & Pacific (excluding high income)",
         "line": {
          "color": "#FFA15A",
          "dash": "solid"
         },
         "marker": {
          "symbol": "circle"
         },
         "mode": "lines+markers",
         "name": "East Asia & Pacific (excluding high income)",
         "showlegend": true,
         "type": "scattergl",
         "x": [
          "Pre_Covid",
          "2020",
          "2021",
          "Post_Covid"
         ],
         "xaxis": "x",
         "y": [
          12865386801943.982,
          "17487334631867.3",
          "20840018387172.9",
          21132028590519.3
         ],
         "yaxis": "y"
        },
        {
         "hovertemplate": "Country Name=East Asia & Pacific (IDA & IBRD countries)<br>Phase=%{x}<br>GDP (in USD)=%{y}<extra></extra>",
         "legendgroup": "East Asia & Pacific (IDA & IBRD countries)",
         "line": {
          "color": "#19d3f3",
          "dash": "solid"
         },
         "marker": {
          "symbol": "circle"
         },
         "mode": "lines+markers",
         "name": "East Asia & Pacific (IDA & IBRD countries)",
         "showlegend": true,
         "type": "scattergl",
         "x": [
          "Pre_Covid",
          "2020",
          "2021",
          "Post_Covid"
         ],
         "xaxis": "x",
         "y": [
          12849588949104.209,
          "17465773779184.1",
          "20814269278438.4",
          21105914412060.3
         ],
         "yaxis": "y"
        },
        {
         "hovertemplate": "Country Name=Euro area<br>Phase=%{x}<br>GDP (in USD)=%{y}<extra></extra>",
         "legendgroup": "Euro area",
         "line": {
          "color": "#FF6692",
          "dash": "solid"
         },
         "marker": {
          "symbol": "circle"
         },
         "mode": "lines+markers",
         "name": "Euro area",
         "showlegend": true,
         "type": "scattergl",
         "x": [
          "Pre_Covid",
          "2020",
          "2021",
          "Post_Covid"
         ],
         "xaxis": "x",
         "y": [
          12965499202067.809,
          "13155164142399.1",
          "14754625131073.3",
          14884602840504.7
         ],
         "yaxis": "y"
        },
        {
         "hovertemplate": "Country Name=Europe & Central Asia<br>Phase=%{x}<br>GDP (in USD)=%{y}<extra></extra>",
         "legendgroup": "Europe & Central Asia",
         "line": {
          "color": "#B6E880",
          "dash": "solid"
         },
         "marker": {
          "symbol": "circle"
         },
         "mode": "lines+markers",
         "name": "Europe & Central Asia",
         "showlegend": true,
         "type": "scattergl",
         "x": [
          "Pre_Covid",
          "2020",
          "2021",
          "Post_Covid"
         ],
         "xaxis": "x",
         "y": [
          22265542280966.477,
          "22156549343244.9",
          "25331394418403.8",
          26314948292750.65
         ],
         "yaxis": "y"
        },
        {
         "hovertemplate": "Country Name=Europe & Central Asia (excluding high income)<br>Phase=%{x}<br>GDP (in USD)=%{y}<extra></extra>",
         "legendgroup": "Europe & Central Asia (excluding high income)",
         "line": {
          "color": "#FF97FF",
          "dash": "solid"
         },
         "marker": {
          "symbol": "circle"
         },
         "mode": "lines+markers",
         "name": "Europe & Central Asia (excluding high income)",
         "showlegend": true,
         "type": "scattergl",
         "x": [
          "Pre_Covid",
          "2020",
          "2021",
          "Post_Covid"
         ],
         "xaxis": "x",
         "y": [
          1551783734893.129,
          "1428327223229.53",
          "1659440839146.7",
          1950693974174.725
         ],
         "yaxis": "y"
        },
        {
         "hovertemplate": "Country Name=Europe & Central Asia (IDA & IBRD countries)<br>Phase=%{x}<br>GDP (in USD)=%{y}<extra></extra>",
         "legendgroup": "Europe & Central Asia (IDA & IBRD countries)",
         "line": {
          "color": "#FECB52",
          "dash": "solid"
         },
         "marker": {
          "symbol": "circle"
         },
         "mode": "lines+markers",
         "name": "Europe & Central Asia (IDA & IBRD countries)",
         "showlegend": true,
         "type": "scattergl",
         "x": [
          "Pre_Covid",
          "2020",
          "2021",
          "Post_Covid"
         ],
         "xaxis": "x",
         "y": [
          4157631836452.7646,
          "3900798423599.77",
          "4623633114358.75",
          5343170829334.75
         ],
         "yaxis": "y"
        },
        {
         "hovertemplate": "Country Name=European Union<br>Phase=%{x}<br>GDP (in USD)=%{y}<extra></extra>",
         "legendgroup": "European Union",
         "line": {
          "color": "#636efa",
          "dash": "solid"
         },
         "marker": {
          "symbol": "circle"
         },
         "mode": "lines+markers",
         "name": "European Union",
         "showlegend": true,
         "type": "scattergl",
         "x": [
          "Pre_Covid",
          "2020",
          "2021",
          "Post_Covid"
         ],
         "xaxis": "x",
         "y": [
          14979324941829.35,
          "15381418584246.1",
          "17315127119106.5",
          17555442520765.4
         ],
         "yaxis": "y"
        },
        {
         "hovertemplate": "Country Name=Fragile and conflict affected situations<br>Phase=%{x}<br>GDP (in USD)=%{y}<extra></extra>",
         "legendgroup": "Fragile and conflict affected situations",
         "line": {
          "color": "#EF553B",
          "dash": "solid"
         },
         "marker": {
          "symbol": "circle"
         },
         "mode": "lines+markers",
         "name": "Fragile and conflict affected situations",
         "showlegend": true,
         "type": "scattergl",
         "x": [
          "Pre_Covid",
          "2020",
          "2021",
          "Post_Covid"
         ],
         "xaxis": "x",
         "y": [
          1734445771808.35,
          "1690930063237.89",
          "1796274437015.52",
          1928403813623.76
         ],
         "yaxis": "y"
        },
        {
         "hovertemplate": "Country Name=Heavily indebted poor countries (HIPC)<br>Phase=%{x}<br>GDP (in USD)=%{y}<extra></extra>",
         "legendgroup": "Heavily indebted poor countries (HIPC)",
         "line": {
          "color": "#00cc96",
          "dash": "solid"
         },
         "marker": {
          "symbol": "circle"
         },
         "mode": "lines+markers",
         "name": "Heavily indebted poor countries (HIPC)",
         "showlegend": true,
         "type": "scattergl",
         "x": [
          "Pre_Covid",
          "2020",
          "2021",
          "Post_Covid"
         ],
         "xaxis": "x",
         "y": [
          665175098361.902,
          "811360288084.988",
          "902263213997.82",
          1056073773196.2335
         ],
         "yaxis": "y"
        },
        {
         "hovertemplate": "Country Name=High income<br>Phase=%{x}<br>GDP (in USD)=%{y}<extra></extra>",
         "legendgroup": "High income",
         "line": {
          "color": "#ab63fa",
          "dash": "solid"
         },
         "marker": {
          "symbol": "circle"
         },
         "mode": "lines+markers",
         "name": "High income",
         "showlegend": true,
         "type": "scattergl",
         "x": [
          "Pre_Covid",
          "2020",
          "2021",
          "Post_Covid"
         ],
         "xaxis": "x",
         "y": [
          52407530560521.24,
          "55791128824226.2",
          "62461025675219.6",
          66049094942160.35
         ],
         "yaxis": "y"
        },
        {
         "hovertemplate": "Country Name=IBRD only<br>Phase=%{x}<br>GDP (in USD)=%{y}<extra></extra>",
         "legendgroup": "IBRD only",
         "line": {
          "color": "#FFA15A",
          "dash": "solid"
         },
         "marker": {
          "symbol": "circle"
         },
         "mode": "lines+markers",
         "name": "IBRD only",
         "showlegend": true,
         "type": "scattergl",
         "x": [
          "Pre_Covid",
          "2020",
          "2021",
          "Post_Covid"
         ],
         "xaxis": "x",
         "y": [
          26594755606883.16,
          "30103859045527.8",
          "35740404315658.1",
          38233122296233.15
         ],
         "yaxis": "y"
        },
        {
         "hovertemplate": "Country Name=IDA & IBRD total<br>Phase=%{x}<br>GDP (in USD)=%{y}<extra></extra>",
         "legendgroup": "IDA & IBRD total",
         "line": {
          "color": "#19d3f3",
          "dash": "solid"
         },
         "marker": {
          "symbol": "circle"
         },
         "mode": "lines+markers",
         "name": "IDA & IBRD total",
         "showlegend": true,
         "type": "scattergl",
         "x": [
          "Pre_Covid",
          "2020",
          "2021",
          "Post_Covid"
         ],
         "xaxis": "x",
         "y": [
          28682458646006.48,
          "32528587315534.1",
          "38378968351134.2",
          41063359770989.55
         ],
         "yaxis": "y"
        },
        {
         "hovertemplate": "Country Name=IDA blend<br>Phase=%{x}<br>GDP (in USD)=%{y}<extra></extra>",
         "legendgroup": "IDA blend",
         "line": {
          "color": "#FF6692",
          "dash": "solid"
         },
         "marker": {
          "symbol": "circle"
         },
         "mode": "lines+markers",
         "name": "IDA blend",
         "showlegend": true,
         "type": "scattergl",
         "x": [
          "Pre_Covid",
          "2020",
          "2021",
          "Post_Covid"
         ],
         "xaxis": "x",
         "y": [
          980503640389.6224,
          "1009467966729.65",
          "1104603036389.8",
          1113835808040.835
         ],
         "yaxis": "y"
        },
        {
         "hovertemplate": "Country Name=IDA only<br>Phase=%{x}<br>GDP (in USD)=%{y}<extra></extra>",
         "legendgroup": "IDA only",
         "line": {
          "color": "#B6E880",
          "dash": "solid"
         },
         "marker": {
          "symbol": "circle"
         },
         "mode": "lines+markers",
         "name": "IDA only",
         "showlegend": true,
         "type": "scattergl",
         "x": [
          "Pre_Covid",
          "2020",
          "2021",
          "Post_Covid"
         ],
         "xaxis": "x",
         "y": [
          1106968164715.79,
          "1414559582470.64",
          "1535389926749.6",
          1718716452295.375
         ],
         "yaxis": "y"
        },
        {
         "hovertemplate": "Country Name=IDA total<br>Phase=%{x}<br>GDP (in USD)=%{y}<extra></extra>",
         "legendgroup": "IDA total",
         "line": {
          "color": "#FF97FF",
          "dash": "solid"
         },
         "marker": {
          "symbol": "circle"
         },
         "mode": "lines+markers",
         "name": "IDA total",
         "showlegend": true,
         "type": "scattergl",
         "x": [
          "Pre_Covid",
          "2020",
          "2021",
          "Post_Covid"
         ],
         "xaxis": "x",
         "y": [
          2087471805105.414,
          "2424027549200.29",
          "2639992963139.39",
          2831522220832.1797
         ],
         "yaxis": "y"
        },
        {
         "hovertemplate": "Country Name=Late-demographic dividend<br>Phase=%{x}<br>GDP (in USD)=%{y}<extra></extra>",
         "legendgroup": "Late-demographic dividend",
         "line": {
          "color": "#FECB52",
          "dash": "solid"
         },
         "marker": {
          "symbol": "circle"
         },
         "mode": "lines+markers",
         "name": "Late-demographic dividend",
         "showlegend": true,
         "type": "scattergl",
         "x": [
          "Pre_Covid",
          "2020",
          "2021",
          "Post_Covid"
         ],
         "xaxis": "x",
         "y": [
          19004334704871.793,
          "22531183291578.3",
          "26872794398412",
          28201977120411.703
         ],
         "yaxis": "y"
        },
        {
         "hovertemplate": "Country Name=Latin America & Caribbean<br>Phase=%{x}<br>GDP (in USD)=%{y}<extra></extra>",
         "legendgroup": "Latin America & Caribbean",
         "line": {
          "color": "#636efa",
          "dash": "solid"
         },
         "marker": {
          "symbol": "circle"
         },
         "mode": "lines+markers",
         "name": "Latin America & Caribbean",
         "showlegend": true,
         "type": "scattergl",
         "x": [
          "Pre_Covid",
          "2020",
          "2021",
          "Post_Covid"
         ],
         "xaxis": "x",
         "y": [
          5855806673012.76,
          "4804924789054.88",
          "5578001135446.18",
          6718005042453.135
         ],
         "yaxis": "y"
        },
        {
         "hovertemplate": "Country Name=Latin America & Caribbean (excluding high income)<br>Phase=%{x}<br>GDP (in USD)=%{y}<extra></extra>",
         "legendgroup": "Latin America & Caribbean (excluding high income)",
         "line": {
          "color": "#EF553B",
          "dash": "solid"
         },
         "marker": {
          "symbol": "circle"
         },
         "mode": "lines+markers",
         "name": "Latin America & Caribbean (excluding high income)",
         "showlegend": true,
         "type": "scattergl",
         "x": [
          "Pre_Covid",
          "2020",
          "2021",
          "Post_Covid"
         ],
         "xaxis": "x",
         "y": [
          4988802906964.219,
          "4046822646872.37",
          "4690738841614.13",
          5720045950218.82
         ],
         "yaxis": "y"
        },
        {
         "hovertemplate": "Country Name=Latin America & the Caribbean (IDA & IBRD countries)<br>Phase=%{x}<br>GDP (in USD)=%{y}<extra></extra>",
         "legendgroup": "Latin America & the Caribbean (IDA & IBRD countries)",
         "line": {
          "color": "#00cc96",
          "dash": "solid"
         },
         "marker": {
          "symbol": "circle"
         },
         "mode": "lines+markers",
         "name": "Latin America & the Caribbean (IDA & IBRD countries)",
         "showlegend": true,
         "type": "scattergl",
         "x": [
          "Pre_Covid",
          "2020",
          "2021",
          "Post_Covid"
         ],
         "xaxis": "x",
         "y": [
          5638280550862.666,
          "4561296585538.66",
          "5310337203631.62",
          6409016299919.865
         ],
         "yaxis": "y"
        },
        {
         "hovertemplate": "Country Name=Least developed countries: UN classification<br>Phase=%{x}<br>GDP (in USD)=%{y}<extra></extra>",
         "legendgroup": "Least developed countries: UN classification",
         "line": {
          "color": "#ab63fa",
          "dash": "solid"
         },
         "marker": {
          "symbol": "circle"
         },
         "mode": "lines+markers",
         "name": "Least developed countries: UN classification",
         "showlegend": true,
         "type": "scattergl",
         "x": [
          "Pre_Covid",
          "2020",
          "2021",
          "Post_Covid"
         ],
         "xaxis": "x",
         "y": [
          926608504544.0452,
          "1162019936698.84",
          "1266743958589.09",
          1464433561017.42
         ],
         "yaxis": "y"
        },
        {
         "hovertemplate": "Country Name=Low & middle income<br>Phase=%{x}<br>GDP (in USD)=%{y}<extra></extra>",
         "legendgroup": "Low & middle income",
         "line": {
          "color": "#FFA15A",
          "dash": "solid"
         },
         "marker": {
          "symbol": "circle"
         },
         "mode": "lines+markers",
         "name": "Low & middle income",
         "showlegend": true,
         "type": "scattergl",
         "x": [
          "Pre_Covid",
          "2020",
          "2021",
          "Post_Covid"
         ],
         "xaxis": "x",
         "y": [
          25442393933759.492,
          "29491920680088.1",
          "34734957850217.4",
          36931927513099.95
         ],
         "yaxis": "y"
        },
        {
         "hovertemplate": "Country Name=Low income<br>Phase=%{x}<br>GDP (in USD)=%{y}<extra></extra>",
         "legendgroup": "Low income",
         "line": {
          "color": "#19d3f3",
          "dash": "solid"
         },
         "marker": {
          "symbol": "circle"
         },
         "mode": "lines+markers",
         "name": "Low income",
         "showlegend": true,
         "type": "scattergl",
         "x": [
          "Pre_Covid",
          "2020",
          "2021",
          "Post_Covid"
         ],
         "xaxis": "x",
         "y": [
          404072588625.77747,
          "439782467036.046",
          "466420564539.205",
          588688209911.927
         ],
         "yaxis": "y"
        },
        {
         "hovertemplate": "Country Name=Lower middle income<br>Phase=%{x}<br>GDP (in USD)=%{y}<extra></extra>",
         "legendgroup": "Lower middle income",
         "line": {
          "color": "#FF6692",
          "dash": "solid"
         },
         "marker": {
          "symbol": "circle"
         },
         "mode": "lines+markers",
         "name": "Lower middle income",
         "showlegend": true,
         "type": "scattergl",
         "x": [
          "Pre_Covid",
          "2020",
          "2021",
          "Post_Covid"
         ],
         "xaxis": "x",
         "y": [
          5058988546146.564,
          "6081790240107.94",
          "6894335373844.59",
          7362926536592.675
         ],
         "yaxis": "y"
        },
        {
         "hovertemplate": "Country Name=Middle East & North Africa<br>Phase=%{x}<br>GDP (in USD)=%{y}<extra></extra>",
         "legendgroup": "Middle East & North Africa",
         "line": {
          "color": "#B6E880",
          "dash": "solid"
         },
         "marker": {
          "symbol": "circle"
         },
         "mode": "lines+markers",
         "name": "Middle East & North Africa",
         "showlegend": true,
         "type": "scattergl",
         "x": [
          "Pre_Covid",
          "2020",
          "2021",
          "Post_Covid"
         ],
         "xaxis": "x",
         "y": [
          3400173731463.3574,
          "3199081953495.53",
          "3780277127064.96",
          4392400482089.59
         ],
         "yaxis": "y"
        },
        {
         "hovertemplate": "Country Name=Middle East & North Africa (excluding high income)<br>Phase=%{x}<br>GDP (in USD)=%{y}<extra></extra>",
         "legendgroup": "Middle East & North Africa (excluding high income)",
         "line": {
          "color": "#FF97FF",
          "dash": "solid"
         },
         "marker": {
          "symbol": "circle"
         },
         "mode": "lines+markers",
         "name": "Middle East & North Africa (excluding high income)",
         "showlegend": true,
         "type": "scattergl",
         "x": [
          "Pre_Covid",
          "2020",
          "2021",
          "Post_Covid"
         ],
         "xaxis": "x",
         "y": [
          1542943288024.033,
          "1324364502715.09",
          "1535302141067.38",
          1703328914304.605
         ],
         "yaxis": "y"
        },
        {
         "hovertemplate": "Country Name=Middle East & North Africa (IDA & IBRD countries)<br>Phase=%{x}<br>GDP (in USD)=%{y}<extra></extra>",
         "legendgroup": "Middle East & North Africa (IDA & IBRD countries)",
         "line": {
          "color": "#FECB52",
          "dash": "solid"
         },
         "marker": {
          "symbol": "circle"
         },
         "mode": "lines+markers",
         "name": "Middle East & North Africa (IDA & IBRD countries)",
         "showlegend": true,
         "type": "scattergl",
         "x": [
          "Pre_Covid",
          "2020",
          "2021",
          "Post_Covid"
         ],
         "xaxis": "x",
         "y": [
          1528993578024.033,
          "1308832802715.09",
          "1517193141067.38",
          1685058791165.135
         ],
         "yaxis": "y"
        },
        {
         "hovertemplate": "Country Name=Middle income<br>Phase=%{x}<br>GDP (in USD)=%{y}<extra></extra>",
         "legendgroup": "Middle income",
         "line": {
          "color": "#636efa",
          "dash": "solid"
         },
         "marker": {
          "symbol": "circle"
         },
         "mode": "lines+markers",
         "name": "Middle income",
         "showlegend": true,
         "type": "scattergl",
         "x": [
          "Pre_Covid",
          "2020",
          "2021",
          "Post_Covid"
         ],
         "xaxis": "x",
         "y": [
          25039024568640.32,
          "29051739634677.8",
          "34266063721746.8",
          36347405907503.35
         ],
         "yaxis": "y"
        },
        {
         "hovertemplate": "Country Name=North America<br>Phase=%{x}<br>GDP (in USD)=%{y}<extra></extra>",
         "legendgroup": "North America",
         "line": {
          "color": "#EF553B",
          "dash": "solid"
         },
         "marker": {
          "symbol": "circle"
         },
         "mode": "lines+markers",
         "name": "North America",
         "showlegend": true,
         "type": "scattergl",
         "x": [
          "Pre_Covid",
          "2020",
          "2021",
          "Post_Covid"
         ],
         "xaxis": "x",
         "y": [
          19744319771728.14,
          "22985521877000.2",
          "25608789788464.2",
          28711357720747.8
         ],
         "yaxis": "y"
        },
        {
         "hovertemplate": "Country Name=Not classified<br>Phase=%{x}<br>GDP (in USD)=%{y}<extra></extra>",
         "legendgroup": "Not classified",
         "line": {
          "color": "#00cc96",
          "dash": "solid"
         },
         "marker": {
          "symbol": "circle"
         },
         "mode": "lines+markers",
         "name": "Not classified",
         "showlegend": true,
         "type": "scattergl",
         "x": [
          "Pre_Covid",
          "2020",
          "2021",
          "Post_Covid"
         ],
         "xaxis": "x",
         "y": [
          null,
          "..",
          "..",
          null
         ],
         "yaxis": "y"
        },
        {
         "hovertemplate": "Country Name=OECD members<br>Phase=%{x}<br>GDP (in USD)=%{y}<extra></extra>",
         "legendgroup": "OECD members",
         "line": {
          "color": "#ab63fa",
          "dash": "solid"
         },
         "marker": {
          "symbol": "circle"
         },
         "mode": "lines+markers",
         "name": "OECD members",
         "showlegend": true,
         "type": "scattergl",
         "x": [
          "Pre_Covid",
          "2020",
          "2021",
          "Post_Covid"
         ],
         "xaxis": "x",
         "y": [
          49662932027056.55,
          "52852896615891.7",
          "58899843230643.7",
          62134479370285.7
         ],
         "yaxis": "y"
        },
        {
         "hovertemplate": "Country Name=Other small states<br>Phase=%{x}<br>GDP (in USD)=%{y}<extra></extra>",
         "legendgroup": "Other small states",
         "line": {
          "color": "#FFA15A",
          "dash": "solid"
         },
         "marker": {
          "symbol": "circle"
         },
         "mode": "lines+markers",
         "name": "Other small states",
         "showlegend": true,
         "type": "scattergl",
         "x": [
          "Pre_Covid",
          "2020",
          "2021",
          "Post_Covid"
         ],
         "xaxis": "x",
         "y": [
          165904863742.1582,
          "178185121948.331",
          "208006924432.84",
          228866702411.3145
         ],
         "yaxis": "y"
        },
        {
         "hovertemplate": "Country Name=Pacific island small states<br>Phase=%{x}<br>GDP (in USD)=%{y}<extra></extra>",
         "legendgroup": "Pacific island small states",
         "line": {
          "color": "#19d3f3",
          "dash": "solid"
         },
         "marker": {
          "symbol": "circle"
         },
         "mode": "lines+markers",
         "name": "Pacific island small states",
         "showlegend": true,
         "type": "scattergl",
         "x": [
          "Pre_Covid",
          "2020",
          "2021",
          "Post_Covid"
         ],
         "xaxis": "x",
         "y": [
          9088141569.74534,
          "9505064735.52033",
          "9493809706.88294",
          10774265473.41235
         ],
         "yaxis": "y"
        },
        {
         "hovertemplate": "Country Name=Post-demographic dividend<br>Phase=%{x}<br>GDP (in USD)=%{y}<extra></extra>",
         "legendgroup": "Post-demographic dividend",
         "line": {
          "color": "#FF6692",
          "dash": "solid"
         },
         "marker": {
          "symbol": "circle"
         },
         "mode": "lines+markers",
         "name": "Post-demographic dividend",
         "showlegend": true,
         "type": "scattergl",
         "x": [
          "Pre_Covid",
          "2020",
          "2021",
          "Post_Covid"
         ],
         "xaxis": "x",
         "y": [
          46734440542671.38,
          "50004904334179.6",
          "55588775180110.4",
          58208001140451.41
         ],
         "yaxis": "y"
        },
        {
         "hovertemplate": "Country Name=Pre-demographic dividend<br>Phase=%{x}<br>GDP (in USD)=%{y}<extra></extra>",
         "legendgroup": "Pre-demographic dividend",
         "line": {
          "color": "#B6E880",
          "dash": "solid"
         },
         "marker": {
          "symbol": "circle"
         },
         "mode": "lines+markers",
         "name": "Pre-demographic dividend",
         "showlegend": true,
         "type": "scattergl",
         "x": [
          "Pre_Covid",
          "2020",
          "2021",
          "Post_Covid"
         ],
         "xaxis": "x",
         "y": [
          1302898943377.6401,
          "1309584194481.23",
          "1435824208115.63",
          1601060381731.1
         ],
         "yaxis": "y"
        },
        {
         "hovertemplate": "Country Name=Small states<br>Phase=%{x}<br>GDP (in USD)=%{y}<extra></extra>",
         "legendgroup": "Small states",
         "line": {
          "color": "#FF97FF",
          "dash": "solid"
         },
         "marker": {
          "symbol": "circle"
         },
         "mode": "lines+markers",
         "name": "Small states",
         "showlegend": true,
         "type": "scattergl",
         "x": [
          "Pre_Covid",
          "2020",
          "2021",
          "Post_Covid"
         ],
         "xaxis": "x",
         "y": [
          208465315233.25122,
          "219068216684.633",
          "254207327038.415",
          290414513841.9505
         ],
         "yaxis": "y"
        },
        {
         "hovertemplate": "Country Name=South Asia<br>Phase=%{x}<br>GDP (in USD)=%{y}<extra></extra>",
         "legendgroup": "South Asia",
         "line": {
          "color": "#FECB52",
          "dash": "solid"
         },
         "marker": {
          "symbol": "circle"
         },
         "mode": "lines+markers",
         "name": "South Asia",
         "showlegend": true,
         "type": "scattergl",
         "x": [
          "Pre_Covid",
          "2020",
          "2021",
          "Post_Covid"
         ],
         "xaxis": "x",
         "y": [
          2808005212668.575,
          "3493120726807.89",
          "4079882760410.17",
          4401428309720.484
         ],
         "yaxis": "y"
        },
        {
         "hovertemplate": "Country Name=South Asia (IDA & IBRD)<br>Phase=%{x}<br>GDP (in USD)=%{y}<extra></extra>",
         "legendgroup": "South Asia (IDA & IBRD)",
         "line": {
          "color": "#636efa",
          "dash": "solid"
         },
         "marker": {
          "symbol": "circle"
         },
         "mode": "lines+markers",
         "name": "South Asia (IDA & IBRD)",
         "showlegend": true,
         "type": "scattergl",
         "x": [
          "Pre_Covid",
          "2020",
          "2021",
          "Post_Covid"
         ],
         "xaxis": "x",
         "y": [
          2808005212668.575,
          "3493120726807.89",
          "4079882760410.17",
          4401428309720.484
         ],
         "yaxis": "y"
        },
        {
         "hovertemplate": "Country Name=Sub-Saharan Africa<br>Phase=%{x}<br>GDP (in USD)=%{y}<extra></extra>",
         "legendgroup": "Sub-Saharan Africa",
         "line": {
          "color": "#EF553B",
          "dash": "solid"
         },
         "marker": {
          "symbol": "circle"
         },
         "mode": "lines+markers",
         "name": "Sub-Saharan Africa",
         "showlegend": true,
         "type": "scattergl",
         "x": [
          "Pre_Covid",
          "2020",
          "2021",
          "Post_Covid"
         ],
         "xaxis": "x",
         "y": [
          1686593759594.436,
          "1716220805506.51",
          "1932765211586.67",
          2046926070936.145
         ],
         "yaxis": "y"
        },
        {
         "hovertemplate": "Country Name=Sub-Saharan Africa (excluding high income)<br>Phase=%{x}<br>GDP (in USD)=%{y}<extra></extra>",
         "legendgroup": "Sub-Saharan Africa (excluding high income)",
         "line": {
          "color": "#00cc96",
          "dash": "solid"
         },
         "marker": {
          "symbol": "circle"
         },
         "mode": "lines+markers",
         "name": "Sub-Saharan Africa (excluding high income)",
         "showlegend": true,
         "type": "scattergl",
         "x": [
          "Pre_Covid",
          "2020",
          "2021",
          "Post_Covid"
         ],
         "xaxis": "x",
         "y": [
          1685175762321.3328,
          "1714838253754.94",
          "1931278037791.87",
          2044826361590.66
         ],
         "yaxis": "y"
        },
        {
         "hovertemplate": "Country Name=Sub-Saharan Africa (IDA & IBRD countries)<br>Phase=%{x}<br>GDP (in USD)=%{y}<extra></extra>",
         "legendgroup": "Sub-Saharan Africa (IDA & IBRD countries)",
         "line": {
          "color": "#ab63fa",
          "dash": "solid"
         },
         "marker": {
          "symbol": "circle"
         },
         "mode": "lines+markers",
         "name": "Sub-Saharan Africa (IDA & IBRD countries)",
         "showlegend": true,
         "type": "scattergl",
         "x": [
          "Pre_Covid",
          "2020",
          "2021",
          "Post_Covid"
         ],
         "xaxis": "x",
         "y": [
          1686593759594.436,
          "1716220805506.51",
          "1932765211586.67",
          2046926070936.145
         ],
         "yaxis": "y"
        },
        {
         "hovertemplate": "Country Name=Upper middle income<br>Phase=%{x}<br>GDP (in USD)=%{y}<extra></extra>",
         "legendgroup": "Upper middle income",
         "line": {
          "color": "#FFA15A",
          "dash": "solid"
         },
         "marker": {
          "symbol": "circle"
         },
         "mode": "lines+markers",
         "name": "Upper middle income",
         "showlegend": true,
         "type": "scattergl",
         "x": [
          "Pre_Covid",
          "2020",
          "2021",
          "Post_Covid"
         ],
         "xaxis": "x",
         "y": [
          19980036022493.758,
          "22969949394569.8",
          "27373038582479.3",
          28985635236055.3
         ],
         "yaxis": "y"
        },
        {
         "hovertemplate": "Country Name=World<br>Phase=%{x}<br>GDP (in USD)=%{y}<extra></extra>",
         "legendgroup": "World",
         "line": {
          "color": "#19d3f3",
          "dash": "solid"
         },
         "marker": {
          "symbol": "circle"
         },
         "mode": "lines+markers",
         "name": "World",
         "showlegend": true,
         "type": "scattergl",
         "x": [
          "Pre_Covid",
          "2020",
          "2021",
          "Post_Covid"
         ],
         "xaxis": "x",
         "y": [
          78185278688782.05,
          "85577718250195.5",
          "97527032881901.1",
          103330049549193.5
         ],
         "yaxis": "y"
        }
       ],
       "layout": {
        "legend": {
         "title": {
          "text": "Country Name"
         },
         "tracegroupgap": 0
        },
        "template": {
         "data": {
          "bar": [
           {
            "error_x": {
             "color": "#2a3f5f"
            },
            "error_y": {
             "color": "#2a3f5f"
            },
            "marker": {
             "line": {
              "color": "#E5ECF6",
              "width": 0.5
             },
             "pattern": {
              "fillmode": "overlay",
              "size": 10,
              "solidity": 0.2
             }
            },
            "type": "bar"
           }
          ],
          "barpolar": [
           {
            "marker": {
             "line": {
              "color": "#E5ECF6",
              "width": 0.5
             },
             "pattern": {
              "fillmode": "overlay",
              "size": 10,
              "solidity": 0.2
             }
            },
            "type": "barpolar"
           }
          ],
          "carpet": [
           {
            "aaxis": {
             "endlinecolor": "#2a3f5f",
             "gridcolor": "white",
             "linecolor": "white",
             "minorgridcolor": "white",
             "startlinecolor": "#2a3f5f"
            },
            "baxis": {
             "endlinecolor": "#2a3f5f",
             "gridcolor": "white",
             "linecolor": "white",
             "minorgridcolor": "white",
             "startlinecolor": "#2a3f5f"
            },
            "type": "carpet"
           }
          ],
          "choropleth": [
           {
            "colorbar": {
             "outlinewidth": 0,
             "ticks": ""
            },
            "type": "choropleth"
           }
          ],
          "contour": [
           {
            "colorbar": {
             "outlinewidth": 0,
             "ticks": ""
            },
            "colorscale": [
             [
              0,
              "#0d0887"
             ],
             [
              0.1111111111111111,
              "#46039f"
             ],
             [
              0.2222222222222222,
              "#7201a8"
             ],
             [
              0.3333333333333333,
              "#9c179e"
             ],
             [
              0.4444444444444444,
              "#bd3786"
             ],
             [
              0.5555555555555556,
              "#d8576b"
             ],
             [
              0.6666666666666666,
              "#ed7953"
             ],
             [
              0.7777777777777778,
              "#fb9f3a"
             ],
             [
              0.8888888888888888,
              "#fdca26"
             ],
             [
              1,
              "#f0f921"
             ]
            ],
            "type": "contour"
           }
          ],
          "contourcarpet": [
           {
            "colorbar": {
             "outlinewidth": 0,
             "ticks": ""
            },
            "type": "contourcarpet"
           }
          ],
          "heatmap": [
           {
            "colorbar": {
             "outlinewidth": 0,
             "ticks": ""
            },
            "colorscale": [
             [
              0,
              "#0d0887"
             ],
             [
              0.1111111111111111,
              "#46039f"
             ],
             [
              0.2222222222222222,
              "#7201a8"
             ],
             [
              0.3333333333333333,
              "#9c179e"
             ],
             [
              0.4444444444444444,
              "#bd3786"
             ],
             [
              0.5555555555555556,
              "#d8576b"
             ],
             [
              0.6666666666666666,
              "#ed7953"
             ],
             [
              0.7777777777777778,
              "#fb9f3a"
             ],
             [
              0.8888888888888888,
              "#fdca26"
             ],
             [
              1,
              "#f0f921"
             ]
            ],
            "type": "heatmap"
           }
          ],
          "heatmapgl": [
           {
            "colorbar": {
             "outlinewidth": 0,
             "ticks": ""
            },
            "colorscale": [
             [
              0,
              "#0d0887"
             ],
             [
              0.1111111111111111,
              "#46039f"
             ],
             [
              0.2222222222222222,
              "#7201a8"
             ],
             [
              0.3333333333333333,
              "#9c179e"
             ],
             [
              0.4444444444444444,
              "#bd3786"
             ],
             [
              0.5555555555555556,
              "#d8576b"
             ],
             [
              0.6666666666666666,
              "#ed7953"
             ],
             [
              0.7777777777777778,
              "#fb9f3a"
             ],
             [
              0.8888888888888888,
              "#fdca26"
             ],
             [
              1,
              "#f0f921"
             ]
            ],
            "type": "heatmapgl"
           }
          ],
          "histogram": [
           {
            "marker": {
             "pattern": {
              "fillmode": "overlay",
              "size": 10,
              "solidity": 0.2
             }
            },
            "type": "histogram"
           }
          ],
          "histogram2d": [
           {
            "colorbar": {
             "outlinewidth": 0,
             "ticks": ""
            },
            "colorscale": [
             [
              0,
              "#0d0887"
             ],
             [
              0.1111111111111111,
              "#46039f"
             ],
             [
              0.2222222222222222,
              "#7201a8"
             ],
             [
              0.3333333333333333,
              "#9c179e"
             ],
             [
              0.4444444444444444,
              "#bd3786"
             ],
             [
              0.5555555555555556,
              "#d8576b"
             ],
             [
              0.6666666666666666,
              "#ed7953"
             ],
             [
              0.7777777777777778,
              "#fb9f3a"
             ],
             [
              0.8888888888888888,
              "#fdca26"
             ],
             [
              1,
              "#f0f921"
             ]
            ],
            "type": "histogram2d"
           }
          ],
          "histogram2dcontour": [
           {
            "colorbar": {
             "outlinewidth": 0,
             "ticks": ""
            },
            "colorscale": [
             [
              0,
              "#0d0887"
             ],
             [
              0.1111111111111111,
              "#46039f"
             ],
             [
              0.2222222222222222,
              "#7201a8"
             ],
             [
              0.3333333333333333,
              "#9c179e"
             ],
             [
              0.4444444444444444,
              "#bd3786"
             ],
             [
              0.5555555555555556,
              "#d8576b"
             ],
             [
              0.6666666666666666,
              "#ed7953"
             ],
             [
              0.7777777777777778,
              "#fb9f3a"
             ],
             [
              0.8888888888888888,
              "#fdca26"
             ],
             [
              1,
              "#f0f921"
             ]
            ],
            "type": "histogram2dcontour"
           }
          ],
          "mesh3d": [
           {
            "colorbar": {
             "outlinewidth": 0,
             "ticks": ""
            },
            "type": "mesh3d"
           }
          ],
          "parcoords": [
           {
            "line": {
             "colorbar": {
              "outlinewidth": 0,
              "ticks": ""
             }
            },
            "type": "parcoords"
           }
          ],
          "pie": [
           {
            "automargin": true,
            "type": "pie"
           }
          ],
          "scatter": [
           {
            "fillpattern": {
             "fillmode": "overlay",
             "size": 10,
             "solidity": 0.2
            },
            "type": "scatter"
           }
          ],
          "scatter3d": [
           {
            "line": {
             "colorbar": {
              "outlinewidth": 0,
              "ticks": ""
             }
            },
            "marker": {
             "colorbar": {
              "outlinewidth": 0,
              "ticks": ""
             }
            },
            "type": "scatter3d"
           }
          ],
          "scattercarpet": [
           {
            "marker": {
             "colorbar": {
              "outlinewidth": 0,
              "ticks": ""
             }
            },
            "type": "scattercarpet"
           }
          ],
          "scattergeo": [
           {
            "marker": {
             "colorbar": {
              "outlinewidth": 0,
              "ticks": ""
             }
            },
            "type": "scattergeo"
           }
          ],
          "scattergl": [
           {
            "marker": {
             "colorbar": {
              "outlinewidth": 0,
              "ticks": ""
             }
            },
            "type": "scattergl"
           }
          ],
          "scattermapbox": [
           {
            "marker": {
             "colorbar": {
              "outlinewidth": 0,
              "ticks": ""
             }
            },
            "type": "scattermapbox"
           }
          ],
          "scatterpolar": [
           {
            "marker": {
             "colorbar": {
              "outlinewidth": 0,
              "ticks": ""
             }
            },
            "type": "scatterpolar"
           }
          ],
          "scatterpolargl": [
           {
            "marker": {
             "colorbar": {
              "outlinewidth": 0,
              "ticks": ""
             }
            },
            "type": "scatterpolargl"
           }
          ],
          "scatterternary": [
           {
            "marker": {
             "colorbar": {
              "outlinewidth": 0,
              "ticks": ""
             }
            },
            "type": "scatterternary"
           }
          ],
          "surface": [
           {
            "colorbar": {
             "outlinewidth": 0,
             "ticks": ""
            },
            "colorscale": [
             [
              0,
              "#0d0887"
             ],
             [
              0.1111111111111111,
              "#46039f"
             ],
             [
              0.2222222222222222,
              "#7201a8"
             ],
             [
              0.3333333333333333,
              "#9c179e"
             ],
             [
              0.4444444444444444,
              "#bd3786"
             ],
             [
              0.5555555555555556,
              "#d8576b"
             ],
             [
              0.6666666666666666,
              "#ed7953"
             ],
             [
              0.7777777777777778,
              "#fb9f3a"
             ],
             [
              0.8888888888888888,
              "#fdca26"
             ],
             [
              1,
              "#f0f921"
             ]
            ],
            "type": "surface"
           }
          ],
          "table": [
           {
            "cells": {
             "fill": {
              "color": "#EBF0F8"
             },
             "line": {
              "color": "white"
             }
            },
            "header": {
             "fill": {
              "color": "#C8D4E3"
             },
             "line": {
              "color": "white"
             }
            },
            "type": "table"
           }
          ]
         },
         "layout": {
          "annotationdefaults": {
           "arrowcolor": "#2a3f5f",
           "arrowhead": 0,
           "arrowwidth": 1
          },
          "autotypenumbers": "strict",
          "coloraxis": {
           "colorbar": {
            "outlinewidth": 0,
            "ticks": ""
           }
          },
          "colorscale": {
           "diverging": [
            [
             0,
             "#8e0152"
            ],
            [
             0.1,
             "#c51b7d"
            ],
            [
             0.2,
             "#de77ae"
            ],
            [
             0.3,
             "#f1b6da"
            ],
            [
             0.4,
             "#fde0ef"
            ],
            [
             0.5,
             "#f7f7f7"
            ],
            [
             0.6,
             "#e6f5d0"
            ],
            [
             0.7,
             "#b8e186"
            ],
            [
             0.8,
             "#7fbc41"
            ],
            [
             0.9,
             "#4d9221"
            ],
            [
             1,
             "#276419"
            ]
           ],
           "sequential": [
            [
             0,
             "#0d0887"
            ],
            [
             0.1111111111111111,
             "#46039f"
            ],
            [
             0.2222222222222222,
             "#7201a8"
            ],
            [
             0.3333333333333333,
             "#9c179e"
            ],
            [
             0.4444444444444444,
             "#bd3786"
            ],
            [
             0.5555555555555556,
             "#d8576b"
            ],
            [
             0.6666666666666666,
             "#ed7953"
            ],
            [
             0.7777777777777778,
             "#fb9f3a"
            ],
            [
             0.8888888888888888,
             "#fdca26"
            ],
            [
             1,
             "#f0f921"
            ]
           ],
           "sequentialminus": [
            [
             0,
             "#0d0887"
            ],
            [
             0.1111111111111111,
             "#46039f"
            ],
            [
             0.2222222222222222,
             "#7201a8"
            ],
            [
             0.3333333333333333,
             "#9c179e"
            ],
            [
             0.4444444444444444,
             "#bd3786"
            ],
            [
             0.5555555555555556,
             "#d8576b"
            ],
            [
             0.6666666666666666,
             "#ed7953"
            ],
            [
             0.7777777777777778,
             "#fb9f3a"
            ],
            [
             0.8888888888888888,
             "#fdca26"
            ],
            [
             1,
             "#f0f921"
            ]
           ]
          },
          "colorway": [
           "#636efa",
           "#EF553B",
           "#00cc96",
           "#ab63fa",
           "#FFA15A",
           "#19d3f3",
           "#FF6692",
           "#B6E880",
           "#FF97FF",
           "#FECB52"
          ],
          "font": {
           "color": "#2a3f5f"
          },
          "geo": {
           "bgcolor": "white",
           "lakecolor": "white",
           "landcolor": "#E5ECF6",
           "showlakes": true,
           "showland": true,
           "subunitcolor": "white"
          },
          "hoverlabel": {
           "align": "left"
          },
          "hovermode": "closest",
          "mapbox": {
           "style": "light"
          },
          "paper_bgcolor": "white",
          "plot_bgcolor": "#E5ECF6",
          "polar": {
           "angularaxis": {
            "gridcolor": "white",
            "linecolor": "white",
            "ticks": ""
           },
           "bgcolor": "#E5ECF6",
           "radialaxis": {
            "gridcolor": "white",
            "linecolor": "white",
            "ticks": ""
           }
          },
          "scene": {
           "xaxis": {
            "backgroundcolor": "#E5ECF6",
            "gridcolor": "white",
            "gridwidth": 2,
            "linecolor": "white",
            "showbackground": true,
            "ticks": "",
            "zerolinecolor": "white"
           },
           "yaxis": {
            "backgroundcolor": "#E5ECF6",
            "gridcolor": "white",
            "gridwidth": 2,
            "linecolor": "white",
            "showbackground": true,
            "ticks": "",
            "zerolinecolor": "white"
           },
           "zaxis": {
            "backgroundcolor": "#E5ECF6",
            "gridcolor": "white",
            "gridwidth": 2,
            "linecolor": "white",
            "showbackground": true,
            "ticks": "",
            "zerolinecolor": "white"
           }
          },
          "shapedefaults": {
           "line": {
            "color": "#2a3f5f"
           }
          },
          "ternary": {
           "aaxis": {
            "gridcolor": "white",
            "linecolor": "white",
            "ticks": ""
           },
           "baxis": {
            "gridcolor": "white",
            "linecolor": "white",
            "ticks": ""
           },
           "bgcolor": "#E5ECF6",
           "caxis": {
            "gridcolor": "white",
            "linecolor": "white",
            "ticks": ""
           }
          },
          "title": {
           "x": 0.05
          },
          "xaxis": {
           "automargin": true,
           "gridcolor": "white",
           "linecolor": "white",
           "ticks": "",
           "title": {
            "standoff": 15
           },
           "zerolinecolor": "white",
           "zerolinewidth": 2
          },
          "yaxis": {
           "automargin": true,
           "gridcolor": "white",
           "linecolor": "white",
           "ticks": "",
           "title": {
            "standoff": 15
           },
           "zerolinecolor": "white",
           "zerolinewidth": 2
          }
         }
        },
        "title": {
         "text": "Impact of Covid-19 on GDP"
        },
        "xaxis": {
         "anchor": "y",
         "domain": [
          0,
          1
         ],
         "title": {
          "text": "Phase"
         }
        },
        "yaxis": {
         "anchor": "x",
         "domain": [
          0,
          1
         ],
         "title": {
          "text": "GDP (in USD)"
         }
        }
       }
      }
     },
     "metadata": {},
     "output_type": "display_data"
    }
   ],
   "source": [
    "create_gdp_line_chart(melted_data)"
   ]
  }
 ],
 "metadata": {
  "kernelspec": {
   "display_name": "ml",
   "language": "python",
   "name": "python3"
  },
  "language_info": {
   "codemirror_mode": {
    "name": "ipython",
    "version": 3
   },
   "file_extension": ".py",
   "mimetype": "text/x-python",
   "name": "python",
   "nbconvert_exporter": "python",
   "pygments_lexer": "ipython3",
   "version": "3.10.0"
  }
 },
 "nbformat": 4,
 "nbformat_minor": 2
}
